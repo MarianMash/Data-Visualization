{
 "cells": [
  {
   "cell_type": "code",
   "execution_count": 15,
   "metadata": {},
   "outputs": [],
   "source": [
    "\n",
    "import pandas as pd\n",
    "import json\n",
    "import geopandas as gpd\n"
   ]
  },
  {
   "cell_type": "code",
   "execution_count": 95,
   "metadata": {},
   "outputs": [],
   "source": [
    "file = pd.read_csv(\"Dataset_melted.csv\")\n",
    "file.drop(['Unnamed: 0'],axis = 1,inplace=True)\n",
    "file\n",
    "\n",
    "with open(\"/Users/masha/Documents/GitHub/Data-Visualization/custom.geo-2.json\") as f:\n",
    "    geo_world = json.load(f)\n",
    "\n",
    "\n",
    "world = gpd.read_file(gpd.datasets.get_path('naturalearth_lowres'))\n",
    "file[\"Country\"].replace(\"United States\",\"United States of America\",inplace= True)\n",
    "world.loc[world[\"name\"]==\"France\",\"iso_a3\"] = \"FRA\"\n",
    "world.loc[world[\"name\"]==\"Norway\",\"iso_a3\"] = \"NOR\"\n",
    "\n",
    "test = file.merge(world, left_on = \"Country\",right_on = \"name\",how = \"left\")\n",
    "\n",
    "lol = test[~test[\"iso_a3\"].isna()][[\"Country\"]].drop_duplicates()\n",
    "liste = lol[\"Country\"].to_list()\n",
    "\n",
    "test = test[test[\"Country\"].isin(liste)]\n",
    "liste2 = [str(i) for i in range(1990,2021)]\n",
    "test = test[test[\"Year\"].isin(liste2)]\n",
    "\n",
    "\n",
    "test.to_csv(\"ActualDataset.csv\")"
   ]
  }
 ],
 "metadata": {
  "interpreter": {
   "hash": "714340d0a253b5b8eccbbe1a50241ce94ec688c52e45e5cc3109e13393bc02a4"
  },
  "kernelspec": {
   "display_name": "Python 3.9.12 ('mlp')",
   "language": "python",
   "name": "python3"
  },
  "language_info": {
   "codemirror_mode": {
    "name": "ipython",
    "version": 3
   },
   "file_extension": ".py",
   "mimetype": "text/x-python",
   "name": "python",
   "nbconvert_exporter": "python",
   "pygments_lexer": "ipython3",
   "version": "3.9.12"
  },
  "orig_nbformat": 4
 },
 "nbformat": 4,
 "nbformat_minor": 2
}
