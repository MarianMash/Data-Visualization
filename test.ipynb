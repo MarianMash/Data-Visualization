{
 "cells": [
  {
   "cell_type": "code",
   "execution_count": 29,
   "metadata": {},
   "outputs": [],
   "source": [
    "import numpy as np\n",
    "import plotly.graph_objects as go\n",
    "import pandas as pd\n",
    "import plotly.express as px\n",
    "file = pd.read_csv(\"ActualDataset.csv\")"
   ]
  },
  {
   "cell_type": "code",
   "execution_count": 2,
   "metadata": {},
   "outputs": [
    {
     "data": {
      "text/html": [
       "<div>\n",
       "<style scoped>\n",
       "    .dataframe tbody tr th:only-of-type {\n",
       "        vertical-align: middle;\n",
       "    }\n",
       "\n",
       "    .dataframe tbody tr th {\n",
       "        vertical-align: top;\n",
       "    }\n",
       "\n",
       "    .dataframe thead th {\n",
       "        text-align: right;\n",
       "    }\n",
       "</style>\n",
       "<table border=\"1\" class=\"dataframe\">\n",
       "  <thead>\n",
       "    <tr style=\"text-align: right;\">\n",
       "      <th></th>\n",
       "      <th>Country</th>\n",
       "      <th>Year</th>\n",
       "      <th>Total energy production (Mtoe)</th>\n",
       "      <th>Energy balance of trade (Mtoe)</th>\n",
       "      <th>Total energy consumption (Mtoe)</th>\n",
       "      <th>Energy intensity of GDP at constant purchasing power parities (koe/$15p)</th>\n",
       "      <th>Crude oil production (Mt)</th>\n",
       "      <th>Crude oil balance of trade (Mt)</th>\n",
       "      <th>Refined oil products production (Mt)</th>\n",
       "      <th>Oil products balance of trade (Mt)</th>\n",
       "      <th>...</th>\n",
       "      <th>Coal and lignite domestic consumption (Mt)</th>\n",
       "      <th>Electricity production (TWh)</th>\n",
       "      <th>Electricity balance of trade (TWh)</th>\n",
       "      <th>Electricity domestic consumption (TWh)</th>\n",
       "      <th>Share of electricity in total final energy consumption (%)</th>\n",
       "      <th>Share of renewables in electricity production (%)</th>\n",
       "      <th>Share of wind and solar in electricity production (%)</th>\n",
       "      <th>CO2 emissions from fuel combustion (MtCO2)</th>\n",
       "      <th>CO2 intensity at constant purchasing power parities (kCO2/$15p)</th>\n",
       "      <th>Average CO2 emission factor (tCO2/toe)</th>\n",
       "    </tr>\n",
       "  </thead>\n",
       "  <tbody>\n",
       "    <tr>\n",
       "      <th>0</th>\n",
       "      <td>World</td>\n",
       "      <td>1990</td>\n",
       "      <td>8795.699021</td>\n",
       "      <td>NaN</td>\n",
       "      <td>8758.396343</td>\n",
       "      <td>0.177042</td>\n",
       "      <td>3175.762068</td>\n",
       "      <td>NaN</td>\n",
       "      <td>3156.059864</td>\n",
       "      <td>NaN</td>\n",
       "      <td>...</td>\n",
       "      <td>4665.270216</td>\n",
       "      <td>11878.583312</td>\n",
       "      <td>NaN</td>\n",
       "      <td>10121.21255</td>\n",
       "      <td>13.067703</td>\n",
       "      <td>19.754966</td>\n",
       "      <td>0.517099</td>\n",
       "      <td>20315.795360</td>\n",
       "      <td>0.410663</td>\n",
       "      <td>2.319579</td>\n",
       "    </tr>\n",
       "    <tr>\n",
       "      <th>1</th>\n",
       "      <td>OECD</td>\n",
       "      <td>1990</td>\n",
       "      <td>3442.024456</td>\n",
       "      <td>1250.919251</td>\n",
       "      <td>4523.477807</td>\n",
       "      <td>0.146683</td>\n",
       "      <td>894.666</td>\n",
       "      <td>948.867</td>\n",
       "      <td>1830.170000</td>\n",
       "      <td>120.704</td>\n",
       "      <td>...</td>\n",
       "      <td>2334.307792</td>\n",
       "      <td>7700.825000</td>\n",
       "      <td>14.978</td>\n",
       "      <td>6653.19100</td>\n",
       "      <td>17.493746</td>\n",
       "      <td>17.737009</td>\n",
       "      <td>0.695627</td>\n",
       "      <td>11194.886292</td>\n",
       "      <td>0.363017</td>\n",
       "      <td>2.474841</td>\n",
       "    </tr>\n",
       "    <tr>\n",
       "      <th>2</th>\n",
       "      <td>G7</td>\n",
       "      <td>1990</td>\n",
       "      <td>2531.306227</td>\n",
       "      <td>1079.629710</td>\n",
       "      <td>3489.855546</td>\n",
       "      <td>0.153167</td>\n",
       "      <td>610.795</td>\n",
       "      <td>774.900</td>\n",
       "      <td>1380.913000</td>\n",
       "      <td>115.365</td>\n",
       "      <td>...</td>\n",
       "      <td>1599.553542</td>\n",
       "      <td>6078.549000</td>\n",
       "      <td>3.721</td>\n",
       "      <td>5236.17400</td>\n",
       "      <td>17.996136</td>\n",
       "      <td>15.140998</td>\n",
       "      <td>0.738893</td>\n",
       "      <td>8623.236340</td>\n",
       "      <td>0.378467</td>\n",
       "      <td>2.470944</td>\n",
       "    </tr>\n",
       "    <tr>\n",
       "      <th>3</th>\n",
       "      <td>BRICS</td>\n",
       "      <td>1990</td>\n",
       "      <td>2673.315626</td>\n",
       "      <td>-399.307412</td>\n",
       "      <td>2289.057316</td>\n",
       "      <td>0.280183</td>\n",
       "      <td>733.732</td>\n",
       "      <td>-162.375</td>\n",
       "      <td>540.547000</td>\n",
       "      <td>-55.257</td>\n",
       "      <td>...</td>\n",
       "      <td>1760.78672</td>\n",
       "      <td>2382.937000</td>\n",
       "      <td>20.179</td>\n",
       "      <td>1992.73500</td>\n",
       "      <td>9.052268</td>\n",
       "      <td>24.250578</td>\n",
       "      <td>0.005372</td>\n",
       "      <td>5413.287037</td>\n",
       "      <td>0.662593</td>\n",
       "      <td>2.364854</td>\n",
       "    </tr>\n",
       "    <tr>\n",
       "      <th>4</th>\n",
       "      <td>Europe</td>\n",
       "      <td>1990</td>\n",
       "      <td>1128.130203</td>\n",
       "      <td>711.406231</td>\n",
       "      <td>1776.397786</td>\n",
       "      <td>0.123669</td>\n",
       "      <td>220.206</td>\n",
       "      <td>469.723</td>\n",
       "      <td>702.323000</td>\n",
       "      <td>36.325</td>\n",
       "      <td>...</td>\n",
       "      <td>1351.414316</td>\n",
       "      <td>2898.592000</td>\n",
       "      <td>25.204</td>\n",
       "      <td>2515.30200</td>\n",
       "      <td>16.413384</td>\n",
       "      <td>18.043105</td>\n",
       "      <td>0.177396</td>\n",
       "      <td>4400.835846</td>\n",
       "      <td>0.306377</td>\n",
       "      <td>2.477393</td>\n",
       "    </tr>\n",
       "    <tr>\n",
       "      <th>...</th>\n",
       "      <td>...</td>\n",
       "      <td>...</td>\n",
       "      <td>...</td>\n",
       "      <td>...</td>\n",
       "      <td>...</td>\n",
       "      <td>...</td>\n",
       "      <td>...</td>\n",
       "      <td>...</td>\n",
       "      <td>...</td>\n",
       "      <td>...</td>\n",
       "      <td>...</td>\n",
       "      <td>...</td>\n",
       "      <td>...</td>\n",
       "      <td>...</td>\n",
       "      <td>...</td>\n",
       "      <td>...</td>\n",
       "      <td>...</td>\n",
       "      <td>...</td>\n",
       "      <td>...</td>\n",
       "      <td>...</td>\n",
       "      <td>...</td>\n",
       "    </tr>\n",
       "    <tr>\n",
       "      <th>2021</th>\n",
       "      <td>South Africa</td>\n",
       "      <td>2000 - 2020 (points)</td>\n",
       "      <td>NaN</td>\n",
       "      <td>NaN</td>\n",
       "      <td>NaN</td>\n",
       "      <td>NaN</td>\n",
       "      <td>NaN</td>\n",
       "      <td>NaN</td>\n",
       "      <td>NaN</td>\n",
       "      <td>NaN</td>\n",
       "      <td>...</td>\n",
       "      <td>NaN</td>\n",
       "      <td>NaN</td>\n",
       "      <td>NaN</td>\n",
       "      <td>NaN</td>\n",
       "      <td>-0.526246</td>\n",
       "      <td>5.547595</td>\n",
       "      <td>4.912949</td>\n",
       "      <td>NaN</td>\n",
       "      <td>NaN</td>\n",
       "      <td>NaN</td>\n",
       "    </tr>\n",
       "    <tr>\n",
       "      <th>2022</th>\n",
       "      <td>Middle-East</td>\n",
       "      <td>2000 - 2020 (points)</td>\n",
       "      <td>NaN</td>\n",
       "      <td>NaN</td>\n",
       "      <td>NaN</td>\n",
       "      <td>NaN</td>\n",
       "      <td>NaN</td>\n",
       "      <td>NaN</td>\n",
       "      <td>NaN</td>\n",
       "      <td>NaN</td>\n",
       "      <td>...</td>\n",
       "      <td>NaN</td>\n",
       "      <td>NaN</td>\n",
       "      <td>NaN</td>\n",
       "      <td>NaN</td>\n",
       "      <td>3.425373</td>\n",
       "      <td>1.435167</td>\n",
       "      <td>1.092862</td>\n",
       "      <td>NaN</td>\n",
       "      <td>NaN</td>\n",
       "      <td>NaN</td>\n",
       "    </tr>\n",
       "    <tr>\n",
       "      <th>2023</th>\n",
       "      <td>Iran</td>\n",
       "      <td>2000 - 2020 (points)</td>\n",
       "      <td>NaN</td>\n",
       "      <td>NaN</td>\n",
       "      <td>NaN</td>\n",
       "      <td>NaN</td>\n",
       "      <td>NaN</td>\n",
       "      <td>NaN</td>\n",
       "      <td>NaN</td>\n",
       "      <td>NaN</td>\n",
       "      <td>...</td>\n",
       "      <td>NaN</td>\n",
       "      <td>NaN</td>\n",
       "      <td>NaN</td>\n",
       "      <td>NaN</td>\n",
       "      <td>2.981044</td>\n",
       "      <td>3.887647</td>\n",
       "      <td>0.202566</td>\n",
       "      <td>NaN</td>\n",
       "      <td>NaN</td>\n",
       "      <td>NaN</td>\n",
       "    </tr>\n",
       "    <tr>\n",
       "      <th>2024</th>\n",
       "      <td>Kuwait</td>\n",
       "      <td>2000 - 2020 (points)</td>\n",
       "      <td>NaN</td>\n",
       "      <td>NaN</td>\n",
       "      <td>NaN</td>\n",
       "      <td>NaN</td>\n",
       "      <td>NaN</td>\n",
       "      <td>NaN</td>\n",
       "      <td>NaN</td>\n",
       "      <td>NaN</td>\n",
       "      <td>...</td>\n",
       "      <td>NaN</td>\n",
       "      <td>NaN</td>\n",
       "      <td>NaN</td>\n",
       "      <td>NaN</td>\n",
       "      <td>1.595142</td>\n",
       "      <td>0.058564</td>\n",
       "      <td>0.271767</td>\n",
       "      <td>NaN</td>\n",
       "      <td>NaN</td>\n",
       "      <td>NaN</td>\n",
       "    </tr>\n",
       "    <tr>\n",
       "      <th>2025</th>\n",
       "      <td>Saudi Arabia</td>\n",
       "      <td>2000 - 2020 (points)</td>\n",
       "      <td>NaN</td>\n",
       "      <td>NaN</td>\n",
       "      <td>NaN</td>\n",
       "      <td>NaN</td>\n",
       "      <td>NaN</td>\n",
       "      <td>NaN</td>\n",
       "      <td>NaN</td>\n",
       "      <td>NaN</td>\n",
       "      <td>...</td>\n",
       "      <td>NaN</td>\n",
       "      <td>NaN</td>\n",
       "      <td>NaN</td>\n",
       "      <td>NaN</td>\n",
       "      <td>4.114725</td>\n",
       "      <td>0.002146</td>\n",
       "      <td>0.200759</td>\n",
       "      <td>NaN</td>\n",
       "      <td>NaN</td>\n",
       "      <td>NaN</td>\n",
       "    </tr>\n",
       "  </tbody>\n",
       "</table>\n",
       "<p>2026 rows × 27 columns</p>\n",
       "</div>"
      ],
      "text/plain": [
       "           Country                   Year  Total energy production (Mtoe)  \\\n",
       "0            World                   1990                     8795.699021   \n",
       "1             OECD                   1990                     3442.024456   \n",
       "2               G7                   1990                     2531.306227   \n",
       "3            BRICS                   1990                     2673.315626   \n",
       "4           Europe                   1990                     1128.130203   \n",
       "...            ...                    ...                             ...   \n",
       "2021  South Africa  2000 - 2020 (points)                              NaN   \n",
       "2022   Middle-East  2000 - 2020 (points)                              NaN   \n",
       "2023          Iran  2000 - 2020 (points)                              NaN   \n",
       "2024        Kuwait  2000 - 2020 (points)                              NaN   \n",
       "2025  Saudi Arabia  2000 - 2020 (points)                              NaN   \n",
       "\n",
       "      Energy balance of trade (Mtoe)  Total energy consumption (Mtoe)  \\\n",
       "0                                NaN                      8758.396343   \n",
       "1                        1250.919251                      4523.477807   \n",
       "2                        1079.629710                      3489.855546   \n",
       "3                        -399.307412                      2289.057316   \n",
       "4                         711.406231                      1776.397786   \n",
       "...                              ...                              ...   \n",
       "2021                             NaN                              NaN   \n",
       "2022                             NaN                              NaN   \n",
       "2023                             NaN                              NaN   \n",
       "2024                             NaN                              NaN   \n",
       "2025                             NaN                              NaN   \n",
       "\n",
       "      Energy intensity of GDP at constant purchasing power parities (koe/$15p)  \\\n",
       "0                                              0.177042                          \n",
       "1                                              0.146683                          \n",
       "2                                              0.153167                          \n",
       "3                                              0.280183                          \n",
       "4                                              0.123669                          \n",
       "...                                                 ...                          \n",
       "2021                                                NaN                          \n",
       "2022                                                NaN                          \n",
       "2023                                                NaN                          \n",
       "2024                                                NaN                          \n",
       "2025                                                NaN                          \n",
       "\n",
       "     Crude oil production (Mt)  Crude oil balance of trade (Mt)  \\\n",
       "0                  3175.762068                              NaN   \n",
       "1                      894.666                          948.867   \n",
       "2                      610.795                          774.900   \n",
       "3                      733.732                         -162.375   \n",
       "4                      220.206                          469.723   \n",
       "...                        ...                              ...   \n",
       "2021                       NaN                              NaN   \n",
       "2022                       NaN                              NaN   \n",
       "2023                       NaN                              NaN   \n",
       "2024                       NaN                              NaN   \n",
       "2025                       NaN                              NaN   \n",
       "\n",
       "      Refined oil products production (Mt)  \\\n",
       "0                              3156.059864   \n",
       "1                              1830.170000   \n",
       "2                              1380.913000   \n",
       "3                               540.547000   \n",
       "4                               702.323000   \n",
       "...                                    ...   \n",
       "2021                                   NaN   \n",
       "2022                                   NaN   \n",
       "2023                                   NaN   \n",
       "2024                                   NaN   \n",
       "2025                                   NaN   \n",
       "\n",
       "      Oil products balance of trade (Mt)  ...  \\\n",
       "0                                    NaN  ...   \n",
       "1                                120.704  ...   \n",
       "2                                115.365  ...   \n",
       "3                                -55.257  ...   \n",
       "4                                 36.325  ...   \n",
       "...                                  ...  ...   \n",
       "2021                                 NaN  ...   \n",
       "2022                                 NaN  ...   \n",
       "2023                                 NaN  ...   \n",
       "2024                                 NaN  ...   \n",
       "2025                                 NaN  ...   \n",
       "\n",
       "      Coal and lignite domestic consumption (Mt) Electricity production (TWh)  \\\n",
       "0                                    4665.270216                 11878.583312   \n",
       "1                                    2334.307792                  7700.825000   \n",
       "2                                    1599.553542                  6078.549000   \n",
       "3                                     1760.78672                  2382.937000   \n",
       "4                                    1351.414316                  2898.592000   \n",
       "...                                          ...                          ...   \n",
       "2021                                         NaN                          NaN   \n",
       "2022                                         NaN                          NaN   \n",
       "2023                                         NaN                          NaN   \n",
       "2024                                         NaN                          NaN   \n",
       "2025                                         NaN                          NaN   \n",
       "\n",
       "     Electricity balance of trade (TWh)  \\\n",
       "0                                   NaN   \n",
       "1                                14.978   \n",
       "2                                 3.721   \n",
       "3                                20.179   \n",
       "4                                25.204   \n",
       "...                                 ...   \n",
       "2021                                NaN   \n",
       "2022                                NaN   \n",
       "2023                                NaN   \n",
       "2024                                NaN   \n",
       "2025                                NaN   \n",
       "\n",
       "      Electricity domestic consumption (TWh)  \\\n",
       "0                                10121.21255   \n",
       "1                                 6653.19100   \n",
       "2                                 5236.17400   \n",
       "3                                 1992.73500   \n",
       "4                                 2515.30200   \n",
       "...                                      ...   \n",
       "2021                                     NaN   \n",
       "2022                                     NaN   \n",
       "2023                                     NaN   \n",
       "2024                                     NaN   \n",
       "2025                                     NaN   \n",
       "\n",
       "     Share of electricity in total final energy consumption (%)  \\\n",
       "0                                             13.067703           \n",
       "1                                             17.493746           \n",
       "2                                             17.996136           \n",
       "3                                              9.052268           \n",
       "4                                             16.413384           \n",
       "...                                                 ...           \n",
       "2021                                          -0.526246           \n",
       "2022                                           3.425373           \n",
       "2023                                           2.981044           \n",
       "2024                                           1.595142           \n",
       "2025                                           4.114725           \n",
       "\n",
       "     Share of renewables in electricity production (%)  \\\n",
       "0                                            19.754966   \n",
       "1                                            17.737009   \n",
       "2                                            15.140998   \n",
       "3                                            24.250578   \n",
       "4                                            18.043105   \n",
       "...                                                ...   \n",
       "2021                                          5.547595   \n",
       "2022                                          1.435167   \n",
       "2023                                          3.887647   \n",
       "2024                                          0.058564   \n",
       "2025                                          0.002146   \n",
       "\n",
       "     Share of wind and solar in electricity production (%)  \\\n",
       "0                                              0.517099      \n",
       "1                                              0.695627      \n",
       "2                                              0.738893      \n",
       "3                                              0.005372      \n",
       "4                                              0.177396      \n",
       "...                                                 ...      \n",
       "2021                                           4.912949      \n",
       "2022                                           1.092862      \n",
       "2023                                           0.202566      \n",
       "2024                                           0.271767      \n",
       "2025                                           0.200759      \n",
       "\n",
       "     CO2 emissions from fuel combustion (MtCO2)  \\\n",
       "0                                  20315.795360   \n",
       "1                                  11194.886292   \n",
       "2                                   8623.236340   \n",
       "3                                   5413.287037   \n",
       "4                                   4400.835846   \n",
       "...                                         ...   \n",
       "2021                                        NaN   \n",
       "2022                                        NaN   \n",
       "2023                                        NaN   \n",
       "2024                                        NaN   \n",
       "2025                                        NaN   \n",
       "\n",
       "      CO2 intensity at constant purchasing power parities (kCO2/$15p)  \\\n",
       "0                                              0.410663                 \n",
       "1                                              0.363017                 \n",
       "2                                              0.378467                 \n",
       "3                                              0.662593                 \n",
       "4                                              0.306377                 \n",
       "...                                                 ...                 \n",
       "2021                                                NaN                 \n",
       "2022                                                NaN                 \n",
       "2023                                                NaN                 \n",
       "2024                                                NaN                 \n",
       "2025                                                NaN                 \n",
       "\n",
       "     Average CO2 emission factor (tCO2/toe)  \n",
       "0                                  2.319579  \n",
       "1                                  2.474841  \n",
       "2                                  2.470944  \n",
       "3                                  2.364854  \n",
       "4                                  2.477393  \n",
       "...                                     ...  \n",
       "2021                                    NaN  \n",
       "2022                                    NaN  \n",
       "2023                                    NaN  \n",
       "2024                                    NaN  \n",
       "2025                                    NaN  \n",
       "\n",
       "[2026 rows x 27 columns]"
      ]
     },
     "execution_count": 2,
     "metadata": {},
     "output_type": "execute_result"
    }
   ],
   "source": [
    "\n",
    "file = pd.ExcelFile(\"Dataset1.xlsx\")\n",
    "\n",
    "for i ,name in enumerate(file.sheet_names):\n",
    "    if i<25:\n",
    "        if i<1:\n",
    "            new = pd.read_excel(file,0)\n",
    "            new.drop(['Unnamed: 0'],axis = 1,inplace=True)\n",
    "            new = new.melt(id_vars=new.columns[0],var_name=\"Year\", \n",
    "                value_name=\"Value\")\n",
    "            new.rename(columns={new.columns[0]: 'Country',\"Value\" : new.columns[0]},inplace = True)\n",
    "\n",
    "        else:\n",
    "            sheet = pd.read_excel(file,i)\n",
    "            sheet.drop(['Unnamed: 0'],axis = 1,inplace=True)\n",
    "            sheet = sheet.melt(id_vars=sheet.columns[0],var_name=\"Year\", \n",
    "                value_name=\"Value\")\n",
    "            sheet.rename(columns={sheet.columns[0]: 'Country',\"Value\" : sheet.columns[0]},inplace = True)\n",
    "            new = new.merge(sheet,on = [\"Country\",\"Year\"],how=\"outer\")\n",
    "    else:\n",
    "        continue\n",
    "\n",
    "new"
   ]
  },
  {
   "cell_type": "code",
   "execution_count": 4,
   "metadata": {},
   "outputs": [],
   "source": [
    "new.to_csv(\"Dataset_melted.csv\")"
   ]
  },
  {
   "cell_type": "code",
   "execution_count": 4,
   "metadata": {},
   "outputs": [],
   "source": [
    "dfFiltered = new[new.isna().sum(axis=1) < 10]"
   ]
  },
  {
   "cell_type": "code",
   "execution_count": 5,
   "metadata": {},
   "outputs": [
    {
     "data": {
      "text/html": [
       "<div>\n",
       "<style scoped>\n",
       "    .dataframe tbody tr th:only-of-type {\n",
       "        vertical-align: middle;\n",
       "    }\n",
       "\n",
       "    .dataframe tbody tr th {\n",
       "        vertical-align: top;\n",
       "    }\n",
       "\n",
       "    .dataframe thead th {\n",
       "        text-align: right;\n",
       "    }\n",
       "</style>\n",
       "<table border=\"1\" class=\"dataframe\">\n",
       "  <thead>\n",
       "    <tr style=\"text-align: right;\">\n",
       "      <th></th>\n",
       "      <th>Country (or dependency)</th>\n",
       "      <th>Population (2020)</th>\n",
       "      <th>Yearly Change</th>\n",
       "      <th>Net Change</th>\n",
       "      <th>Density (P/Km²)</th>\n",
       "      <th>Land Area (Km²)</th>\n",
       "      <th>Migrants (net)</th>\n",
       "      <th>Fert. Rate</th>\n",
       "      <th>Med. Age</th>\n",
       "      <th>Urban Pop %</th>\n",
       "      <th>World Share</th>\n",
       "    </tr>\n",
       "  </thead>\n",
       "  <tbody>\n",
       "    <tr>\n",
       "      <th>0</th>\n",
       "      <td>China</td>\n",
       "      <td>1440297825</td>\n",
       "      <td>0.39 %</td>\n",
       "      <td>5540090</td>\n",
       "      <td>153</td>\n",
       "      <td>9388211</td>\n",
       "      <td>-348399.0</td>\n",
       "      <td>1.7</td>\n",
       "      <td>38</td>\n",
       "      <td>61 %</td>\n",
       "      <td>18.47 %</td>\n",
       "    </tr>\n",
       "    <tr>\n",
       "      <th>1</th>\n",
       "      <td>India</td>\n",
       "      <td>1382345085</td>\n",
       "      <td>0.99 %</td>\n",
       "      <td>13586631</td>\n",
       "      <td>464</td>\n",
       "      <td>2973190</td>\n",
       "      <td>-532687.0</td>\n",
       "      <td>2.2</td>\n",
       "      <td>28</td>\n",
       "      <td>35 %</td>\n",
       "      <td>17.70 %</td>\n",
       "    </tr>\n",
       "    <tr>\n",
       "      <th>2</th>\n",
       "      <td>United States</td>\n",
       "      <td>331341050</td>\n",
       "      <td>0.59 %</td>\n",
       "      <td>1937734</td>\n",
       "      <td>36</td>\n",
       "      <td>9147420</td>\n",
       "      <td>954806.0</td>\n",
       "      <td>1.8</td>\n",
       "      <td>38</td>\n",
       "      <td>83 %</td>\n",
       "      <td>4.25 %</td>\n",
       "    </tr>\n",
       "    <tr>\n",
       "      <th>3</th>\n",
       "      <td>Indonesia</td>\n",
       "      <td>274021604</td>\n",
       "      <td>1.07 %</td>\n",
       "      <td>2898047</td>\n",
       "      <td>151</td>\n",
       "      <td>1811570</td>\n",
       "      <td>-98955.0</td>\n",
       "      <td>2.3</td>\n",
       "      <td>30</td>\n",
       "      <td>56 %</td>\n",
       "      <td>3.51 %</td>\n",
       "    </tr>\n",
       "    <tr>\n",
       "      <th>4</th>\n",
       "      <td>Pakistan</td>\n",
       "      <td>221612785</td>\n",
       "      <td>2.00 %</td>\n",
       "      <td>4327022</td>\n",
       "      <td>287</td>\n",
       "      <td>770880</td>\n",
       "      <td>-233379.0</td>\n",
       "      <td>3.6</td>\n",
       "      <td>23</td>\n",
       "      <td>35 %</td>\n",
       "      <td>2.83 %</td>\n",
       "    </tr>\n",
       "  </tbody>\n",
       "</table>\n",
       "</div>"
      ],
      "text/plain": [
       "  Country (or dependency)  Population (2020) Yearly Change  Net Change  \\\n",
       "0                   China         1440297825        0.39 %     5540090   \n",
       "1                   India         1382345085        0.99 %    13586631   \n",
       "2           United States          331341050        0.59 %     1937734   \n",
       "3               Indonesia          274021604        1.07 %     2898047   \n",
       "4                Pakistan          221612785        2.00 %     4327022   \n",
       "\n",
       "   Density (P/Km²)  Land Area (Km²)  Migrants (net) Fert. Rate Med. Age  \\\n",
       "0              153          9388211       -348399.0        1.7       38   \n",
       "1              464          2973190       -532687.0        2.2       28   \n",
       "2               36          9147420        954806.0        1.8       38   \n",
       "3              151          1811570        -98955.0        2.3       30   \n",
       "4              287           770880       -233379.0        3.6       23   \n",
       "\n",
       "  Urban Pop % World Share  \n",
       "0        61 %     18.47 %  \n",
       "1        35 %     17.70 %  \n",
       "2        83 %      4.25 %  \n",
       "3        56 %      3.51 %  \n",
       "4        35 %      2.83 %  "
      ]
     },
     "execution_count": 5,
     "metadata": {},
     "output_type": "execute_result"
    }
   ],
   "source": [
    "population = pd.read_csv('population_by_country_2020.csv')\n",
    "population.head()"
   ]
  },
  {
   "cell_type": "code",
   "execution_count": 6,
   "metadata": {},
   "outputs": [
    {
     "data": {
      "text/html": [
       "<div>\n",
       "<style scoped>\n",
       "    .dataframe tbody tr th:only-of-type {\n",
       "        vertical-align: middle;\n",
       "    }\n",
       "\n",
       "    .dataframe tbody tr th {\n",
       "        vertical-align: top;\n",
       "    }\n",
       "\n",
       "    .dataframe thead th {\n",
       "        text-align: right;\n",
       "    }\n",
       "</style>\n",
       "<table border=\"1\" class=\"dataframe\">\n",
       "  <thead>\n",
       "    <tr style=\"text-align: right;\">\n",
       "      <th></th>\n",
       "      <th>country</th>\n",
       "      <th>latitude</th>\n",
       "      <th>longitude</th>\n",
       "      <th>name</th>\n",
       "    </tr>\n",
       "  </thead>\n",
       "  <tbody>\n",
       "    <tr>\n",
       "      <th>0</th>\n",
       "      <td>AD</td>\n",
       "      <td>42.546245</td>\n",
       "      <td>1.601554</td>\n",
       "      <td>Andorra</td>\n",
       "    </tr>\n",
       "    <tr>\n",
       "      <th>1</th>\n",
       "      <td>AE</td>\n",
       "      <td>23.424076</td>\n",
       "      <td>53.847818</td>\n",
       "      <td>United Arab Emirates</td>\n",
       "    </tr>\n",
       "    <tr>\n",
       "      <th>2</th>\n",
       "      <td>AF</td>\n",
       "      <td>33.939110</td>\n",
       "      <td>67.709953</td>\n",
       "      <td>Afghanistan</td>\n",
       "    </tr>\n",
       "    <tr>\n",
       "      <th>3</th>\n",
       "      <td>AG</td>\n",
       "      <td>17.060816</td>\n",
       "      <td>-61.796428</td>\n",
       "      <td>Antigua and Barbuda</td>\n",
       "    </tr>\n",
       "    <tr>\n",
       "      <th>4</th>\n",
       "      <td>AI</td>\n",
       "      <td>18.220554</td>\n",
       "      <td>-63.068615</td>\n",
       "      <td>Anguilla</td>\n",
       "    </tr>\n",
       "  </tbody>\n",
       "</table>\n",
       "</div>"
      ],
      "text/plain": [
       "  country   latitude  longitude                  name\n",
       "0      AD  42.546245   1.601554               Andorra\n",
       "1      AE  23.424076  53.847818  United Arab Emirates\n",
       "2      AF  33.939110  67.709953           Afghanistan\n",
       "3      AG  17.060816 -61.796428   Antigua and Barbuda\n",
       "4      AI  18.220554 -63.068615              Anguilla"
      ]
     },
     "execution_count": 6,
     "metadata": {},
     "output_type": "execute_result"
    }
   ],
   "source": [
    "countries = pd.read_csv('country_points.csv')\n",
    "countries.head()"
   ]
  },
  {
   "cell_type": "code",
   "execution_count": 7,
   "metadata": {},
   "outputs": [
    {
     "data": {
      "text/html": [
       "<div>\n",
       "<style scoped>\n",
       "    .dataframe tbody tr th:only-of-type {\n",
       "        vertical-align: middle;\n",
       "    }\n",
       "\n",
       "    .dataframe tbody tr th {\n",
       "        vertical-align: top;\n",
       "    }\n",
       "\n",
       "    .dataframe thead th {\n",
       "        text-align: right;\n",
       "    }\n",
       "</style>\n",
       "<table border=\"1\" class=\"dataframe\">\n",
       "  <thead>\n",
       "    <tr style=\"text-align: right;\">\n",
       "      <th></th>\n",
       "      <th>country</th>\n",
       "      <th>latitude</th>\n",
       "      <th>longitude</th>\n",
       "      <th>name</th>\n",
       "    </tr>\n",
       "  </thead>\n",
       "  <tbody>\n",
       "    <tr>\n",
       "      <th>189</th>\n",
       "      <td>SA</td>\n",
       "      <td>23.885942</td>\n",
       "      <td>45.079162</td>\n",
       "      <td>Saudi Arabia</td>\n",
       "    </tr>\n",
       "  </tbody>\n",
       "</table>\n",
       "</div>"
      ],
      "text/plain": [
       "    country   latitude  longitude          name\n",
       "189      SA  23.885942  45.079162  Saudi Arabia"
      ]
     },
     "execution_count": 7,
     "metadata": {},
     "output_type": "execute_result"
    }
   ],
   "source": [
    "countries[countries['country'] == 'SA']"
   ]
  },
  {
   "cell_type": "code",
   "execution_count": 8,
   "metadata": {},
   "outputs": [
    {
     "name": "stderr",
     "output_type": "stream",
     "text": [
      "<ipython-input-8-30d502f160be>:1: SettingWithCopyWarning: \n",
      "A value is trying to be set on a copy of a slice from a DataFrame.\n",
      "Try using .loc[row_indexer,col_indexer] = value instead\n",
      "\n",
      "See the caveats in the documentation: https://pandas.pydata.org/pandas-docs/stable/user_guide/indexing.html#returning-a-view-versus-a-copy\n",
      "  dfFiltered['ISO'] = np.nan\n",
      "<ipython-input-8-30d502f160be>:5: SettingWithCopyWarning: \n",
      "A value is trying to be set on a copy of a slice from a DataFrame\n",
      "\n",
      "See the caveats in the documentation: https://pandas.pydata.org/pandas-docs/stable/user_guide/indexing.html#returning-a-view-versus-a-copy\n",
      "  dfFiltered['ISO'][i] = countries['country'][j]\n",
      "D:\\Anaconda\\lib\\site-packages\\pandas\\core\\indexing.py:670: SettingWithCopyWarning: \n",
      "A value is trying to be set on a copy of a slice from a DataFrame\n",
      "\n",
      "See the caveats in the documentation: https://pandas.pydata.org/pandas-docs/stable/user_guide/indexing.html#returning-a-view-versus-a-copy\n",
      "  iloc._setitem_with_indexer(indexer, value)\n",
      "D:\\Anaconda\\lib\\site-packages\\pandas\\core\\series.py:1008: SettingWithCopyWarning: \n",
      "A value is trying to be set on a copy of a slice from a DataFrame\n",
      "\n",
      "See the caveats in the documentation: https://pandas.pydata.org/pandas-docs/stable/user_guide/indexing.html#returning-a-view-versus-a-copy\n",
      "  self.loc[key] = value\n",
      "D:\\Anaconda\\lib\\site-packages\\IPython\\core\\interactiveshell.py:3418: SettingWithCopyWarning: \n",
      "A value is trying to be set on a copy of a slice from a DataFrame\n",
      "\n",
      "See the caveats in the documentation: https://pandas.pydata.org/pandas-docs/stable/user_guide/indexing.html#returning-a-view-versus-a-copy\n",
      "  exec(code_obj, self.user_global_ns, self.user_ns)\n"
     ]
    }
   ],
   "source": [
    "dfFiltered['ISO'] = np.nan\n",
    "for i in range(len(dfFiltered['Country'])):\n",
    "    for j in range(len(countries['name'])):\n",
    "        if dfFiltered['Country'][i] == countries['name'][j]:\n",
    "            dfFiltered['ISO'][i] = countries['country'][j]\n",
    "            "
   ]
  },
  {
   "cell_type": "code",
   "execution_count": 9,
   "metadata": {},
   "outputs": [
    {
     "name": "stderr",
     "output_type": "stream",
     "text": [
      "D:\\Anaconda\\lib\\site-packages\\pandas\\core\\frame.py:4296: SettingWithCopyWarning: \n",
      "A value is trying to be set on a copy of a slice from a DataFrame\n",
      "\n",
      "See the caveats in the documentation: https://pandas.pydata.org/pandas-docs/stable/user_guide/indexing.html#returning-a-view-versus-a-copy\n",
      "  return super().rename(\n"
     ]
    }
   ],
   "source": [
    "dfFiltered.rename(columns={\"Country\": \"country names\"}, inplace = True)"
   ]
  },
  {
   "cell_type": "code",
   "execution_count": 11,
   "metadata": {},
   "outputs": [],
   "source": [
    "data_wind_solar = dict(type='choropleth',\n",
    "                       locations=dfFiltered['country names'],\n",
    "                       locationmode='country names',\n",
    "                       z=dfFiltered['Share of wind and solar in electricity production (%)'],\n",
    "                       text=dfFiltered['ISO'],\n",
    "                       colorscale='inferno'\n",
    "                      )\n",
    "\n",
    "layout_choropleth = dict(geo=dict(scope='world',  #default\n",
    "                                  projection=dict(type='orthographic'\n",
    "                                                 ),\n",
    "                                  #showland=True,   # default = True\n",
    "                                  landcolor='black',\n",
    "                                  lakecolor='white',\n",
    "                                  showocean=True,   # default = False\n",
    "                                  oceancolor='azure'\n",
    "                                 ),\n",
    "                         \n",
    "                         title=dict(text='Share of wind and solar in electricity production (%)',\n",
    "                                    x=.5 # Title relative position according to the xaxis, range (0,1)\n",
    "                                   )\n",
    "                        )"
   ]
  },
  {
   "cell_type": "code",
   "execution_count": 12,
   "metadata": {},
   "outputs": [
    {
     "data": {
      "application/vnd.plotly.v1+json": {
       "config": {
        "plotlyServerURL": "https://plot.ly"
       },
       "data": [
        {
         "colorscale": [
          [
           0,
           "#000004"
          ],
          [
           0.1111111111111111,
           "#1b0c41"
          ],
          [
           0.2222222222222222,
           "#4a0c6b"
          ],
          [
           0.3333333333333333,
           "#781c6d"
          ],
          [
           0.4444444444444444,
           "#a52c60"
          ],
          [
           0.5555555555555556,
           "#cf4446"
          ],
          [
           0.6666666666666666,
           "#ed6925"
          ],
          [
           0.7777777777777778,
           "#fb9b06"
          ],
          [
           0.8888888888888888,
           "#f7d13d"
          ],
          [
           1,
           "#fcffa4"
          ]
         ],
         "locationmode": "country names",
         "locations": [
          "World",
          "OECD",
          "G7",
          "BRICS",
          "Europe",
          "European Union",
          "Belgium",
          "Czechia",
          "France",
          "Germany",
          "Italy",
          "Netherlands",
          "Poland",
          "Portugal",
          "Romania",
          "Spain",
          "Sweden",
          "United Kingdom",
          "Norway",
          "Turkey",
          "CIS",
          "Kazakhstan",
          "Russia",
          "Ukraine",
          "Uzbekistan",
          "America",
          "North America",
          "Canada",
          "United States",
          "Latin America",
          "Argentina",
          "Brazil",
          "Chile",
          "Colombia",
          "Mexico",
          "Venezuela",
          "Asia",
          "China",
          "India",
          "Indonesia",
          "Japan",
          "Malaysia",
          "South Korea",
          "Taiwan",
          "Thailand",
          "Pacific",
          "Australia",
          "New Zealand",
          "Africa",
          "Algeria",
          "Egypt",
          "Nigeria",
          "South Africa",
          "Middle-East",
          "Iran",
          "Kuwait",
          "Saudi Arabia",
          "World",
          "OECD",
          "G7",
          "BRICS",
          "Europe",
          "European Union",
          "Belgium",
          "Czechia",
          "France",
          "Germany",
          "Italy",
          "Netherlands",
          "Poland",
          "Portugal",
          "Romania",
          "Spain",
          "Sweden",
          "United Kingdom",
          "Norway",
          "Turkey",
          "CIS",
          "Kazakhstan",
          "Russia",
          "Ukraine",
          "Uzbekistan",
          "America",
          "North America",
          "Canada",
          "United States",
          "Latin America",
          "Argentina",
          "Brazil",
          "Chile",
          "Colombia",
          "Mexico",
          "Venezuela",
          "Asia",
          "China",
          "India",
          "Indonesia",
          "Japan",
          "Malaysia",
          "South Korea",
          "Taiwan",
          "Thailand",
          "Pacific",
          "Australia",
          "New Zealand",
          "Africa",
          "Algeria",
          "Egypt",
          "Nigeria",
          "South Africa",
          "Middle-East",
          "Iran",
          "Kuwait",
          "Saudi Arabia",
          "World",
          "OECD",
          "G7",
          "BRICS",
          "Europe",
          "European Union",
          "Belgium",
          "Czechia",
          "France",
          "Germany",
          "Italy",
          "Netherlands",
          "Poland",
          "Portugal",
          "Romania",
          "Spain",
          "Sweden",
          "United Kingdom",
          "Norway",
          "Turkey",
          "CIS",
          "Kazakhstan",
          "Russia",
          "Ukraine",
          "Uzbekistan",
          "America",
          "North America",
          "Canada",
          "United States",
          "Latin America",
          "Argentina",
          "Brazil",
          "Chile",
          "Colombia",
          "Mexico",
          "Venezuela",
          "Asia",
          "China",
          "India",
          "Indonesia",
          "Japan",
          "Malaysia",
          "South Korea",
          "Taiwan",
          "Thailand",
          "Pacific",
          "Australia",
          "New Zealand",
          "Africa",
          "Algeria",
          "Egypt",
          "Nigeria",
          "South Africa",
          "Middle-East",
          "Iran",
          "Kuwait",
          "Saudi Arabia",
          "World",
          "OECD",
          "G7",
          "BRICS",
          "Europe",
          "European Union",
          "Belgium",
          "Czechia",
          "France",
          "Germany",
          "Italy",
          "Netherlands",
          "Poland",
          "Portugal",
          "Romania",
          "Spain",
          "Sweden",
          "United Kingdom",
          "Norway",
          "Turkey",
          "CIS",
          "Kazakhstan",
          "Russia",
          "Ukraine",
          "Uzbekistan",
          "America",
          "North America",
          "Canada",
          "United States",
          "Latin America",
          "Argentina",
          "Brazil",
          "Chile",
          "Colombia",
          "Mexico",
          "Venezuela",
          "Asia",
          "China",
          "India",
          "Indonesia",
          "Japan",
          "Malaysia",
          "South Korea",
          "Taiwan",
          "Thailand",
          "Pacific",
          "Australia",
          "New Zealand",
          "Africa",
          "Algeria",
          "Egypt",
          "Nigeria",
          "South Africa",
          "Middle-East",
          "Iran",
          "Kuwait",
          "Saudi Arabia",
          "World",
          "OECD",
          "G7",
          "BRICS",
          "Europe",
          "European Union",
          "Belgium",
          "Czechia",
          "France",
          "Germany",
          "Italy",
          "Netherlands",
          "Poland",
          "Portugal",
          "Romania",
          "Spain",
          "Sweden",
          "United Kingdom",
          "Norway",
          "Turkey",
          "CIS",
          "Kazakhstan",
          "Russia",
          "Ukraine",
          "Uzbekistan",
          "America",
          "North America",
          "Canada",
          "United States",
          "Latin America",
          "Argentina",
          "Brazil",
          "Chile",
          "Colombia",
          "Mexico",
          "Venezuela",
          "Asia",
          "China",
          "India",
          "Indonesia",
          "Japan",
          "Malaysia",
          "South Korea",
          "Taiwan",
          "Thailand",
          "Pacific",
          "Australia",
          "New Zealand",
          "Africa",
          "Algeria",
          "Egypt",
          "Nigeria",
          "South Africa",
          "Middle-East",
          "Iran",
          "Kuwait",
          "Saudi Arabia",
          "World",
          "OECD",
          "G7",
          "BRICS",
          "Europe",
          "European Union",
          "Belgium",
          "Czechia",
          "France",
          "Germany",
          "Italy",
          "Netherlands",
          "Poland",
          "Portugal",
          "Romania",
          "Spain",
          "Sweden",
          "United Kingdom",
          "Norway",
          "Turkey",
          "CIS",
          "Kazakhstan",
          "Russia",
          "Ukraine",
          "Uzbekistan",
          "America",
          "North America",
          "Canada",
          "United States",
          "Latin America",
          "Argentina",
          "Brazil",
          "Chile",
          "Colombia",
          "Mexico",
          "Venezuela",
          "Asia",
          "China",
          "India",
          "Indonesia",
          "Japan",
          "Malaysia",
          "South Korea",
          "Taiwan",
          "Thailand",
          "Pacific",
          "Australia",
          "New Zealand",
          "Africa",
          "Algeria",
          "Egypt",
          "Nigeria",
          "South Africa",
          "Middle-East",
          "Iran",
          "Kuwait",
          "Saudi Arabia",
          "World",
          "OECD",
          "G7",
          "BRICS",
          "Europe",
          "European Union",
          "Belgium",
          "Czechia",
          "France",
          "Germany",
          "Italy",
          "Netherlands",
          "Poland",
          "Portugal",
          "Romania",
          "Spain",
          "Sweden",
          "United Kingdom",
          "Norway",
          "Turkey",
          "CIS",
          "Kazakhstan",
          "Russia",
          "Ukraine",
          "Uzbekistan",
          "America",
          "North America",
          "Canada",
          "United States",
          "Latin America",
          "Argentina",
          "Brazil",
          "Chile",
          "Colombia",
          "Mexico",
          "Venezuela",
          "Asia",
          "China",
          "India",
          "Indonesia",
          "Japan",
          "Malaysia",
          "South Korea",
          "Taiwan",
          "Thailand",
          "Pacific",
          "Australia",
          "New Zealand",
          "Africa",
          "Algeria",
          "Egypt",
          "Nigeria",
          "South Africa",
          "Middle-East",
          "Iran",
          "Kuwait",
          "Saudi Arabia",
          "World",
          "OECD",
          "G7",
          "BRICS",
          "Europe",
          "European Union",
          "Belgium",
          "Czechia",
          "France",
          "Germany",
          "Italy",
          "Netherlands",
          "Poland",
          "Portugal",
          "Romania",
          "Spain",
          "Sweden",
          "United Kingdom",
          "Norway",
          "Turkey",
          "CIS",
          "Kazakhstan",
          "Russia",
          "Ukraine",
          "Uzbekistan",
          "America",
          "North America",
          "Canada",
          "United States",
          "Latin America",
          "Argentina",
          "Brazil",
          "Chile",
          "Colombia",
          "Mexico",
          "Venezuela",
          "Asia",
          "China",
          "India",
          "Indonesia",
          "Japan",
          "Malaysia",
          "South Korea",
          "Taiwan",
          "Thailand",
          "Pacific",
          "Australia",
          "New Zealand",
          "Africa",
          "Algeria",
          "Egypt",
          "Nigeria",
          "South Africa",
          "Middle-East",
          "Iran",
          "Kuwait",
          "Saudi Arabia",
          "World",
          "OECD",
          "G7",
          "BRICS",
          "Europe",
          "European Union",
          "Belgium",
          "Czechia",
          "France",
          "Germany",
          "Italy",
          "Netherlands",
          "Poland",
          "Portugal",
          "Romania",
          "Spain",
          "Sweden",
          "United Kingdom",
          "Norway",
          "Turkey",
          "CIS",
          "Kazakhstan",
          "Russia",
          "Ukraine",
          "Uzbekistan",
          "America",
          "North America",
          "Canada",
          "United States",
          "Latin America",
          "Argentina",
          "Brazil",
          "Chile",
          "Colombia",
          "Mexico",
          "Venezuela",
          "Asia",
          "China",
          "India",
          "Indonesia",
          "Japan",
          "Malaysia",
          "South Korea",
          "Taiwan",
          "Thailand",
          "Pacific",
          "Australia",
          "New Zealand",
          "Africa",
          "Algeria",
          "Egypt",
          "Nigeria",
          "South Africa",
          "Middle-East",
          "Iran",
          "Kuwait",
          "Saudi Arabia",
          "World",
          "OECD",
          "G7",
          "BRICS",
          "Europe",
          "European Union",
          "Belgium",
          "Czechia",
          "France",
          "Germany",
          "Italy",
          "Netherlands",
          "Poland",
          "Portugal",
          "Romania",
          "Spain",
          "Sweden",
          "United Kingdom",
          "Norway",
          "Turkey",
          "CIS",
          "Kazakhstan",
          "Russia",
          "Ukraine",
          "Uzbekistan",
          "America",
          "North America",
          "Canada",
          "United States",
          "Latin America",
          "Argentina",
          "Brazil",
          "Chile",
          "Colombia",
          "Mexico",
          "Venezuela",
          "Asia",
          "China",
          "India",
          "Indonesia",
          "Japan",
          "Malaysia",
          "South Korea",
          "Taiwan",
          "Thailand",
          "Pacific",
          "Australia",
          "New Zealand",
          "Africa",
          "Algeria",
          "Egypt",
          "Nigeria",
          "South Africa",
          "Middle-East",
          "Iran",
          "Kuwait",
          "Saudi Arabia",
          "World",
          "OECD",
          "G7",
          "BRICS",
          "Europe",
          "European Union",
          "Belgium",
          "Czechia",
          "France",
          "Germany",
          "Italy",
          "Netherlands",
          "Poland",
          "Portugal",
          "Romania",
          "Spain",
          "Sweden",
          "United Kingdom",
          "Norway",
          "Turkey",
          "CIS",
          "Kazakhstan",
          "Russia",
          "Ukraine",
          "Uzbekistan",
          "America",
          "North America",
          "Canada",
          "United States",
          "Latin America",
          "Argentina",
          "Brazil",
          "Chile",
          "Colombia",
          "Mexico",
          "Venezuela",
          "Asia",
          "China",
          "India",
          "Indonesia",
          "Japan",
          "Malaysia",
          "South Korea",
          "Taiwan",
          "Thailand",
          "Pacific",
          "Australia",
          "New Zealand",
          "Africa",
          "Algeria",
          "Egypt",
          "Nigeria",
          "South Africa",
          "Middle-East",
          "Iran",
          "Kuwait",
          "Saudi Arabia",
          "World",
          "OECD",
          "G7",
          "BRICS",
          "Europe",
          "European Union",
          "Belgium",
          "Czechia",
          "France",
          "Germany",
          "Italy",
          "Netherlands",
          "Poland",
          "Portugal",
          "Romania",
          "Spain",
          "Sweden",
          "United Kingdom",
          "Norway",
          "Turkey",
          "CIS",
          "Kazakhstan",
          "Russia",
          "Ukraine",
          "Uzbekistan",
          "America",
          "North America",
          "Canada",
          "United States",
          "Latin America",
          "Argentina",
          "Brazil",
          "Chile",
          "Colombia",
          "Mexico",
          "Venezuela",
          "Asia",
          "China",
          "India",
          "Indonesia",
          "Japan",
          "Malaysia",
          "South Korea",
          "Taiwan",
          "Thailand",
          "Pacific",
          "Australia",
          "New Zealand",
          "Africa",
          "Algeria",
          "Egypt",
          "Nigeria",
          "South Africa",
          "Middle-East",
          "Iran",
          "Kuwait",
          "Saudi Arabia",
          "World",
          "OECD",
          "G7",
          "BRICS",
          "Europe",
          "European Union",
          "Belgium",
          "Czechia",
          "France",
          "Germany",
          "Italy",
          "Netherlands",
          "Poland",
          "Portugal",
          "Romania",
          "Spain",
          "Sweden",
          "United Kingdom",
          "Norway",
          "Turkey",
          "CIS",
          "Kazakhstan",
          "Russia",
          "Ukraine",
          "Uzbekistan",
          "America",
          "North America",
          "Canada",
          "United States",
          "Latin America",
          "Argentina",
          "Brazil",
          "Chile",
          "Colombia",
          "Mexico",
          "Venezuela",
          "Asia",
          "China",
          "India",
          "Indonesia",
          "Japan",
          "Malaysia",
          "South Korea",
          "Taiwan",
          "Thailand",
          "Pacific",
          "Australia",
          "New Zealand",
          "Africa",
          "Algeria",
          "Egypt",
          "Nigeria",
          "South Africa",
          "Middle-East",
          "Iran",
          "Kuwait",
          "Saudi Arabia",
          "World",
          "OECD",
          "G7",
          "BRICS",
          "Europe",
          "European Union",
          "Belgium",
          "Czechia",
          "France",
          "Germany",
          "Italy",
          "Netherlands",
          "Poland",
          "Portugal",
          "Romania",
          "Spain",
          "Sweden",
          "United Kingdom",
          "Norway",
          "Turkey",
          "CIS",
          "Kazakhstan",
          "Russia",
          "Ukraine",
          "Uzbekistan",
          "America",
          "North America",
          "Canada",
          "United States",
          "Latin America",
          "Argentina",
          "Brazil",
          "Chile",
          "Colombia",
          "Mexico",
          "Venezuela",
          "Asia",
          "China",
          "India",
          "Indonesia",
          "Japan",
          "Malaysia",
          "South Korea",
          "Taiwan",
          "Thailand",
          "Pacific",
          "Australia",
          "New Zealand",
          "Africa",
          "Algeria",
          "Egypt",
          "Nigeria",
          "South Africa",
          "Middle-East",
          "Iran",
          "Kuwait",
          "Saudi Arabia",
          "World",
          "OECD",
          "G7",
          "BRICS",
          "Europe",
          "European Union",
          "Belgium",
          "Czechia",
          "France",
          "Germany",
          "Italy",
          "Netherlands",
          "Poland",
          "Portugal",
          "Romania",
          "Spain",
          "Sweden",
          "United Kingdom",
          "Norway",
          "Turkey",
          "CIS",
          "Kazakhstan",
          "Russia",
          "Ukraine",
          "Uzbekistan",
          "America",
          "North America",
          "Canada",
          "United States",
          "Latin America",
          "Argentina",
          "Brazil",
          "Chile",
          "Colombia",
          "Mexico",
          "Venezuela",
          "Asia",
          "China",
          "India",
          "Indonesia",
          "Japan",
          "Malaysia",
          "South Korea",
          "Taiwan",
          "Thailand",
          "Pacific",
          "Australia",
          "New Zealand",
          "Africa",
          "Algeria",
          "Egypt",
          "Nigeria",
          "South Africa",
          "Middle-East",
          "Iran",
          "Kuwait",
          "Saudi Arabia",
          "World",
          "OECD",
          "G7",
          "BRICS",
          "Europe",
          "European Union",
          "Belgium",
          "Czechia",
          "France",
          "Germany",
          "Italy",
          "Netherlands",
          "Poland",
          "Portugal",
          "Romania",
          "Spain",
          "Sweden",
          "United Kingdom",
          "Norway",
          "Turkey",
          "CIS",
          "Kazakhstan",
          "Russia",
          "Ukraine",
          "Uzbekistan",
          "America",
          "North America",
          "Canada",
          "United States",
          "Latin America",
          "Argentina",
          "Brazil",
          "Chile",
          "Colombia",
          "Mexico",
          "Venezuela",
          "Asia",
          "China",
          "India",
          "Indonesia",
          "Japan",
          "Malaysia",
          "South Korea",
          "Taiwan",
          "Thailand",
          "Pacific",
          "Australia",
          "New Zealand",
          "Africa",
          "Algeria",
          "Egypt",
          "Nigeria",
          "South Africa",
          "Middle-East",
          "Iran",
          "Kuwait",
          "Saudi Arabia",
          "World",
          "OECD",
          "G7",
          "BRICS",
          "Europe",
          "European Union",
          "Belgium",
          "Czechia",
          "France",
          "Germany",
          "Italy",
          "Netherlands",
          "Poland",
          "Portugal",
          "Romania",
          "Spain",
          "Sweden",
          "United Kingdom",
          "Norway",
          "Turkey",
          "CIS",
          "Kazakhstan",
          "Russia",
          "Ukraine",
          "Uzbekistan",
          "America",
          "North America",
          "Canada",
          "United States",
          "Latin America",
          "Argentina",
          "Brazil",
          "Chile",
          "Colombia",
          "Mexico",
          "Venezuela",
          "Asia",
          "China",
          "India",
          "Indonesia",
          "Japan",
          "Malaysia",
          "South Korea",
          "Taiwan",
          "Thailand",
          "Pacific",
          "Australia",
          "New Zealand",
          "Africa",
          "Algeria",
          "Egypt",
          "Nigeria",
          "South Africa",
          "Middle-East",
          "Iran",
          "Kuwait",
          "Saudi Arabia",
          "World",
          "OECD",
          "G7",
          "BRICS",
          "Europe",
          "European Union",
          "Belgium",
          "Czechia",
          "France",
          "Germany",
          "Italy",
          "Netherlands",
          "Poland",
          "Portugal",
          "Romania",
          "Spain",
          "Sweden",
          "United Kingdom",
          "Norway",
          "Turkey",
          "CIS",
          "Kazakhstan",
          "Russia",
          "Ukraine",
          "Uzbekistan",
          "America",
          "North America",
          "Canada",
          "United States",
          "Latin America",
          "Argentina",
          "Brazil",
          "Chile",
          "Colombia",
          "Mexico",
          "Venezuela",
          "Asia",
          "China",
          "India",
          "Indonesia",
          "Japan",
          "Malaysia",
          "South Korea",
          "Taiwan",
          "Thailand",
          "Pacific",
          "Australia",
          "New Zealand",
          "Africa",
          "Algeria",
          "Egypt",
          "Nigeria",
          "South Africa",
          "Middle-East",
          "Iran",
          "Kuwait",
          "Saudi Arabia",
          "World",
          "OECD",
          "G7",
          "BRICS",
          "Europe",
          "European Union",
          "Belgium",
          "Czechia",
          "France",
          "Germany",
          "Italy",
          "Netherlands",
          "Poland",
          "Portugal",
          "Romania",
          "Spain",
          "Sweden",
          "United Kingdom",
          "Norway",
          "Turkey",
          "CIS",
          "Kazakhstan",
          "Russia",
          "Ukraine",
          "Uzbekistan",
          "America",
          "North America",
          "Canada",
          "United States",
          "Latin America",
          "Argentina",
          "Brazil",
          "Chile",
          "Colombia",
          "Mexico",
          "Venezuela",
          "Asia",
          "China",
          "India",
          "Indonesia",
          "Japan",
          "Malaysia",
          "South Korea",
          "Taiwan",
          "Thailand",
          "Pacific",
          "Australia",
          "New Zealand",
          "Africa",
          "Algeria",
          "Egypt",
          "Nigeria",
          "South Africa",
          "Middle-East",
          "Iran",
          "Kuwait",
          "Saudi Arabia",
          "World",
          "OECD",
          "G7",
          "BRICS",
          "Europe",
          "European Union",
          "Belgium",
          "Czechia",
          "France",
          "Germany",
          "Italy",
          "Netherlands",
          "Poland",
          "Portugal",
          "Romania",
          "Spain",
          "Sweden",
          "United Kingdom",
          "Norway",
          "Turkey",
          "CIS",
          "Kazakhstan",
          "Russia",
          "Ukraine",
          "Uzbekistan",
          "America",
          "North America",
          "Canada",
          "United States",
          "Latin America",
          "Argentina",
          "Brazil",
          "Chile",
          "Colombia",
          "Mexico",
          "Venezuela",
          "Asia",
          "China",
          "India",
          "Indonesia",
          "Japan",
          "Malaysia",
          "South Korea",
          "Taiwan",
          "Thailand",
          "Pacific",
          "Australia",
          "New Zealand",
          "Africa",
          "Algeria",
          "Egypt",
          "Nigeria",
          "South Africa",
          "Middle-East",
          "Iran",
          "Kuwait",
          "Saudi Arabia",
          "World",
          "OECD",
          "G7",
          "BRICS",
          "Europe",
          "European Union",
          "Belgium",
          "Czechia",
          "France",
          "Germany",
          "Italy",
          "Netherlands",
          "Poland",
          "Portugal",
          "Romania",
          "Spain",
          "Sweden",
          "United Kingdom",
          "Norway",
          "Turkey",
          "CIS",
          "Kazakhstan",
          "Russia",
          "Ukraine",
          "Uzbekistan",
          "America",
          "North America",
          "Canada",
          "United States",
          "Latin America",
          "Argentina",
          "Brazil",
          "Chile",
          "Colombia",
          "Mexico",
          "Venezuela",
          "Asia",
          "China",
          "India",
          "Indonesia",
          "Japan",
          "Malaysia",
          "South Korea",
          "Taiwan",
          "Thailand",
          "Pacific",
          "Australia",
          "New Zealand",
          "Africa",
          "Algeria",
          "Egypt",
          "Nigeria",
          "South Africa",
          "Middle-East",
          "Iran",
          "Kuwait",
          "Saudi Arabia",
          "World",
          "OECD",
          "G7",
          "BRICS",
          "Europe",
          "European Union",
          "Belgium",
          "Czechia",
          "France",
          "Germany",
          "Italy",
          "Netherlands",
          "Poland",
          "Portugal",
          "Romania",
          "Spain",
          "Sweden",
          "United Kingdom",
          "Norway",
          "Turkey",
          "CIS",
          "Kazakhstan",
          "Russia",
          "Ukraine",
          "Uzbekistan",
          "America",
          "North America",
          "Canada",
          "United States",
          "Latin America",
          "Argentina",
          "Brazil",
          "Chile",
          "Colombia",
          "Mexico",
          "Venezuela",
          "Asia",
          "China",
          "India",
          "Indonesia",
          "Japan",
          "Malaysia",
          "South Korea",
          "Taiwan",
          "Thailand",
          "Pacific",
          "Australia",
          "New Zealand",
          "Africa",
          "Algeria",
          "Egypt",
          "Nigeria",
          "South Africa",
          "Middle-East",
          "Iran",
          "Kuwait",
          "Saudi Arabia",
          "World",
          "OECD",
          "G7",
          "BRICS",
          "Europe",
          "European Union",
          "Belgium",
          "Czechia",
          "France",
          "Germany",
          "Italy",
          "Netherlands",
          "Poland",
          "Portugal",
          "Romania",
          "Spain",
          "Sweden",
          "United Kingdom",
          "Norway",
          "Turkey",
          "CIS",
          "Kazakhstan",
          "Russia",
          "Ukraine",
          "Uzbekistan",
          "America",
          "North America",
          "Canada",
          "United States",
          "Latin America",
          "Argentina",
          "Brazil",
          "Chile",
          "Colombia",
          "Mexico",
          "Venezuela",
          "Asia",
          "China",
          "India",
          "Indonesia",
          "Japan",
          "Malaysia",
          "South Korea",
          "Taiwan",
          "Thailand",
          "Pacific",
          "Australia",
          "New Zealand",
          "Africa",
          "Algeria",
          "Egypt",
          "Nigeria",
          "South Africa",
          "Middle-East",
          "Iran",
          "Kuwait",
          "Saudi Arabia",
          "World",
          "OECD",
          "G7",
          "BRICS",
          "Europe",
          "European Union",
          "Belgium",
          "Czechia",
          "France",
          "Germany",
          "Italy",
          "Netherlands",
          "Poland",
          "Portugal",
          "Romania",
          "Spain",
          "Sweden",
          "United Kingdom",
          "Norway",
          "Turkey",
          "CIS",
          "Kazakhstan",
          "Russia",
          "Ukraine",
          "Uzbekistan",
          "America",
          "North America",
          "Canada",
          "United States",
          "Latin America",
          "Argentina",
          "Brazil",
          "Chile",
          "Colombia",
          "Mexico",
          "Venezuela",
          "Asia",
          "China",
          "India",
          "Indonesia",
          "Japan",
          "Malaysia",
          "South Korea",
          "Taiwan",
          "Thailand",
          "Pacific",
          "Australia",
          "New Zealand",
          "Africa",
          "Algeria",
          "Egypt",
          "Nigeria",
          "South Africa",
          "Middle-East",
          "Iran",
          "Kuwait",
          "Saudi Arabia",
          "World",
          "OECD",
          "G7",
          "BRICS",
          "Europe",
          "European Union",
          "Belgium",
          "Czechia",
          "France",
          "Germany",
          "Italy",
          "Netherlands",
          "Poland",
          "Portugal",
          "Romania",
          "Spain",
          "Sweden",
          "United Kingdom",
          "Norway",
          "Turkey",
          "CIS",
          "Kazakhstan",
          "Russia",
          "Ukraine",
          "Uzbekistan",
          "America",
          "North America",
          "Canada",
          "United States",
          "Latin America",
          "Argentina",
          "Brazil",
          "Chile",
          "Colombia",
          "Mexico",
          "Venezuela",
          "Asia",
          "China",
          "India",
          "Indonesia",
          "Japan",
          "Malaysia",
          "South Korea",
          "Taiwan",
          "Thailand",
          "Pacific",
          "Australia",
          "New Zealand",
          "Africa",
          "Algeria",
          "Egypt",
          "Nigeria",
          "South Africa",
          "Middle-East",
          "Iran",
          "Kuwait",
          "Saudi Arabia",
          "World",
          "OECD",
          "G7",
          "BRICS",
          "Europe",
          "European Union",
          "Belgium",
          "Czechia",
          "France",
          "Germany",
          "Italy",
          "Netherlands",
          "Poland",
          "Portugal",
          "Romania",
          "Spain",
          "Sweden",
          "United Kingdom",
          "Norway",
          "Turkey",
          "CIS",
          "Kazakhstan",
          "Russia",
          "Ukraine",
          "Uzbekistan",
          "America",
          "North America",
          "Canada",
          "United States",
          "Latin America",
          "Argentina",
          "Brazil",
          "Chile",
          "Colombia",
          "Mexico",
          "Venezuela",
          "Asia",
          "China",
          "India",
          "Indonesia",
          "Japan",
          "Malaysia",
          "South Korea",
          "Taiwan",
          "Thailand",
          "Pacific",
          "Australia",
          "New Zealand",
          "Africa",
          "Algeria",
          "Egypt",
          "Nigeria",
          "South Africa",
          "Middle-East",
          "Iran",
          "Kuwait",
          "Saudi Arabia",
          "World",
          "OECD",
          "G7",
          "BRICS",
          "Europe",
          "European Union",
          "Belgium",
          "Czechia",
          "France",
          "Germany",
          "Italy",
          "Netherlands",
          "Poland",
          "Portugal",
          "Romania",
          "Spain",
          "Sweden",
          "United Kingdom",
          "Norway",
          "Turkey",
          "CIS",
          "Kazakhstan",
          "Russia",
          "Ukraine",
          "Uzbekistan",
          "America",
          "North America",
          "Canada",
          "United States",
          "Latin America",
          "Argentina",
          "Brazil",
          "Chile",
          "Colombia",
          "Mexico",
          "Venezuela",
          "Asia",
          "China",
          "India",
          "Indonesia",
          "Japan",
          "Malaysia",
          "South Korea",
          "Taiwan",
          "Thailand",
          "Pacific",
          "Australia",
          "New Zealand",
          "Africa",
          "Algeria",
          "Egypt",
          "Nigeria",
          "South Africa",
          "Middle-East",
          "Iran",
          "Kuwait",
          "Saudi Arabia",
          "World",
          "OECD",
          "G7",
          "BRICS",
          "Europe",
          "European Union",
          "Belgium",
          "Czechia",
          "France",
          "Germany",
          "Italy",
          "Netherlands",
          "Poland",
          "Portugal",
          "Romania",
          "Spain",
          "Sweden",
          "United Kingdom",
          "Norway",
          "Turkey",
          "CIS",
          "Kazakhstan",
          "Russia",
          "Ukraine",
          "Uzbekistan",
          "America",
          "North America",
          "Canada",
          "United States",
          "Latin America",
          "Argentina",
          "Brazil",
          "Chile",
          "Colombia",
          "Mexico",
          "Venezuela",
          "Asia",
          "China",
          "India",
          "Indonesia",
          "Japan",
          "Malaysia",
          "South Korea",
          "Taiwan",
          "Thailand",
          "Pacific",
          "Australia",
          "New Zealand",
          "Africa",
          "Algeria",
          "Egypt",
          "Nigeria",
          "South Africa",
          "Middle-East",
          "Iran",
          "Kuwait",
          "Saudi Arabia",
          "World",
          "OECD",
          "G7",
          "BRICS",
          "Europe",
          "European Union",
          "Belgium",
          "Czechia",
          "France",
          "Germany",
          "Italy",
          "Netherlands",
          "Poland",
          "Portugal",
          "Romania",
          "Spain",
          "Sweden",
          "United Kingdom",
          "Norway",
          "Turkey",
          "CIS",
          "Kazakhstan",
          "Russia",
          "Ukraine",
          "Uzbekistan",
          "America",
          "North America",
          "Canada",
          "United States",
          "Latin America",
          "Argentina",
          "Brazil",
          "Chile",
          "Colombia",
          "Mexico",
          "Venezuela",
          "Asia",
          "China",
          "India",
          "Indonesia",
          "Japan",
          "Malaysia",
          "South Korea",
          "Taiwan",
          "Thailand",
          "Pacific",
          "Australia",
          "New Zealand",
          "Africa",
          "Algeria",
          "Egypt",
          "Nigeria",
          "South Africa",
          "Middle-East",
          "Iran",
          "Kuwait",
          "Saudi Arabia",
          "World",
          "OECD",
          "G7",
          "BRICS",
          "Europe",
          "European Union",
          "Belgium",
          "Czechia",
          "France",
          "Germany",
          "Italy",
          "Netherlands",
          "Poland",
          "Portugal",
          "Romania",
          "Spain",
          "Sweden",
          "United Kingdom",
          "Norway",
          "Turkey",
          "CIS",
          "Kazakhstan",
          "Russia",
          "Ukraine",
          "Uzbekistan",
          "America",
          "North America",
          "Canada",
          "United States",
          "Latin America",
          "Argentina",
          "Brazil",
          "Chile",
          "Colombia",
          "Mexico",
          "Venezuela",
          "Asia",
          "China",
          "India",
          "Indonesia",
          "Japan",
          "Malaysia",
          "South Korea",
          "Taiwan",
          "Thailand",
          "Pacific",
          "Australia",
          "New Zealand",
          "Africa",
          "Algeria",
          "Egypt",
          "Nigeria",
          "South Africa",
          "Middle-East",
          "Iran",
          "Kuwait",
          "Saudi Arabia",
          "World",
          "OECD",
          "G7",
          "BRICS",
          "Europe",
          "European Union",
          "Belgium",
          "Czechia",
          "France",
          "Germany",
          "Italy",
          "Netherlands",
          "Poland",
          "Portugal",
          "Romania",
          "Spain",
          "Sweden",
          "United Kingdom",
          "Norway",
          "Turkey",
          "CIS",
          "Kazakhstan",
          "Russia",
          "Ukraine",
          "Uzbekistan",
          "America",
          "North America",
          "Canada",
          "United States",
          "Latin America",
          "Argentina",
          "Brazil",
          "Chile",
          "Colombia",
          "Mexico",
          "Venezuela",
          "Asia",
          "China",
          "India",
          "Indonesia",
          "Japan",
          "Malaysia",
          "South Korea",
          "Taiwan",
          "Thailand",
          "Pacific",
          "Australia",
          "New Zealand",
          "Africa",
          "Algeria",
          "Egypt",
          "Nigeria",
          "South Africa",
          "Middle-East",
          "Iran",
          "Kuwait",
          "Saudi Arabia"
         ],
         "text": [
          null,
          null,
          null,
          null,
          null,
          null,
          "BE",
          null,
          "FR",
          "DE",
          "IT",
          "NL",
          "PL",
          "PT",
          "RO",
          "ES",
          "SE",
          "GB",
          "NO",
          "TR",
          null,
          "KZ",
          "RU",
          "UA",
          "UZ",
          null,
          null,
          "CA",
          "US",
          null,
          "AR",
          "BR",
          "CL",
          "CO",
          "MX",
          "VE",
          null,
          "CN",
          "IN",
          "ID",
          "JP",
          "MY",
          "KR",
          "TW",
          "TH",
          null,
          "AU",
          "NZ",
          null,
          "DZ",
          "EG",
          "NG",
          "ZA",
          null,
          "IR",
          "KW",
          "SA",
          null,
          null,
          null,
          null,
          null,
          null,
          "BE",
          null,
          "FR",
          "DE",
          "IT",
          "NL",
          "PL",
          "PT",
          "RO",
          "ES",
          "SE",
          "GB",
          "NO",
          "TR",
          null,
          "KZ",
          "RU",
          "UA",
          "UZ",
          null,
          null,
          "CA",
          "US",
          null,
          "AR",
          "BR",
          "CL",
          "CO",
          "MX",
          "VE",
          null,
          "CN",
          "IN",
          "ID",
          "JP",
          "MY",
          "KR",
          "TW",
          "TH",
          null,
          "AU",
          "NZ",
          null,
          "DZ",
          "EG",
          "NG",
          "ZA",
          null,
          "IR",
          "KW",
          "SA",
          null,
          null,
          null,
          null,
          null,
          null,
          "BE",
          null,
          "FR",
          "DE",
          "IT",
          "NL",
          "PL",
          "PT",
          "RO",
          "ES",
          "SE",
          "GB",
          "NO",
          "TR",
          null,
          "KZ",
          "RU",
          "UA",
          "UZ",
          null,
          null,
          "CA",
          "US",
          null,
          "AR",
          "BR",
          "CL",
          "CO",
          "MX",
          "VE",
          null,
          "CN",
          "IN",
          "ID",
          "JP",
          "MY",
          "KR",
          "TW",
          "TH",
          null,
          "AU",
          "NZ",
          null,
          "DZ",
          "EG",
          "NG",
          "ZA",
          null,
          "IR",
          "KW",
          "SA",
          null,
          null,
          null,
          null,
          null,
          null,
          "BE",
          null,
          "FR",
          "DE",
          "IT",
          "NL",
          "PL",
          "PT",
          "RO",
          "ES",
          "SE",
          "GB",
          "NO",
          "TR",
          null,
          "KZ",
          "RU",
          "UA",
          "UZ",
          null,
          null,
          "CA",
          "US",
          null,
          "AR",
          "BR",
          "CL",
          "CO",
          "MX",
          "VE",
          null,
          "CN",
          "IN",
          "ID",
          "JP",
          "MY",
          "KR",
          "TW",
          "TH",
          null,
          "AU",
          "NZ",
          null,
          "DZ",
          "EG",
          "NG",
          "ZA",
          null,
          "IR",
          "KW",
          "SA",
          null,
          null,
          null,
          null,
          null,
          null,
          "BE",
          null,
          "FR",
          "DE",
          "IT",
          "NL",
          "PL",
          "PT",
          "RO",
          "ES",
          "SE",
          "GB",
          "NO",
          "TR",
          null,
          "KZ",
          "RU",
          "UA",
          "UZ",
          null,
          null,
          "CA",
          "US",
          null,
          "AR",
          "BR",
          "CL",
          "CO",
          "MX",
          "VE",
          null,
          "CN",
          "IN",
          "ID",
          "JP",
          "MY",
          "KR",
          "TW",
          "TH",
          null,
          "AU",
          "NZ",
          null,
          "DZ",
          "EG",
          "NG",
          "ZA",
          null,
          "IR",
          "KW",
          "SA",
          null,
          null,
          null,
          null,
          null,
          null,
          "BE",
          null,
          "FR",
          "DE",
          "IT",
          "NL",
          "PL",
          "PT",
          "RO",
          "ES",
          "SE",
          "GB",
          "NO",
          "TR",
          null,
          "KZ",
          "RU",
          "UA",
          "UZ",
          null,
          null,
          "CA",
          "US",
          null,
          "AR",
          "BR",
          "CL",
          "CO",
          "MX",
          "VE",
          null,
          "CN",
          "IN",
          "ID",
          "JP",
          "MY",
          "KR",
          "TW",
          "TH",
          null,
          "AU",
          "NZ",
          null,
          "DZ",
          "EG",
          "NG",
          "ZA",
          null,
          "IR",
          "KW",
          "SA",
          null,
          null,
          null,
          null,
          null,
          null,
          "BE",
          null,
          "FR",
          "DE",
          "IT",
          "NL",
          "PL",
          "PT",
          "RO",
          "ES",
          "SE",
          "GB",
          "NO",
          "TR",
          null,
          "KZ",
          "RU",
          "UA",
          "UZ",
          null,
          null,
          "CA",
          "US",
          null,
          "AR",
          "BR",
          "CL",
          "CO",
          "MX",
          "VE",
          null,
          "CN",
          "IN",
          "ID",
          "JP",
          "MY",
          "KR",
          "TW",
          "TH",
          null,
          "AU",
          "NZ",
          null,
          "DZ",
          "EG",
          "NG",
          "ZA",
          null,
          "IR",
          "KW",
          "SA",
          null,
          null,
          null,
          null,
          null,
          null,
          "BE",
          null,
          "FR",
          "DE",
          "IT",
          "NL",
          "PL",
          "PT",
          "RO",
          "ES",
          "SE",
          "GB",
          "NO",
          "TR",
          null,
          "KZ",
          "RU",
          "UA",
          "UZ",
          null,
          null,
          "CA",
          "US",
          null,
          "AR",
          "BR",
          "CL",
          "CO",
          "MX",
          "VE",
          null,
          "CN",
          "IN",
          "ID",
          "JP",
          "MY",
          "KR",
          "TW",
          "TH",
          null,
          "AU",
          "NZ",
          null,
          "DZ",
          "EG",
          "NG",
          "ZA",
          null,
          "IR",
          "KW",
          "SA",
          null,
          null,
          null,
          null,
          null,
          null,
          "BE",
          null,
          "FR",
          "DE",
          "IT",
          "NL",
          "PL",
          "PT",
          "RO",
          "ES",
          "SE",
          "GB",
          "NO",
          "TR",
          null,
          "KZ",
          "RU",
          "UA",
          "UZ",
          null,
          null,
          "CA",
          "US",
          null,
          "AR",
          "BR",
          "CL",
          "CO",
          "MX",
          "VE",
          null,
          "CN",
          "IN",
          "ID",
          "JP",
          "MY",
          "KR",
          "TW",
          "TH",
          null,
          "AU",
          "NZ",
          null,
          "DZ",
          "EG",
          "NG",
          "ZA",
          null,
          "IR",
          "KW",
          "SA",
          null,
          null,
          null,
          null,
          null,
          null,
          "BE",
          null,
          "FR",
          "DE",
          "IT",
          "NL",
          "PL",
          "PT",
          "RO",
          "ES",
          "SE",
          "GB",
          "NO",
          "TR",
          null,
          "KZ",
          "RU",
          "UA",
          "UZ",
          null,
          null,
          "CA",
          "US",
          null,
          "AR",
          "BR",
          "CL",
          "CO",
          "MX",
          "VE",
          null,
          "CN",
          "IN",
          "ID",
          "JP",
          "MY",
          "KR",
          "TW",
          "TH",
          null,
          "AU",
          "NZ",
          null,
          "DZ",
          "EG",
          "NG",
          "ZA",
          null,
          "IR",
          "KW",
          "SA",
          null,
          null,
          null,
          null,
          null,
          null,
          "BE",
          null,
          "FR",
          "DE",
          "IT",
          "NL",
          "PL",
          "PT",
          "RO",
          "ES",
          "SE",
          "GB",
          "NO",
          "TR",
          null,
          "KZ",
          "RU",
          "UA",
          "UZ",
          null,
          null,
          "CA",
          "US",
          null,
          "AR",
          "BR",
          "CL",
          "CO",
          "MX",
          "VE",
          null,
          "CN",
          "IN",
          "ID",
          "JP",
          "MY",
          "KR",
          "TW",
          "TH",
          null,
          "AU",
          "NZ",
          null,
          "DZ",
          "EG",
          "NG",
          "ZA",
          null,
          "IR",
          "KW",
          "SA",
          null,
          null,
          null,
          null,
          null,
          null,
          "BE",
          null,
          "FR",
          "DE",
          "IT",
          "NL",
          "PL",
          "PT",
          "RO",
          "ES",
          "SE",
          "GB",
          "NO",
          "TR",
          null,
          "KZ",
          "RU",
          "UA",
          "UZ",
          null,
          null,
          "CA",
          "US",
          null,
          "AR",
          "BR",
          "CL",
          "CO",
          "MX",
          "VE",
          null,
          "CN",
          "IN",
          "ID",
          "JP",
          "MY",
          "KR",
          "TW",
          "TH",
          null,
          "AU",
          "NZ",
          null,
          "DZ",
          "EG",
          "NG",
          "ZA",
          null,
          "IR",
          "KW",
          "SA",
          null,
          null,
          null,
          null,
          null,
          null,
          "BE",
          null,
          "FR",
          "DE",
          "IT",
          "NL",
          "PL",
          "PT",
          "RO",
          "ES",
          "SE",
          "GB",
          "NO",
          "TR",
          null,
          "KZ",
          "RU",
          "UA",
          "UZ",
          null,
          null,
          "CA",
          "US",
          null,
          "AR",
          "BR",
          "CL",
          "CO",
          "MX",
          "VE",
          null,
          "CN",
          "IN",
          "ID",
          "JP",
          "MY",
          "KR",
          "TW",
          "TH",
          null,
          "AU",
          "NZ",
          null,
          "DZ",
          "EG",
          "NG",
          "ZA",
          null,
          "IR",
          "KW",
          "SA",
          null,
          null,
          null,
          null,
          null,
          null,
          "BE",
          null,
          "FR",
          "DE",
          "IT",
          "NL",
          "PL",
          "PT",
          "RO",
          "ES",
          "SE",
          "GB",
          "NO",
          "TR",
          null,
          "KZ",
          "RU",
          "UA",
          "UZ",
          null,
          null,
          "CA",
          "US",
          null,
          "AR",
          "BR",
          "CL",
          "CO",
          "MX",
          "VE",
          null,
          "CN",
          "IN",
          "ID",
          "JP",
          "MY",
          "KR",
          "TW",
          "TH",
          null,
          "AU",
          "NZ",
          null,
          "DZ",
          "EG",
          "NG",
          "ZA",
          null,
          "IR",
          "KW",
          "SA",
          null,
          null,
          null,
          null,
          null,
          null,
          "BE",
          null,
          "FR",
          "DE",
          "IT",
          "NL",
          "PL",
          "PT",
          "RO",
          "ES",
          "SE",
          "GB",
          "NO",
          "TR",
          null,
          "KZ",
          "RU",
          "UA",
          "UZ",
          null,
          null,
          "CA",
          "US",
          null,
          "AR",
          "BR",
          "CL",
          "CO",
          "MX",
          "VE",
          null,
          "CN",
          "IN",
          "ID",
          "JP",
          "MY",
          "KR",
          "TW",
          "TH",
          null,
          "AU",
          "NZ",
          null,
          "DZ",
          "EG",
          "NG",
          "ZA",
          null,
          "IR",
          "KW",
          "SA",
          null,
          null,
          null,
          null,
          null,
          null,
          "BE",
          null,
          "FR",
          "DE",
          "IT",
          "NL",
          "PL",
          "PT",
          "RO",
          "ES",
          "SE",
          "GB",
          "NO",
          "TR",
          null,
          "KZ",
          "RU",
          "UA",
          "UZ",
          null,
          null,
          "CA",
          "US",
          null,
          "AR",
          "BR",
          "CL",
          "CO",
          "MX",
          "VE",
          null,
          "CN",
          "IN",
          "ID",
          "JP",
          "MY",
          "KR",
          "TW",
          "TH",
          null,
          "AU",
          "NZ",
          null,
          "DZ",
          "EG",
          "NG",
          "ZA",
          null,
          "IR",
          "KW",
          "SA",
          null,
          null,
          null,
          null,
          null,
          null,
          "BE",
          null,
          "FR",
          "DE",
          "IT",
          "NL",
          "PL",
          "PT",
          "RO",
          "ES",
          "SE",
          "GB",
          "NO",
          "TR",
          null,
          "KZ",
          "RU",
          "UA",
          "UZ",
          null,
          null,
          "CA",
          "US",
          null,
          "AR",
          "BR",
          "CL",
          "CO",
          "MX",
          "VE",
          null,
          "CN",
          "IN",
          "ID",
          "JP",
          "MY",
          "KR",
          "TW",
          "TH",
          null,
          "AU",
          "NZ",
          null,
          "DZ",
          "EG",
          "NG",
          "ZA",
          null,
          "IR",
          "KW",
          "SA",
          null,
          null,
          null,
          null,
          null,
          null,
          "BE",
          null,
          "FR",
          "DE",
          "IT",
          "NL",
          "PL",
          "PT",
          "RO",
          "ES",
          "SE",
          "GB",
          "NO",
          "TR",
          null,
          "KZ",
          "RU",
          "UA",
          "UZ",
          null,
          null,
          "CA",
          "US",
          null,
          "AR",
          "BR",
          "CL",
          "CO",
          "MX",
          "VE",
          null,
          "CN",
          "IN",
          "ID",
          "JP",
          "MY",
          "KR",
          "TW",
          "TH",
          null,
          "AU",
          "NZ",
          null,
          "DZ",
          "EG",
          "NG",
          "ZA",
          null,
          "IR",
          "KW",
          "SA",
          null,
          null,
          null,
          null,
          null,
          null,
          "BE",
          null,
          "FR",
          "DE",
          "IT",
          "NL",
          "PL",
          "PT",
          "RO",
          "ES",
          "SE",
          "GB",
          "NO",
          "TR",
          null,
          "KZ",
          "RU",
          "UA",
          "UZ",
          null,
          null,
          "CA",
          "US",
          null,
          "AR",
          "BR",
          "CL",
          "CO",
          "MX",
          "VE",
          null,
          "CN",
          "IN",
          "ID",
          "JP",
          "MY",
          "KR",
          "TW",
          "TH",
          null,
          "AU",
          "NZ",
          null,
          "DZ",
          "EG",
          "NG",
          "ZA",
          null,
          "IR",
          "KW",
          "SA",
          null,
          null,
          null,
          null,
          null,
          null,
          "BE",
          null,
          "FR",
          "DE",
          "IT",
          "NL",
          "PL",
          "PT",
          "RO",
          "ES",
          "SE",
          "GB",
          "NO",
          "TR",
          null,
          "KZ",
          "RU",
          "UA",
          "UZ",
          null,
          null,
          "CA",
          "US",
          null,
          "AR",
          "BR",
          "CL",
          "CO",
          "MX",
          "VE",
          null,
          "CN",
          "IN",
          "ID",
          "JP",
          "MY",
          "KR",
          "TW",
          "TH",
          null,
          "AU",
          "NZ",
          null,
          "DZ",
          "EG",
          "NG",
          "ZA",
          null,
          "IR",
          "KW",
          "SA",
          null,
          null,
          null,
          null,
          null,
          null,
          "BE",
          null,
          "FR",
          "DE",
          "IT",
          "NL",
          "PL",
          "PT",
          "RO",
          "ES",
          "SE",
          "GB",
          "NO",
          "TR",
          null,
          "KZ",
          "RU",
          "UA",
          "UZ",
          null,
          null,
          "CA",
          "US",
          null,
          "AR",
          "BR",
          "CL",
          "CO",
          "MX",
          "VE",
          null,
          "CN",
          "IN",
          "ID",
          "JP",
          "MY",
          "KR",
          "TW",
          "TH",
          null,
          "AU",
          "NZ",
          null,
          "DZ",
          "EG",
          "NG",
          "ZA",
          null,
          "IR",
          "KW",
          "SA",
          null,
          null,
          null,
          null,
          null,
          null,
          "BE",
          null,
          "FR",
          "DE",
          "IT",
          "NL",
          "PL",
          "PT",
          "RO",
          "ES",
          "SE",
          "GB",
          "NO",
          "TR",
          null,
          "KZ",
          "RU",
          "UA",
          "UZ",
          null,
          null,
          "CA",
          "US",
          null,
          "AR",
          "BR",
          "CL",
          "CO",
          "MX",
          "VE",
          null,
          "CN",
          "IN",
          "ID",
          "JP",
          "MY",
          "KR",
          "TW",
          "TH",
          null,
          "AU",
          "NZ",
          null,
          "DZ",
          "EG",
          "NG",
          "ZA",
          null,
          "IR",
          "KW",
          "SA",
          null,
          null,
          null,
          null,
          null,
          null,
          "BE",
          null,
          "FR",
          "DE",
          "IT",
          "NL",
          "PL",
          "PT",
          "RO",
          "ES",
          "SE",
          "GB",
          "NO",
          "TR",
          null,
          "KZ",
          "RU",
          "UA",
          "UZ",
          null,
          null,
          "CA",
          "US",
          null,
          "AR",
          "BR",
          "CL",
          "CO",
          "MX",
          "VE",
          null,
          "CN",
          "IN",
          "ID",
          "JP",
          "MY",
          "KR",
          "TW",
          "TH",
          null,
          "AU",
          "NZ",
          null,
          "DZ",
          "EG",
          "NG",
          "ZA",
          null,
          "IR",
          "KW",
          "SA",
          null,
          null,
          null,
          null,
          null,
          null,
          "BE",
          null,
          "FR",
          "DE",
          "IT",
          "NL",
          "PL",
          "PT",
          "RO",
          "ES",
          "SE",
          "GB",
          "NO",
          "TR",
          null,
          "KZ",
          "RU",
          "UA",
          "UZ",
          null,
          null,
          "CA",
          "US",
          null,
          "AR",
          "BR",
          "CL",
          "CO",
          "MX",
          "VE",
          null,
          "CN",
          "IN",
          "ID",
          "JP",
          "MY",
          "KR",
          "TW",
          "TH",
          null,
          "AU",
          "NZ",
          null,
          "DZ",
          "EG",
          "NG",
          "ZA",
          null,
          "IR",
          "KW",
          "SA",
          null,
          null,
          null,
          null,
          null,
          null,
          "BE",
          null,
          "FR",
          "DE",
          "IT",
          "NL",
          "PL",
          "PT",
          "RO",
          "ES",
          "SE",
          "GB",
          "NO",
          "TR",
          null,
          "KZ",
          "RU",
          "UA",
          "UZ",
          null,
          null,
          "CA",
          "US",
          null,
          "AR",
          "BR",
          "CL",
          "CO",
          "MX",
          "VE",
          null,
          "CN",
          "IN",
          "ID",
          "JP",
          "MY",
          "KR",
          "TW",
          "TH",
          null,
          "AU",
          "NZ",
          null,
          "DZ",
          "EG",
          "NG",
          "ZA",
          null,
          "IR",
          "KW",
          "SA",
          null,
          null,
          null,
          null,
          null,
          null,
          "BE",
          null,
          "FR",
          "DE",
          "IT",
          "NL",
          "PL",
          "PT",
          "RO",
          "ES",
          "SE",
          "GB",
          "NO",
          "TR",
          null,
          "KZ",
          "RU",
          "UA",
          "UZ",
          null,
          null,
          "CA",
          "US",
          null,
          "AR",
          "BR",
          "CL",
          "CO",
          "MX",
          "VE",
          null,
          "CN",
          "IN",
          "ID",
          "JP",
          "MY",
          "KR",
          "TW",
          "TH",
          null,
          "AU",
          "NZ",
          null,
          "DZ",
          "EG",
          "NG",
          "ZA",
          null,
          "IR",
          "KW",
          "SA",
          null,
          null,
          null,
          null,
          null,
          null,
          "BE",
          null,
          "FR",
          "DE",
          "IT",
          "NL",
          "PL",
          "PT",
          "RO",
          "ES",
          "SE",
          "GB",
          "NO",
          "TR",
          null,
          "KZ",
          "RU",
          "UA",
          "UZ",
          null,
          null,
          "CA",
          "US",
          null,
          "AR",
          "BR",
          "CL",
          "CO",
          "MX",
          "VE",
          null,
          "CN",
          "IN",
          "ID",
          "JP",
          "MY",
          "KR",
          "TW",
          "TH",
          null,
          "AU",
          "NZ",
          null,
          "DZ",
          "EG",
          "NG",
          "ZA",
          null,
          "IR",
          "KW",
          "SA",
          null,
          null,
          null,
          null,
          null,
          null,
          "BE",
          null,
          "FR",
          "DE",
          "IT",
          "NL",
          "PL",
          "PT",
          "RO",
          "ES",
          "SE",
          "GB",
          "NO",
          "TR",
          null,
          "KZ",
          "RU",
          "UA",
          "UZ",
          null,
          null,
          "CA",
          "US",
          null,
          "AR",
          "BR",
          "CL",
          "CO",
          "MX",
          "VE",
          null,
          "CN",
          "IN",
          "ID",
          "JP",
          "MY",
          "KR",
          "TW",
          "TH",
          null,
          "AU",
          "NZ",
          null,
          "DZ",
          "EG",
          "NG",
          "ZA",
          null,
          "IR",
          "KW",
          "SA",
          null,
          null,
          null,
          null,
          null,
          null,
          "BE",
          null,
          "FR",
          "DE",
          "IT",
          "NL",
          "PL",
          "PT",
          "RO",
          "ES",
          "SE",
          "GB",
          "NO",
          "TR",
          null,
          "KZ",
          "RU",
          "UA",
          "UZ",
          null,
          null,
          "CA",
          "US",
          null,
          "AR",
          "BR",
          "CL",
          "CO",
          "MX",
          "VE",
          null,
          "CN",
          "IN",
          "ID",
          "JP",
          "MY",
          "KR",
          "TW",
          "TH",
          null,
          "AU",
          "NZ",
          null,
          "DZ",
          "EG",
          "NG",
          "ZA",
          null,
          "IR",
          "KW",
          "SA",
          null,
          null,
          null,
          null,
          null,
          null,
          "BE",
          null,
          "FR",
          "DE",
          "IT",
          "NL",
          "PL",
          "PT",
          "RO",
          "ES",
          "SE",
          "GB",
          "NO",
          "TR",
          null,
          "KZ",
          "RU",
          "UA",
          "UZ",
          null,
          null,
          "CA",
          "US",
          null,
          "AR",
          "BR",
          "CL",
          "CO",
          "MX",
          "VE",
          null,
          "CN",
          "IN",
          "ID",
          "JP",
          "MY",
          "KR",
          "TW",
          "TH",
          null,
          "AU",
          "NZ",
          null,
          "DZ",
          "EG",
          "NG",
          "ZA",
          null,
          "IR",
          "KW",
          "SA",
          null,
          null,
          null,
          null,
          null,
          null,
          "BE",
          null,
          "FR",
          "DE",
          "IT",
          "NL",
          "PL",
          "PT",
          "RO",
          "ES",
          "SE",
          "GB",
          "NO",
          "TR",
          null,
          "KZ",
          "RU",
          "UA",
          "UZ",
          null,
          null,
          "CA",
          "US",
          null,
          "AR",
          "BR",
          "CL",
          "CO",
          "MX",
          "VE",
          null,
          "CN",
          "IN",
          "ID",
          "JP",
          "MY",
          "KR",
          "TW",
          "TH",
          null,
          "AU",
          "NZ",
          null,
          "DZ",
          "EG",
          "NG",
          "ZA",
          null,
          "IR",
          "KW",
          "SA"
         ],
         "type": "choropleth",
         "z": [
          0.51709870095218,
          0.69562676726195,
          0.7388934431556,
          0.005371522621034,
          0.17739647387421,
          0.20599879749795,
          0.009869858861018,
          0,
          0.11954814129972,
          0.013090552075852,
          1.4903047091413,
          0.31958648288128,
          0,
          0.021051892916038,
          0,
          0.015139248171771,
          0.004095171792457,
          0.002814813424783,
          0.053345151336091,
          0.13902646716369,
          0.00167048093146,
          0,
          0.002587436885022,
          0,
          "n.a.",
          0.59685972431302,
          0.53421271718098,
          0.005392490334998,
          0.6134304101042,
          0.97990313828478,
          0,
          0,
          0,
          0,
          4.4251836632509,
          0,
          1.2483731046744,
          0.010945356915212,
          0.011054686150551,
          3.4438424097713,
          2.4500587476584,
          0,
          0.0009490277211,
          0.003325757995677,
          0.002263672582398,
          1.1587773060561,
          0,
          6.8125464914456,
          0.10236745161029,
          0,
          0,
          0,
          0,
          0.000409023048449,
          0,
          0,
          0,
          0.52204019724578,
          0.70146943029621,
          0.74107940630082,
          0.005803213438132,
          0.18221525927606,
          0.21278597701566,
          0.011120996441281,
          0,
          0.11348794327798,
          0.040027129498883,
          1.4381288996285,
          0.28231877823188,
          0,
          0.023433315479379,
          0,
          0.016687954506069,
          0.008819778012972,
          0.003406891211769,
          0.037834770153771,
          0.13444876008366,
          0.001773764313208,
          0,
          0.002714941446202,
          0,
          "n.a.",
          0.59779120117158,
          0.53197167750234,
          0.006292127761654,
          0.61358308098076,
          0.98655919617386,
          0,
          0,
          0,
          0,
          4.2296683467115,
          0,
          1.2097960894662,
          0.011068068622025,
          0.012354635047249,
          2.8093197643278,
          2.4542847856383,
          0,
          0.000870928409685,
          0.002016555924137,
          0.001992627279067,
          1.2226974871479,
          0,
          7.0697059795177,
          0.091002827743055,
          0,
          0,
          0,
          0,
          0.000406279455261,
          0,
          0,
          0,
          0.53811432501084,
          0.7204678092285,
          0.75725160614614,
          0.00989963842369,
          0.21991858464215,
          0.26247311767262,
          0.012461059190031,
          0,
          0.11129348480175,
          0.054886784378663,
          1.6720146384152,
          0.45950528754676,
          0,
          0.033235841531508,
          0,
          0.07245372412142,
          0.021165466152323,
          0.012459390175148,
          0.036594810345268,
          0.10394701672062,
          0.001896848092556,
          0,
          0.002875700332193,
          0,
          "n.a.",
          0.62760961691179,
          0.54907531131453,
          0.018063375545264,
          0.6330388935766,
          1.0812061888357,
          0,
          0,
          0,
          0,
          4.371387283237,
          0,
          1.1383601923086,
          0.017372369445317,
          0.026442387146596,
          2.6112302170404,
          2.4202714892063,
          0,
          0.001585162875485,
          0.001895195678954,
          0.001751374829241,
          1.1941218763071,
          0,
          7.0733783208706,
          0.082698838976625,
          0,
          0,
          0,
          0,
          0.000357228336781,
          0,
          0,
          0,
          0.54393702676474,
          0.73321032335974,
          0.77000948898689,
          0.010472845076366,
          0.25669103410987,
          0.299617370253,
          0.011294011350481,
          0,
          0.10492757670185,
          0.12863972516322,
          1.8110250356819,
          0.5041537604168,
          0,
          0.051272191245273,
          0,
          0.082269358809199,
          0.033604915919129,
          0.067470953445042,
          0.05245322920396,
          0.10567960112725,
          0.001950276312362,
          0,
          0.002927073021063,
          0,
          "n.a.",
          0.62465486645556,
          0.55339053451901,
          0.017849493074397,
          0.63694566262517,
          1.0297319685334,
          0,
          0,
          0,
          0,
          4.3354241448188,
          0,
          1.0749179471033,
          0.017056318053814,
          0.027775595632217,
          2.4008810572687,
          2.4167010363558,
          0,
          0.002071622909387,
          0.000868017881168,
          0.001577112937057,
          1.228221195241,
          0.006721662083715,
          7.1480671043034,
          0.079809009018787,
          0,
          0,
          0,
          0,
          0.000323769191419,
          0,
          0,
          0,
          0.55995940076174,
          0.73873691619762,
          0.78550035856254,
          0.014934357229825,
          0.28272057044219,
          0.32737322085344,
          0.012469000678868,
          0,
          0.10631872971137,
          0.27118451886008,
          1.6129380146929,
          0.57094920305007,
          0,
          0.16251354279523,
          0,
          0.11739047160077,
          0.051030037818151,
          0.104751490871,
          0.056459296376019,
          0.10086694500836,
          0.002368706785428,
          0,
          0.003539160237192,
          0,
          "n.a.",
          0.60346842988667,
          0.54315737119278,
          0.017092971370173,
          0.62733288516987,
          0.93517816315882,
          0,
          0,
          0,
          0,
          3.8115692817965,
          0,
          1.1019122795425,
          0.017452288996978,
          0.051863722881756,
          3.7676700806106,
          2.4401120186794,
          0,
          0.001834682844492,
          0,
          0.001404948227658,
          1.1316068064368,
          0.010151496151389,
          6.5849879490417,
          0.073992394329284,
          0,
          0,
          0,
          0,
          0.000303218666141,
          0,
          0,
          0,
          0.55025618873562,
          0.72424155328811,
          0.7680856673615,
          0.027216755624463,
          0.30024853997427,
          0.34807098041722,
          0.012095473604989,
          0,
          0.10378858689715,
          0.31994252574058,
          1.5847512723147,
          0.74547784513776,
          0.000719393407479,
          0.17736359537051,
          0,
          0.17355915973427,
          0.067407702004031,
          0.11705149966621,
          0.044643219506652,
          0.099713613227127,
          0.002361514864555,
          0,
          0.003488262577803,
          0,
          "n.a.",
          0.52879396947062,
          0.46016276256992,
          0.017139306857865,
          0.52943596993284,
          0.89841228052345,
          0,
          0,
          0,
          0,
          3.7314119068888,
          0,
          1.1296037284657,
          0.018652385024913,
          0.12676090024156,
          3.7335495751187,
          2.6509831637933,
          0,
          0.001087801933024,
          0,
          0.001248704469113,
          1.0645743274497,
          0.013282589989547,
          6.1811929785641,
          0.10702505314447,
          0,
          0,
          0,
          0,
          0.000289264804573,
          0,
          0,
          0,
          0.56496035544337,
          0.74212715911676,
          0.79012461917986,
          0.04119491143094,
          0.32702448207944,
          0.37498006064769,
          0.010512621716448,
          0,
          0.097195548093292,
          0.37632433756113,
          1.6994432012044,
          0.79018531308898,
          0,
          0.20567190985197,
          0,
          0.21896262159017,
          0.10308398856834,
          0.13908324759383,
          0.054293987655262,
          0.08854968269697,
          0.002263388956117,
          0,
          0.003305071041322,
          0,
          "n.a.",
          0.53715504575888,
          0.47439307944213,
          0.017450788775653,
          0.54560456804447,
          0.86771077776642,
          0.014332396950066,
          0.000686629268259,
          0,
          0,
          3.6406643372165,
          0,
          1.1314114680964,
          0.020643560690217,
          0.21157139847778,
          3.4729194967811,
          2.7032134422587,
          0,
          0.001460692757885,
          0,
          0.002226130317669,
          1.0443279422704,
          0.014639804502303,
          6.1305623337812,
          0.10187675842762,
          0,
          0,
          0,
          0,
          0.000273198664605,
          0,
          0,
          0,
          0.57288589071663,
          0.74871011066646,
          0.7907765375345,
          0.047559857719862,
          0.41823861900254,
          0.48606944054337,
          0.010148034452577,
          0,
          0.10361154585257,
          0.55334563796111,
          1.8789293482799,
          0.82522364254178,
          0.001400658309405,
          0.26309635173059,
          0,
          0.39968067562316,
          0.13668433289335,
          0.19020948709028,
          0.050153595385869,
          0.080351610904585,
          0.002395680505439,
          0,
          0.003476667961426,
          0,
          "n.a.",
          0.5069056408346,
          0.44853736644723,
          0.017604682496937,
          0.51539756304412,
          0.79851794040971,
          0.02069679199724,
          0.001298777201265,
          0,
          0,
          3.2741666815927,
          0,
          1.1009896614571,
          0.02931627061823,
          0.22305327516917,
          3.4906937167513,
          2.6043443428546,
          0,
          0.001780119624039,
          0,
          0.002145324265763,
          1.0649315801014,
          0.016398908925926,
          6.3030531676952,
          0.091120990642334,
          0,
          0,
          0,
          0,
          0.00076986047562,
          0,
          0,
          0,
          0.58327495689922,
          0.74798195806709,
          0.75745509819167,
          0.055122974918053,
          0.5475753568209,
          0.63479600864832,
          0.013223855835928,
          0,
          0.1062048678209,
          0.83178616553407,
          1.9969207082371,
          0.93947209570323,
          0.002801336237385,
          0.379642930433,
          0,
          0.70383575116794,
          0.20021280480511,
          0.24179562893056,
          0.055551757144811,
          0.081065014141341,
          0.002765776449833,
          0,
          0.003626876606404,
          0.001735890106584,
          "n.a.",
          0.49808840271028,
          0.44125458278891,
          0.018513244090003,
          0.50325167361139,
          0.77539616425848,
          0.044484585417144,
          0.001554011213745,
          0,
          0,
          3.1151263823065,
          0,
          1.0272484679102,
          0.042826552462527,
          0.22719726316849,
          3.3534944514211,
          2.2560575912372,
          0,
          0.002753695689089,
          0,
          0.002220939013015,
          1.124687839267,
          0.018426669533037,
          6.9607295737949,
          0.10372713858056,
          0,
          0,
          0,
          0,
          0.000711202144986,
          0,
          0,
          0,
          0.62975613428497,
          0.80109204500673,
          0.79813786705731,
          0.068643862985584,
          0.64645125509711,
          0.74655342457703,
          0.015382066876494,
          0,
          0.1053620536852,
          0.99910120438612,
          2.0627326690933,
          0.95479704797048,
          0.002814364516492,
          0.47127313050107,
          0,
          1.3296710156689,
          0.23182229110164,
          0.23115452313175,
          0.066820407930442,
          0.087598763311577,
          0.002717964261241,
          0,
          0.003545152240654,
          0.001742970020916,
          "n.a.",
          0.53098415271372,
          0.47842390184994,
          0.036093227598022,
          0.54414116881564,
          0.78322042036036,
          0.04333882291757,
          0.000597521480897,
          0,
          0,
          2.9486710876717,
          0,
          1.0589382749789,
          0.050567493086287,
          0.28118794930057,
          3.1752313332945,
          2.282991328239,
          0,
          0.004631520443952,
          0,
          0.002221259676362,
          1.2083802085686,
          0.030394093741268,
          7.6656618541435,
          0.10337493810537,
          0,
          0.035039053945543,
          0,
          0,
          0.008526449945251,
          0.031067754333952,
          0,
          0,
          0.68825083534667,
          0.86153571340816,
          0.82837117239506,
          0.074540855452436,
          0.88009940548767,
          1.0438658354255,
          0.019044898347855,
          0.001361173876351,
          0.1037125384755,
          1.632488816966,
          2.1948944845685,
          1.2094164900145,
          0.003443905664536,
          0.56896078969016,
          0,
          2.112105066201,
          0.3152836864786,
          0.25141287138428,
          0.03566882544656,
          0.12407742431277,
          0.005279121554173,
          0,
          0.006835534755276,
          0.003499664615474,
          "n.a.",
          0.52390550235859,
          0.45706935510116,
          0.051510053540738,
          0.51768378699755,
          0.84078962812857,
          0.039328494055779,
          0.000573213722737,
          0,
          0.013911108019754,
          2.8817308861067,
          0,
          1.0736139745496,
          0.055541704960693,
          0.29993435600393,
          5.2172515403161,
          2.2301595031354,
          0,
          0.007582912251918,
          0.000539397600759,
          0.00208383258489,
          1.2679241752701,
          0.045665575766801,
          7.9216245827707,
          0.15045641393096,
          0,
          0.17531960636269,
          0,
          0,
          0.008466773206896,
          0.030482027961082,
          0,
          0,
          0.72948861009455,
          0.93228739095235,
          0.8936280015578,
          0.093593244561038,
          0.99476519024263,
          1.1744965829336,
          0.046353716440536,
          0,
          0.11318763306826,
          1.8028464920209,
          2.3389926489826,
          1.1520023915527,
          0.009614328095814,
          0.77834397643467,
          0,
          2.8707485298853,
          0.2994734464815,
          0.25130590711817,
          0.077118713594224,
          0.15807700142595,
          0.008658438002042,
          0,
          0.01054658223417,
          0.009250052031543,
          "n.a.",
          0.56256988946608,
          0.49885549418904,
          0.06577486349173,
          0.56494865737702,
          0.85342538108047,
          0.054351443086275,
          0.010654230642785,
          0.016458583151113,
          0.013809611489597,
          2.6136979643718,
          0,
          1.0564533624132,
          0.060501745839999,
          0.38614890921111,
          5.9563078989472,
          2.3203444572247,
          0.001406786337291,
          0.006110149923784,
          0.006341154090044,
          0.001952743604765,
          1.2251656276849,
          0.11307231731476,
          7.6520684339542,
          0.20460629353726,
          0,
          0.26536346389376,
          0,
          0,
          0.009405906909539,
          0.026113871842334,
          0,
          0,
          0.79876853777803,
          1.0557150042903,
          1.0162845623304,
          0.10629583503317,
          1.261313153981,
          1.509309135252,
          0.069453752330356,
          0.002619584010059,
          0.13701472461114,
          2.7346453176613,
          2.4032866417084,
          1.2408576608114,
          0.042324077543261,
          0.9976793111675,
          0,
          3.8211723977449,
          0.41571540532252,
          0.32511549476174,
          0.084158983971539,
          0.14914992272025,
          0.014438076346037,
          0,
          0.018176004308386,
          0.012663036596176,
          "n.a.",
          0.62641909434086,
          0.58172263755245,
          0.076837488711375,
          0.6566579118861,
          0.83313168372379,
          0.086283316588854,
          0.017646837599914,
          0.016028943692611,
          0.013319126265317,
          2.4869283891101,
          0,
          1.009687491613,
          0.06269027738483,
          0.44510704907264,
          5.7643438646423,
          2.3056649173973,
          0.001346819485784,
          0.006628862065433,
          0.008020934639409,
          0.00183464357462,
          1.2799642016087,
          0.1819340379249,
          7.5539037117259,
          0.16868406646443,
          0,
          0.22872519340733,
          0,
          0,
          0.008249309120361,
          0.021264380037,
          0,
          0,
          0.87560356682834,
          1.2031335966708,
          1.1399515245218,
          0.12812832105437,
          1.5464316154688,
          1.8622483235078,
          0.10398203946591,
          0.006007665781537,
          0.15630540594419,
          3.5195385847657,
          2.6238154380115,
          1.6185006920201,
          0.081777472944187,
          1.2571501750192,
          0,
          4.6393255237701,
          0.5028168078147,
          0.32345717457144,
          0.23771126005612,
          0.12875139599235,
          0.027635865583401,
          0,
          0.036342364720186,
          0.017187846529164,
          "n.a.",
          0.66841955370781,
          0.62163150924013,
          0.14957949845078,
          0.68982430145398,
          0.87440826255769,
          0.084712628698032,
          0.016742649016438,
          0.014948002306263,
          0.012890197005178,
          2.6708492614841,
          0,
          0.98603116266658,
          0.063796771433282,
          0.55949348165958,
          5.5711933719263,
          2.4792092822079,
          0.001274388612063,
          0.009559897100744,
          0.01142536144607,
          0.001709650120103,
          1.4102853089098,
          0.34510556969593,
          7.3288024143092,
          0.27607965513576,
          0,
          0.38662366178835,
          0,
          0.00256159570335,
          0.007457558501883,
          0.017546367901844,
          0,
          0,
          0.98053582760162,
          1.390036681967,
          1.2690811041733,
          0.14629155411595,
          2.0082805175769,
          2.4236179184259,
          0.16697219854512,
          0.011857754378476,
          0.18691621345727,
          4.6138861518698,
          2.7239432069544,
          2.0827158298259,
          0.2322277648402,
          2.0019953441969,
          0,
          6.6745245111171,
          0.56808446137421,
          0.49222317840615,
          0.26306987171954,
          0.11413555587997,
          0.032987607358317,
          0,
          0.043997789379363,
          0.018115444789065,
          "n.a.",
          0.71917697527614,
          0.67950034681849,
          0.16633998693281,
          0.75324753716056,
          0.89022386138913,
          0.07179967889588,
          0.015743845059917,
          0.013669739103265,
          0.11865020311306,
          2.7805019719424,
          0,
          0.94197670496394,
          0.069162632936117,
          0.66488397456482,
          5.5391426645473,
          2.4025533158102,
          0.001215303096592,
          0.015482314850528,
          0.011858338464345,
          0.00159074820842,
          1.4715338740458,
          0.33882872076836,
          7.5922671353251,
          0.33716572281222,
          0,
          0.51629334939141,
          0,
          0.004905868645367,
          0.010206044990254,
          0.028157538432044,
          0,
          0,
          1.0831022150421,
          1.5843246203712,
          1.3917086486662,
          0.18650207356207,
          2.4010149923942,
          2.9025010997298,
          0.26199367997702,
          0.025430502070769,
          0.25240338713541,
          5.1308428313278,
          2.9025353967731,
          2.3658216826957,
          0.2440485293368,
          3.9656468062265,
          0,
          8.9151398920036,
          0.59140972638622,
          0.7310044281999,
          0.3978001434689,
          0.14263133196671,
          0.033215307303507,
          0,
          0.043752609942859,
          0.020424068151891,
          "n.a.",
          0.79961653824692,
          0.77389327849334,
          0.2596733142176,
          0.84822725951758,
          0.90883344799114,
          0.068072875795365,
          0.023075033558046,
          0.013337398064172,
          0.11123470522803,
          2.9218241561922,
          0,
          0.92782250845047,
          0.089343346400231,
          0.8775708206996,
          5.1784300041559,
          2.4445322237073,
          0.001209584749555,
          0.037237730809728,
          0.040531491206429,
          0.001512893636013,
          1.7928353924029,
          0.42160507325607,
          8.9864061370579,
          0.32625714353577,
          0,
          0.50786640905327,
          0,
          0.004899519030549,
          0.013174985507516,
          0.039867930461345,
          0,
          0,
          1.1949404290618,
          1.7798592783668,
          1.6355687426932,
          0.27509446878784,
          2.6358580856398,
          3.1141314780803,
          0.42982118037306,
          0.059269093538483,
          0.46236540435229,
          5.7931868385944,
          3.0434035183782,
          2.9524850250931,
          0.31408044911031,
          6.1479170489998,
          0,
          7.9312762973352,
          0.68751045908406,
          1.0662424518542,
          0.56011580661611,
          0.1712998939302,
          0.035220445748284,
          0,
          0.046997672209312,
          0.018098985939673,
          "n.a.",
          0.95809684444938,
          0.98263872555698,
          0.41201719552864,
          1.0635619023393,
          0.85836704413829,
          0.061704453298544,
          0.05651778879517,
          0.012653651482285,
          0.13017927545935,
          2.6198400322728,
          0,
          0.97706356703639,
          0.14291925132085,
          1.2770169636914,
          5.0033064807022,
          2.5373689659635,
          0.00111321384838,
          0.068560792632066,
          0.11760410298213,
          0.002162286834556,
          2.1718731451913,
          0.77524374006786,
          9.3600368324125,
          0.32121154810452,
          0,
          0.53376311662204,
          0,
          0.004728169646727,
          0.020006378845429,
          0.064873729772371,
          0,
          0,
          1.3551998882208,
          2.0810801379966,
          1.9000248583021,
          0.32555588809633,
          3.2290437172491,
          3.8190941992365,
          0.55954605840895,
          0.1439941948797,
          0.85245222616925,
          7.1261959111377,
          3.3967638035344,
          3.4707694648359,
          0.43803499259482,
          9.0195331513343,
          0.004864365281404,
          9.3119691600641,
          0.95956272411061,
          1.3325605422977,
          0.68808676890781,
          0.32157362261038,
          0.037100305923225,
          0,
          0.04845700868582,
          0.022929819465888,
          "n.a.",
          1.1093731576058,
          1.150651402325,
          0.48659708455739,
          1.24652832138,
          0.94655954132228,
          0.054603901536836,
          0.144895955718,
          0.015382248884787,
          0.1032010428737,
          2.8932676395083,
          0,
          0.97255688568862,
          0.18121208243063,
          1.4547895875703,
          4.9391140407032,
          2.5399652848933,
          0.001025472742934,
          0.10624455906168,
          0.18119365945453,
          0.002092371214552,
          2.637936241769,
          1.1190300916692,
          10.377660060279,
          0.36092832086037,
          0,
          0.66411463369802,
          0,
          0.004554442669055,
          0.021279585102654,
          0.070102850195602,
          0,
          0,
          1.6005451698873,
          2.4502427964274,
          2.2333493467988,
          0.500247110812,
          3.7036464974179,
          4.3547408890995,
          0.80183680678206,
          0.30843903547049,
          1.1226771370862,
          7.4563995876617,
          3.6004023426117,
          4.1347441237727,
          0.54409066031358,
          13.029103406273,
          0.007697518320094,
          11.419947857903,
          1.3343286367454,
          1.8356007292007,
          0.6719011636906,
          0.54128153695733,
          0.034919261005971,
          0,
          0.045175844572026,
          0.023366184457853,
          "n.a.",
          1.446371637368,
          1.5852723446583,
          0.60611420467646,
          1.7272090655755,
          0.91371575028529,
          0.034446841142651,
          0.18075138154954,
          0.063647326812274,
          0.10903566002324,
          2.7269182927056,
          0,
          1.1116271303471,
          0.43559833121106,
          1.6509400479843,
          5.5643357486305,
          2.4570727349834,
          0,
          0.16598384065551,
          0.24789581675809,
          0.002713225618276,
          3.0776510362741,
          1.3243099896802,
          12.148658514327,
          0.41150737421342,
          0,
          0.77706756998289,
          0,
          0.008130364588778,
          0.055185867284406,
          0.091362513401389,
          0,
          0,
          1.9448554577115,
          3.0048052677153,
          2.7440044603452,
          0.75671799844749,
          4.4456367153536,
          5.1983305872806,
          1.2758261632049,
          0.4587211778305,
          1.6373559733172,
          8.0319346017982,
          4.4983597594314,
          4.1833422758578,
          0.71513313999473,
          15.776684526062,
          0.015513496742166,
          15.111669268889,
          1.8268914323326,
          2.4689719606323,
          0.74522094814567,
          1.0302240108412,
          0.036809039959126,
          0,
          0.047178370531664,
          0.024766874593218,
          "n.a.",
          1.9002172556146,
          2.1501767318523,
          1.4324679592507,
          2.2544687892097,
          0.98436337128206,
          0.030241605911008,
          0.26559627221258,
          0.2898455255097,
          0.11372384351599,
          2.7499225032026,
          0,
          1.3360713379534,
          0.73514270694344,
          2.0755451799077,
          5.9314682281501,
          2.631854054064,
          0,
          0.2948268882122,
          0.3453098667408,
          0.007412698626629,
          3.6530932927785,
          1.6058058848655,
          14.7348554594,
          0.50153204158246,
          0,
          0.90227120695697,
          0,
          0.012021301746695,
          0.06607628673417,
          0.10163978858924,
          0,
          0,
          2.2066823955324,
          3.4345085722107,
          3.1663923348984,
          0.97136032182189,
          4.9700065962208,
          5.7840908519802,
          1.945602958325,
          1.2060114314983,
          1.9631539747896,
          8.2742608036391,
          5.6891916944753,
          3.524805272116,
          1.0598958498513,
          17.729709743021,
          0.50181209924728,
          17.118201686748,
          2.35344804373,
          2.7031625012105,
          0.71093497250081,
          1.7494602477179,
          0.038367939776495,
          0,
          0.049035191661127,
          0.027008706335925,
          "n.a.",
          2.3124811517255,
          2.6583232392904,
          1.9920206415325,
          2.750095353814,
          1.0602965594189,
          0.0198389080665,
          0.42210782460324,
          0.73468577290929,
          0.077520658430784,
          2.8627630308705,
          0.00175797902731,
          1.4816977533304,
          1.0802061695445,
          2.0294440187157,
          5.5150069217402,
          2.6513815452913,
          0,
          0.35755183100171,
          0.42615247508709,
          0.013791201213626,
          4.4456907272377,
          2.1538741634047,
          16.868382926557,
          0.60524587502688,
          0,
          1.1607945720592,
          0,
          0.013097021968328,
          0.033783251164959,
          0.069969393755983,
          0,
          0.00166617375693,
          2.7216739834732,
          4.2905263077142,
          4.1025772603963,
          1.3425988528359,
          6.5676675156419,
          7.5824103362082,
          3.8574483882049,
          3.0442287687049,
          2.7534389652328,
          11.674003421826,
          8.9608767210211,
          4.6972209791069,
          1.9645608628659,
          18.395821817281,
          2.2325087998457,
          17.862356940857,
          4.0676839200824,
          4.4045393277969,
          1.0059668023115,
          2.4076584725776,
          0.04300938873154,
          0,
          0.049963735998066,
          0.061554876172107,
          "n.a.",
          2.7697888153844,
          3.2574916970758,
          2.1028701335607,
          3.4256412803144,
          1.0886938610619,
          0.0471020647692,
          0.50869099983639,
          0.51435788961088,
          0.078794603373695,
          2.707193087343,
          0.001695446877411,
          1.8091713283431,
          1.5495484185903,
          2.4558373910089,
          5.112394161937,
          2.987393921497,
          0,
          0.39653268002584,
          0.62005847512427,
          0.064747325166195,
          5.2912797146845,
          2.9457883539516,
          18.308527166693,
          0.61750083264019,
          0,
          1.2135265163875,
          0,
          0.014093197937061,
          0.057295395414622,
          0.09039708063253,
          0,
          0.001999344215097,
          3.2123380113385,
          5.0459645326307,
          4.8801426971082,
          1.7574880505205,
          7.872999819134,
          9.1102608293253,
          5.9078904525885,
          3.0188290741037,
          3.6444217820122,
          12.717208274843,
          12.901759908045,
          5.1523223712888,
          2.9332856376319,
          23.164217526547,
          4.4847150478449,
          20.706817807561,
          4.312534146649,
          5.8274866095598,
          1.0483330285854,
          2.8689414436984,
          0.07234356190917,
          0.003232166521219,
          0.045015848941007,
          0.31225173221774,
          "n.a.",
          3.2813761617739,
          3.8455069292458,
          2.3681454458011,
          4.0631511236034,
          1.4262266040106,
          0.61003395610695,
          0.91382205622629,
          0.58637152155525,
          0.099151702104219,
          3.1162524249092,
          0.027940535965222,
          2.1631707035958,
          2.0518437459014,
          2.905160234128,
          4.7117932310153,
          3.1796962444604,
          0.034975182503479,
          0.45078916160698,
          0.63369736658215,
          0.38105639634666,
          6.0117793438822,
          3.704604054501,
          18.793492995933,
          0.6057084319194,
          0,
          0.90694479640423,
          0.073101959828733,
          0.014345589119065,
          0.064636554677624,
          0.081407604335447,
          0,
          0.008312782288232,
          3.8303080654463,
          5.9383833167201,
          5.7247696944041,
          2.3615741589208,
          9.1826244186697,
          10.397276374763,
          7.5699501724799,
          2.9788409098754,
          3.8877093897294,
          13.400949740176,
          14.802264955643,
          6.0612024008659,
          3.6535423502248,
          24.55827995278,
          8.3889483247576,
          24.066715447553,
          6.4485590796913,
          8.4880962348935,
          1.4029775046244,
          3.8304587889438,
          0.10908088627245,
          0.004850366202648,
          0.042394806116938,
          0.62198716926385,
          "n.a.",
          3.9305740633552,
          4.6420615680775,
          3.3559628703274,
          4.8384823323397,
          1.6269470879901,
          0.73278983558835,
          1.152866933521,
          0.76917812906316,
          0.089187983946163,
          3.484727201792,
          0.060859333793159,
          2.7555236225521,
          2.878646773315,
          3.1484870725295,
          4.3602444218128,
          3.8416189116937,
          0.10191690519559,
          0.7042487398431,
          0.78355563126141,
          0.81458494957331,
          6.8434956936453,
          4.5859566106589,
          19.68187177768,
          0.80046135296485,
          0,
          0.94144915458387,
          0.076111399411866,
          0.011324895635229,
          0.10446584055963,
          0.14327411844502,
          0.006559312584041,
          0.012907154535045,
          4.3009209060045,
          6.669546216546,
          6.5024284055225,
          2.734921272643,
          10.203924235903,
          11.432913031003,
          10.336425956006,
          3.1097645911687,
          4.3652775982589,
          15.398705969679,
          15.745800083623,
          6.4514256412241,
          4.8353126827152,
          24.511864856163,
          11.902369206407,
          23.564484304933,
          7.3420406994527,
          10.652173913043,
          1.5615975206029,
          4.4605755606974,
          0.15683372101219,
          0.1154116523801,
          0.066810310400138,
          0.85276066908073,
          "n.a.",
          4.5201435857454,
          5.1936805842133,
          4.0887300724693,
          5.3613850060283,
          2.3227542330776,
          0.45823230573837,
          2.0700887664628,
          2.7179059545178,
          0.11115488518685,
          4.1947488523894,
          0.073562862369692,
          3.1217710719424,
          3.2653952450675,
          3.2818322812449,
          4.4080991416384,
          4.8217257847327,
          0.15393065661258,
          0.93259809704974,
          0.78914274946256,
          0.98166133554705,
          8.1849112671589,
          5.7639694323321,
          21.969314162341,
          1.4679582151948,
          0,
          1.0516806330021,
          0.068210709081326,
          0.81756922614004,
          0.15043155456727,
          0.13036717660383,
          0.010746085354621,
          0.012482984503266,
          4.9565064239022,
          7.6232195399936,
          7.4921660391296,
          3.3289169216579,
          11.72999286307,
          12.89685672311,
          12.37522377372,
          3.4758975826062,
          5.2574546320437,
          18.71129353441,
          15.748092709007,
          7.9797064685631,
          6.6228538170531,
          24.049980923312,
          13.643357065283,
          22.569425903578,
          10.128182984603,
          14.079529759608,
          1.7399305411426,
          6.022545390648,
          0.18479901211973,
          0.27256571559403,
          0.088052576755619,
          0.95367847411444,
          "n.a.",
          5.11416610218,
          5.6860129327976,
          4.5616344248143,
          5.8573705531809,
          3.3162307024265,
          0.4180216848749,
          3.7281742347658,
          4.4782256887792,
          0.097969362308514,
          4.9290017765648,
          0.063518432560526,
          3.6732441880182,
          3.9373224575754,
          3.3510553669919,
          4.2981571389497,
          6.013240179193,
          0.18185088227653,
          1.2491473628408,
          0.92999655269916,
          1.5343819409818,
          9.0435414484599,
          6.5592745062944,
          23.306349493488,
          2.0065597924422,
          0.10214369096891,
          1.2879931955076,
          0.073978176437951,
          1.8569626083996,
          0.18447383472557,
          0.079106876240499,
          0.013179475164011,
          0.03593034526555,
          5.6589201329849,
          8.3360479489357,
          8.3601051087314,
          4.3894968742534,
          11.868374790532,
          12.936730541891,
          9.9565333923764,
          3.2481484593501,
          5.5306424854303,
          18.461862498059,
          16.1570635819,
          8.601534562372,
          7.6346505836109,
          22.403819058827,
          12.917991490408,
          22.802905681802,
          10.013460675598,
          13.992939099735,
          1.4197340347016,
          8.0507856913793,
          0.19990761550973,
          0.43402961116861,
          0.096794329465532,
          0.87802981047924,
          "n.a.",
          6.2210641394212,
          6.8017744631503,
          5.2965616563826,
          7.0329552863718,
          4.4048084765061,
          0.38174161119413,
          5.799557428108,
          6.4154940233016,
          0.078125,
          5.3000336906203,
          0.072234930219205,
          4.5942579915679,
          5.0265947053112,
          4.6270146892312,
          4.3090513068732,
          7.0617805740999,
          0.19788076088344,
          1.5012362180792,
          0.98017316771221,
          1.9850283118462,
          9.5340578423003,
          7.174845944271,
          23.597254004577,
          2.4235573117427,
          0.14879043636643,
          1.5684327520353,
          0.080390638956708,
          2.6536417840766,
          0.28559301117007,
          0.087860695829038,
          0.075622458443319,
          0.035088387375797,
          6.6332450288085,
          9.5538435635169,
          9.7197776877546,
          5.5551804101333,
          13.59467955601,
          14.56507554056,
          11.330156553405,
          3.2964943104595,
          6.3297327835004,
          22.4801636167,
          16.557404650876,
          11.003079916368,
          8.8475475063108,
          22.641215454622,
          14.40583125372,
          23.071817674068,
          10.860882800609,
          18.046387671636,
          1.9092855231469,
          9.3410778676964,
          0.23813273082804,
          0.48395383319295,
          0.10349627965149,
          1.1035302200267,
          "n.a.",
          7.2015370590504,
          7.8331520579534,
          5.3237542460315,
          8.2212748022445,
          5.2506264835789,
          0.43125300882116,
          7.3303187594669,
          9.4432061790569,
          0.021952569004938,
          5.4251354451297,
          0.07516083768835,
          5.6537154193159,
          6.4273177351506,
          5.3338172413936,
          5.0218206455465,
          7.9071954375038,
          0.20062268538998,
          1.9729036910859,
          1.2631227461071,
          3.1109342249943,
          10.141387575778,
          8.010507753305,
          22.896869916327,
          2.7236487750897,
          0.69348792085374,
          1.5520848537926,
          0.081131981745261,
          3.4726804911673,
          0.38272337878373,
          0.12710009810718,
          0.091792603176348,
          0.041051406199471,
          7.3308280586893,
          10.188005448439,
          10.339379908702,
          6.6233104125138,
          14.472935895193,
          15.142795392976,
          15.148759031941,
          3.4727510859628,
          6.949880469352,
          24.485391637216,
          16.249736851809,
          12.54511588394,
          7.7386877861251,
          23.229002925259,
          12.474856829435,
          23.222275662047,
          10.422276621787,
          20.925489007037,
          2.6401916841966,
          11.853661639441,
          0.31697668814808,
          0.78534932763688,
          0.12359245071131,
          1.4362588581495,
          "n.a.",
          7.7741857813256,
          8.2639378547841,
          5.6859805714862,
          8.6425790565335,
          6.2425967177208,
          1.0362009149913,
          8.6363594776855,
          10.957941559058,
          0.080514459156045,
          5.9641155583958,
          0.077432701001701,
          6.5848388768829,
          7.5626741876711,
          6.5702986400332,
          5.0390639261071,
          8.6731961526749,
          0.33635007983925,
          2.3594332353992,
          1.6058954903788,
          3.3897269528696,
          11.416510248127,
          9.6142499176239,
          22.938711955252,
          3.1355431826686,
          0.78937948201268,
          1.4958002997366,
          0.077031349347217,
          4.1817633347833,
          0.53722061676024,
          0.17569266197225,
          0.11292525268883,
          0.041066640938853,
          8.2703945013224,
          11.531044876047,
          11.482797251538,
          7.4455684936019,
          16.472935040127,
          17.151110007688,
          14.325368731324,
          3.5746388646674,
          8.369261555791,
          28.110997330486,
          17.29785371194,
          13.821305875886,
          9.6816648161201,
          28.941462210829,
          14.336201730404,
          25.828267302561,
          12.144404452766,
          23.782826003181,
          4.108691774362,
          13.520868460428,
          0.46735369285847,
          1.650641045528,
          0.17109052060974,
          1.9881979872769,
          "n.a.",
          8.7456124652331,
          9.03296077578,
          5.9033033906697,
          9.4975748511923,
          7.8643806710795,
          2.8315593941674,
          10.001070832804,
          13.769653206334,
          0.23788143798237,
          8.9957514908678,
          0.073940761184327,
          7.3973123311072,
          8.4395987043806,
          7.373522563488,
          4.9760346244544,
          9.7914812664219,
          0.53722702643114,
          3.1614248088682,
          2.1604141723285,
          4.5942752541107,
          13.66038281756,
          12.329866149392,
          23.346839812631,
          3.719149310843,
          0.75911211465528,
          2.3396473208552,
          0.091330598101592,
          4.3736397388737,
          0.94705718897489,
          0.19753431191341,
          0.2132038414487,
          0.19861322497787,
          9.5038584803266,
          13.421720599051,
          13.183627703392,
          8.465114754344,
          19.058877926643,
          19.898667720984,
          19.99747299183,
          3.7490094752984,
          10.285193549944,
          32.0932193611,
          18.277056849543,
          18.886794064234,
          11.211958231739,
          26.803741990649,
          15.509291157004,
          29.115080213149,
          17.300287406166,
          28.254583022534,
          6.4164017101568,
          15.1177773047,
          0.77949158617496,
          2.5455259692718,
          0.33620111072977,
          3.074146034532,
          "n.a.",
          10.184338998642,
          10.553718002113,
          6.5275766591751,
          11.166131528871,
          9.0610715017787,
          5.1712893048637,
          10.604279881241,
          16.172436658896,
          0.24204291608149,
          11.23132437571,
          0.076846309642585,
          8.4350440720303,
          9.5904983615636,
          8.2308990929456,
          5.1531335245712,
          10.693738752248,
          0.92339726455767,
          5.1593227597331,
          3.0557717790869,
          4.4226246810913,
          16.185964123928,
          15.250980976565,
          23.911626106661,
          4.365066966486,
          0.80102056813413,
          3.5320211377075,
          0.085791120560088,
          4.9129494149978,
          1.1013286299308,
          0.23304806796992,
          0.27176739196532,
          0.20075892181662
         ]
        }
       ],
       "layout": {
        "geo": {
         "lakecolor": "white",
         "landcolor": "black",
         "oceancolor": "azure",
         "projection": {
          "type": "orthographic"
         },
         "scope": "world",
         "showocean": true
        },
        "template": {
         "data": {
          "bar": [
           {
            "error_x": {
             "color": "#2a3f5f"
            },
            "error_y": {
             "color": "#2a3f5f"
            },
            "marker": {
             "line": {
              "color": "#E5ECF6",
              "width": 0.5
             },
             "pattern": {
              "fillmode": "overlay",
              "size": 10,
              "solidity": 0.2
             }
            },
            "type": "bar"
           }
          ],
          "barpolar": [
           {
            "marker": {
             "line": {
              "color": "#E5ECF6",
              "width": 0.5
             },
             "pattern": {
              "fillmode": "overlay",
              "size": 10,
              "solidity": 0.2
             }
            },
            "type": "barpolar"
           }
          ],
          "carpet": [
           {
            "aaxis": {
             "endlinecolor": "#2a3f5f",
             "gridcolor": "white",
             "linecolor": "white",
             "minorgridcolor": "white",
             "startlinecolor": "#2a3f5f"
            },
            "baxis": {
             "endlinecolor": "#2a3f5f",
             "gridcolor": "white",
             "linecolor": "white",
             "minorgridcolor": "white",
             "startlinecolor": "#2a3f5f"
            },
            "type": "carpet"
           }
          ],
          "choropleth": [
           {
            "colorbar": {
             "outlinewidth": 0,
             "ticks": ""
            },
            "type": "choropleth"
           }
          ],
          "contour": [
           {
            "colorbar": {
             "outlinewidth": 0,
             "ticks": ""
            },
            "colorscale": [
             [
              0,
              "#0d0887"
             ],
             [
              0.1111111111111111,
              "#46039f"
             ],
             [
              0.2222222222222222,
              "#7201a8"
             ],
             [
              0.3333333333333333,
              "#9c179e"
             ],
             [
              0.4444444444444444,
              "#bd3786"
             ],
             [
              0.5555555555555556,
              "#d8576b"
             ],
             [
              0.6666666666666666,
              "#ed7953"
             ],
             [
              0.7777777777777778,
              "#fb9f3a"
             ],
             [
              0.8888888888888888,
              "#fdca26"
             ],
             [
              1,
              "#f0f921"
             ]
            ],
            "type": "contour"
           }
          ],
          "contourcarpet": [
           {
            "colorbar": {
             "outlinewidth": 0,
             "ticks": ""
            },
            "type": "contourcarpet"
           }
          ],
          "heatmap": [
           {
            "colorbar": {
             "outlinewidth": 0,
             "ticks": ""
            },
            "colorscale": [
             [
              0,
              "#0d0887"
             ],
             [
              0.1111111111111111,
              "#46039f"
             ],
             [
              0.2222222222222222,
              "#7201a8"
             ],
             [
              0.3333333333333333,
              "#9c179e"
             ],
             [
              0.4444444444444444,
              "#bd3786"
             ],
             [
              0.5555555555555556,
              "#d8576b"
             ],
             [
              0.6666666666666666,
              "#ed7953"
             ],
             [
              0.7777777777777778,
              "#fb9f3a"
             ],
             [
              0.8888888888888888,
              "#fdca26"
             ],
             [
              1,
              "#f0f921"
             ]
            ],
            "type": "heatmap"
           }
          ],
          "heatmapgl": [
           {
            "colorbar": {
             "outlinewidth": 0,
             "ticks": ""
            },
            "colorscale": [
             [
              0,
              "#0d0887"
             ],
             [
              0.1111111111111111,
              "#46039f"
             ],
             [
              0.2222222222222222,
              "#7201a8"
             ],
             [
              0.3333333333333333,
              "#9c179e"
             ],
             [
              0.4444444444444444,
              "#bd3786"
             ],
             [
              0.5555555555555556,
              "#d8576b"
             ],
             [
              0.6666666666666666,
              "#ed7953"
             ],
             [
              0.7777777777777778,
              "#fb9f3a"
             ],
             [
              0.8888888888888888,
              "#fdca26"
             ],
             [
              1,
              "#f0f921"
             ]
            ],
            "type": "heatmapgl"
           }
          ],
          "histogram": [
           {
            "marker": {
             "pattern": {
              "fillmode": "overlay",
              "size": 10,
              "solidity": 0.2
             }
            },
            "type": "histogram"
           }
          ],
          "histogram2d": [
           {
            "colorbar": {
             "outlinewidth": 0,
             "ticks": ""
            },
            "colorscale": [
             [
              0,
              "#0d0887"
             ],
             [
              0.1111111111111111,
              "#46039f"
             ],
             [
              0.2222222222222222,
              "#7201a8"
             ],
             [
              0.3333333333333333,
              "#9c179e"
             ],
             [
              0.4444444444444444,
              "#bd3786"
             ],
             [
              0.5555555555555556,
              "#d8576b"
             ],
             [
              0.6666666666666666,
              "#ed7953"
             ],
             [
              0.7777777777777778,
              "#fb9f3a"
             ],
             [
              0.8888888888888888,
              "#fdca26"
             ],
             [
              1,
              "#f0f921"
             ]
            ],
            "type": "histogram2d"
           }
          ],
          "histogram2dcontour": [
           {
            "colorbar": {
             "outlinewidth": 0,
             "ticks": ""
            },
            "colorscale": [
             [
              0,
              "#0d0887"
             ],
             [
              0.1111111111111111,
              "#46039f"
             ],
             [
              0.2222222222222222,
              "#7201a8"
             ],
             [
              0.3333333333333333,
              "#9c179e"
             ],
             [
              0.4444444444444444,
              "#bd3786"
             ],
             [
              0.5555555555555556,
              "#d8576b"
             ],
             [
              0.6666666666666666,
              "#ed7953"
             ],
             [
              0.7777777777777778,
              "#fb9f3a"
             ],
             [
              0.8888888888888888,
              "#fdca26"
             ],
             [
              1,
              "#f0f921"
             ]
            ],
            "type": "histogram2dcontour"
           }
          ],
          "mesh3d": [
           {
            "colorbar": {
             "outlinewidth": 0,
             "ticks": ""
            },
            "type": "mesh3d"
           }
          ],
          "parcoords": [
           {
            "line": {
             "colorbar": {
              "outlinewidth": 0,
              "ticks": ""
             }
            },
            "type": "parcoords"
           }
          ],
          "pie": [
           {
            "automargin": true,
            "type": "pie"
           }
          ],
          "scatter": [
           {
            "marker": {
             "colorbar": {
              "outlinewidth": 0,
              "ticks": ""
             }
            },
            "type": "scatter"
           }
          ],
          "scatter3d": [
           {
            "line": {
             "colorbar": {
              "outlinewidth": 0,
              "ticks": ""
             }
            },
            "marker": {
             "colorbar": {
              "outlinewidth": 0,
              "ticks": ""
             }
            },
            "type": "scatter3d"
           }
          ],
          "scattercarpet": [
           {
            "marker": {
             "colorbar": {
              "outlinewidth": 0,
              "ticks": ""
             }
            },
            "type": "scattercarpet"
           }
          ],
          "scattergeo": [
           {
            "marker": {
             "colorbar": {
              "outlinewidth": 0,
              "ticks": ""
             }
            },
            "type": "scattergeo"
           }
          ],
          "scattergl": [
           {
            "marker": {
             "colorbar": {
              "outlinewidth": 0,
              "ticks": ""
             }
            },
            "type": "scattergl"
           }
          ],
          "scattermapbox": [
           {
            "marker": {
             "colorbar": {
              "outlinewidth": 0,
              "ticks": ""
             }
            },
            "type": "scattermapbox"
           }
          ],
          "scatterpolar": [
           {
            "marker": {
             "colorbar": {
              "outlinewidth": 0,
              "ticks": ""
             }
            },
            "type": "scatterpolar"
           }
          ],
          "scatterpolargl": [
           {
            "marker": {
             "colorbar": {
              "outlinewidth": 0,
              "ticks": ""
             }
            },
            "type": "scatterpolargl"
           }
          ],
          "scatterternary": [
           {
            "marker": {
             "colorbar": {
              "outlinewidth": 0,
              "ticks": ""
             }
            },
            "type": "scatterternary"
           }
          ],
          "surface": [
           {
            "colorbar": {
             "outlinewidth": 0,
             "ticks": ""
            },
            "colorscale": [
             [
              0,
              "#0d0887"
             ],
             [
              0.1111111111111111,
              "#46039f"
             ],
             [
              0.2222222222222222,
              "#7201a8"
             ],
             [
              0.3333333333333333,
              "#9c179e"
             ],
             [
              0.4444444444444444,
              "#bd3786"
             ],
             [
              0.5555555555555556,
              "#d8576b"
             ],
             [
              0.6666666666666666,
              "#ed7953"
             ],
             [
              0.7777777777777778,
              "#fb9f3a"
             ],
             [
              0.8888888888888888,
              "#fdca26"
             ],
             [
              1,
              "#f0f921"
             ]
            ],
            "type": "surface"
           }
          ],
          "table": [
           {
            "cells": {
             "fill": {
              "color": "#EBF0F8"
             },
             "line": {
              "color": "white"
             }
            },
            "header": {
             "fill": {
              "color": "#C8D4E3"
             },
             "line": {
              "color": "white"
             }
            },
            "type": "table"
           }
          ]
         },
         "layout": {
          "annotationdefaults": {
           "arrowcolor": "#2a3f5f",
           "arrowhead": 0,
           "arrowwidth": 1
          },
          "autotypenumbers": "strict",
          "coloraxis": {
           "colorbar": {
            "outlinewidth": 0,
            "ticks": ""
           }
          },
          "colorscale": {
           "diverging": [
            [
             0,
             "#8e0152"
            ],
            [
             0.1,
             "#c51b7d"
            ],
            [
             0.2,
             "#de77ae"
            ],
            [
             0.3,
             "#f1b6da"
            ],
            [
             0.4,
             "#fde0ef"
            ],
            [
             0.5,
             "#f7f7f7"
            ],
            [
             0.6,
             "#e6f5d0"
            ],
            [
             0.7,
             "#b8e186"
            ],
            [
             0.8,
             "#7fbc41"
            ],
            [
             0.9,
             "#4d9221"
            ],
            [
             1,
             "#276419"
            ]
           ],
           "sequential": [
            [
             0,
             "#0d0887"
            ],
            [
             0.1111111111111111,
             "#46039f"
            ],
            [
             0.2222222222222222,
             "#7201a8"
            ],
            [
             0.3333333333333333,
             "#9c179e"
            ],
            [
             0.4444444444444444,
             "#bd3786"
            ],
            [
             0.5555555555555556,
             "#d8576b"
            ],
            [
             0.6666666666666666,
             "#ed7953"
            ],
            [
             0.7777777777777778,
             "#fb9f3a"
            ],
            [
             0.8888888888888888,
             "#fdca26"
            ],
            [
             1,
             "#f0f921"
            ]
           ],
           "sequentialminus": [
            [
             0,
             "#0d0887"
            ],
            [
             0.1111111111111111,
             "#46039f"
            ],
            [
             0.2222222222222222,
             "#7201a8"
            ],
            [
             0.3333333333333333,
             "#9c179e"
            ],
            [
             0.4444444444444444,
             "#bd3786"
            ],
            [
             0.5555555555555556,
             "#d8576b"
            ],
            [
             0.6666666666666666,
             "#ed7953"
            ],
            [
             0.7777777777777778,
             "#fb9f3a"
            ],
            [
             0.8888888888888888,
             "#fdca26"
            ],
            [
             1,
             "#f0f921"
            ]
           ]
          },
          "colorway": [
           "#636efa",
           "#EF553B",
           "#00cc96",
           "#ab63fa",
           "#FFA15A",
           "#19d3f3",
           "#FF6692",
           "#B6E880",
           "#FF97FF",
           "#FECB52"
          ],
          "font": {
           "color": "#2a3f5f"
          },
          "geo": {
           "bgcolor": "white",
           "lakecolor": "white",
           "landcolor": "#E5ECF6",
           "showlakes": true,
           "showland": true,
           "subunitcolor": "white"
          },
          "hoverlabel": {
           "align": "left"
          },
          "hovermode": "closest",
          "mapbox": {
           "style": "light"
          },
          "paper_bgcolor": "white",
          "plot_bgcolor": "#E5ECF6",
          "polar": {
           "angularaxis": {
            "gridcolor": "white",
            "linecolor": "white",
            "ticks": ""
           },
           "bgcolor": "#E5ECF6",
           "radialaxis": {
            "gridcolor": "white",
            "linecolor": "white",
            "ticks": ""
           }
          },
          "scene": {
           "xaxis": {
            "backgroundcolor": "#E5ECF6",
            "gridcolor": "white",
            "gridwidth": 2,
            "linecolor": "white",
            "showbackground": true,
            "ticks": "",
            "zerolinecolor": "white"
           },
           "yaxis": {
            "backgroundcolor": "#E5ECF6",
            "gridcolor": "white",
            "gridwidth": 2,
            "linecolor": "white",
            "showbackground": true,
            "ticks": "",
            "zerolinecolor": "white"
           },
           "zaxis": {
            "backgroundcolor": "#E5ECF6",
            "gridcolor": "white",
            "gridwidth": 2,
            "linecolor": "white",
            "showbackground": true,
            "ticks": "",
            "zerolinecolor": "white"
           }
          },
          "shapedefaults": {
           "line": {
            "color": "#2a3f5f"
           }
          },
          "ternary": {
           "aaxis": {
            "gridcolor": "white",
            "linecolor": "white",
            "ticks": ""
           },
           "baxis": {
            "gridcolor": "white",
            "linecolor": "white",
            "ticks": ""
           },
           "bgcolor": "#E5ECF6",
           "caxis": {
            "gridcolor": "white",
            "linecolor": "white",
            "ticks": ""
           }
          },
          "title": {
           "x": 0.05
          },
          "xaxis": {
           "automargin": true,
           "gridcolor": "white",
           "linecolor": "white",
           "ticks": "",
           "title": {
            "standoff": 15
           },
           "zerolinecolor": "white",
           "zerolinewidth": 2
          },
          "yaxis": {
           "automargin": true,
           "gridcolor": "white",
           "linecolor": "white",
           "ticks": "",
           "title": {
            "standoff": 15
           },
           "zerolinecolor": "white",
           "zerolinewidth": 2
          }
         }
        },
        "title": {
         "text": "Share of wind and solar in electricity production (%)",
         "x": 0.5
        }
       }
      }
     },
     "metadata": {},
     "output_type": "display_data"
    }
   ],
   "source": [
    "fig_choropleth = go.Figure(data=data_wind_solar, layout=layout_choropleth)\n",
    "\n",
    "fig_choropleth.show()"
   ]
  },
  {
   "cell_type": "code",
   "execution_count": 3,
   "metadata": {},
   "outputs": [
    {
     "data": {
      "text/plain": [
       "Index(['Unnamed: 0', 'Country', 'Year', 'Total energy production (Mtoe)',\n",
       "       'Energy balance of trade (Mtoe)', 'Total energy consumption (Mtoe)',\n",
       "       'Energy intensity of GDP at constant purchasing power parities (koe/$15p)',\n",
       "       'Crude oil production (Mt)', 'Crude oil balance of trade (Mt)',\n",
       "       'Refined oil products production (Mt)',\n",
       "       'Oil products balance of trade (Mt)',\n",
       "       'Oil products domestic consumption (Mt)',\n",
       "       'Natural gas production (bcm)', 'Natural gas balance of trade (bcm)',\n",
       "       'Natural gas domestic consumption (bcm)', 'LNG balance of trade (bcm)',\n",
       "       'Coal and lignite production (Mt)',\n",
       "       'Coal and lignite balance of trade (Mt)',\n",
       "       'Coal and lignite domestic consumption (Mt)',\n",
       "       'Electricity production (TWh)', 'Electricity balance of trade (TWh)',\n",
       "       'Electricity domestic consumption (TWh)',\n",
       "       'Share of electricity in total final energy consumption (%)',\n",
       "       'Share of renewables in electricity production (%)',\n",
       "       'Share of wind and solar in electricity production (%)',\n",
       "       'CO2 emissions from fuel combustion (MtCO2)',\n",
       "       'CO2 intensity at constant purchasing power parities (kCO2/$15p)',\n",
       "       'Average CO2 emission factor (tCO2/toe)', 'pop_est', 'continent',\n",
       "       'name', 'iso_a3', 'gdp_md_est', 'geometry'],\n",
       "      dtype='object')"
      ]
     },
     "execution_count": 3,
     "metadata": {},
     "output_type": "execute_result"
    }
   ],
   "source": [
    "file = pd.read_csv(\"ActualDataset.csv\")\n",
    "file.columns"
   ]
  },
  {
   "cell_type": "code",
   "execution_count": 4,
   "metadata": {},
   "outputs": [
    {
     "data": {
      "text/plain": [
       "0        1.672236\n",
       "1        2.316213\n",
       "2       14.101214\n",
       "3        3.901348\n",
       "4       17.709141\n",
       "          ...    \n",
       "1359          NaN\n",
       "1360          NaN\n",
       "1361          NaN\n",
       "1362          NaN\n",
       "1363          NaN\n",
       "Name: Share of renewables in electricity production (%), Length: 1364, dtype: float64"
      ]
     },
     "execution_count": 4,
     "metadata": {},
     "output_type": "execute_result"
    }
   ],
   "source": [
    "file['Share of renewables in electricity production (%)']"
   ]
  },
  {
   "cell_type": "code",
   "execution_count": 5,
   "metadata": {},
   "outputs": [
    {
     "data": {
      "text/html": [
       "<div>\n",
       "<style scoped>\n",
       "    .dataframe tbody tr th:only-of-type {\n",
       "        vertical-align: middle;\n",
       "    }\n",
       "\n",
       "    .dataframe tbody tr th {\n",
       "        vertical-align: top;\n",
       "    }\n",
       "\n",
       "    .dataframe thead th {\n",
       "        text-align: right;\n",
       "    }\n",
       "</style>\n",
       "<table border=\"1\" class=\"dataframe\">\n",
       "  <thead>\n",
       "    <tr style=\"text-align: right;\">\n",
       "      <th></th>\n",
       "      <th>Unnamed: 0</th>\n",
       "      <th>Country</th>\n",
       "      <th>Year</th>\n",
       "      <th>Total energy production (Mtoe)</th>\n",
       "      <th>Energy balance of trade (Mtoe)</th>\n",
       "      <th>Total energy consumption (Mtoe)</th>\n",
       "      <th>Energy intensity of GDP at constant purchasing power parities (koe/$15p)</th>\n",
       "      <th>Crude oil production (Mt)</th>\n",
       "      <th>Crude oil balance of trade (Mt)</th>\n",
       "      <th>Refined oil products production (Mt)</th>\n",
       "      <th>...</th>\n",
       "      <th>Share of wind and solar in electricity production (%)</th>\n",
       "      <th>CO2 emissions from fuel combustion (MtCO2)</th>\n",
       "      <th>CO2 intensity at constant purchasing power parities (kCO2/$15p)</th>\n",
       "      <th>Average CO2 emission factor (tCO2/toe)</th>\n",
       "      <th>pop_est</th>\n",
       "      <th>continent</th>\n",
       "      <th>name</th>\n",
       "      <th>iso_a3</th>\n",
       "      <th>gdp_md_est</th>\n",
       "      <th>geometry</th>\n",
       "    </tr>\n",
       "  </thead>\n",
       "  <tbody>\n",
       "    <tr>\n",
       "      <th>430</th>\n",
       "      <td>576</td>\n",
       "      <td>Belgium</td>\n",
       "      <td>2000</td>\n",
       "      <td>13.732887</td>\n",
       "      <td>50.633379</td>\n",
       "      <td>58.047890</td>\n",
       "      <td>0.140837</td>\n",
       "      <td>0.000</td>\n",
       "      <td>33.986</td>\n",
       "      <td>38.174</td>\n",
       "      <td>...</td>\n",
       "      <td>0.019044898347855</td>\n",
       "      <td>116.365911</td>\n",
       "      <td>0.282329</td>\n",
       "      <td>2.004654</td>\n",
       "      <td>11491346.0</td>\n",
       "      <td>Europe</td>\n",
       "      <td>Belgium</td>\n",
       "      <td>BEL</td>\n",
       "      <td>508600.0</td>\n",
       "      <td>POLYGON ((6.15665815595878 50.80372101501058, ...</td>\n",
       "    </tr>\n",
       "    <tr>\n",
       "      <th>431</th>\n",
       "      <td>577</td>\n",
       "      <td>Czechia</td>\n",
       "      <td>2000</td>\n",
       "      <td>30.843210</td>\n",
       "      <td>9.394294</td>\n",
       "      <td>41.173342</td>\n",
       "      <td>0.172086</td>\n",
       "      <td>0.385</td>\n",
       "      <td>5.614</td>\n",
       "      <td>6.131</td>\n",
       "      <td>...</td>\n",
       "      <td>0.001361173876351</td>\n",
       "      <td>122.555814</td>\n",
       "      <td>0.512228</td>\n",
       "      <td>2.976582</td>\n",
       "      <td>10674723.0</td>\n",
       "      <td>Europe</td>\n",
       "      <td>Czechia</td>\n",
       "      <td>CZE</td>\n",
       "      <td>350900.0</td>\n",
       "      <td>POLYGON ((15.01699588385867 51.10667409932158,...</td>\n",
       "    </tr>\n",
       "    <tr>\n",
       "      <th>432</th>\n",
       "      <td>578</td>\n",
       "      <td>France</td>\n",
       "      <td>2000</td>\n",
       "      <td>130.659097</td>\n",
       "      <td>135.719677</td>\n",
       "      <td>255.014615</td>\n",
       "      <td>0.111777</td>\n",
       "      <td>1.907</td>\n",
       "      <td>83.914</td>\n",
       "      <td>88.569</td>\n",
       "      <td>...</td>\n",
       "      <td>0.1037125384755</td>\n",
       "      <td>386.201607</td>\n",
       "      <td>0.169279</td>\n",
       "      <td>1.514429</td>\n",
       "      <td>67106161.0</td>\n",
       "      <td>Europe</td>\n",
       "      <td>France</td>\n",
       "      <td>FRA</td>\n",
       "      <td>2699000.0</td>\n",
       "      <td>MULTIPOLYGON (((-51.65779741067889 4.156232408...</td>\n",
       "    </tr>\n",
       "    <tr>\n",
       "      <th>433</th>\n",
       "      <td>579</td>\n",
       "      <td>Germany</td>\n",
       "      <td>2000</td>\n",
       "      <td>135.232056</td>\n",
       "      <td>205.657499</td>\n",
       "      <td>336.585061</td>\n",
       "      <td>0.102590</td>\n",
       "      <td>4.393</td>\n",
       "      <td>100.467</td>\n",
       "      <td>115.968</td>\n",
       "      <td>...</td>\n",
       "      <td>1.632488816966</td>\n",
       "      <td>829.723584</td>\n",
       "      <td>0.198456</td>\n",
       "      <td>1.934451</td>\n",
       "      <td>80594017.0</td>\n",
       "      <td>Europe</td>\n",
       "      <td>Germany</td>\n",
       "      <td>DEU</td>\n",
       "      <td>3979000.0</td>\n",
       "      <td>POLYGON ((14.119686313542559 53.75702912049104...</td>\n",
       "    </tr>\n",
       "    <tr>\n",
       "      <th>434</th>\n",
       "      <td>580</td>\n",
       "      <td>Italy</td>\n",
       "      <td>2000</td>\n",
       "      <td>28.453927</td>\n",
       "      <td>152.441540</td>\n",
       "      <td>171.817998</td>\n",
       "      <td>0.076424</td>\n",
       "      <td>4.764</td>\n",
       "      <td>89.882</td>\n",
       "      <td>94.771</td>\n",
       "      <td>...</td>\n",
       "      <td>2.1948944845685</td>\n",
       "      <td>430.665093</td>\n",
       "      <td>0.191558</td>\n",
       "      <td>2.506519</td>\n",
       "      <td>62137802.0</td>\n",
       "      <td>Europe</td>\n",
       "      <td>Italy</td>\n",
       "      <td>ITA</td>\n",
       "      <td>2221000.0</td>\n",
       "      <td>MULTIPOLYGON (((10.44270145024663 46.893546250...</td>\n",
       "    </tr>\n",
       "    <tr>\n",
       "      <th>...</th>\n",
       "      <td>...</td>\n",
       "      <td>...</td>\n",
       "      <td>...</td>\n",
       "      <td>...</td>\n",
       "      <td>...</td>\n",
       "      <td>...</td>\n",
       "      <td>...</td>\n",
       "      <td>...</td>\n",
       "      <td>...</td>\n",
       "      <td>...</td>\n",
       "      <td>...</td>\n",
       "      <td>...</td>\n",
       "      <td>...</td>\n",
       "      <td>...</td>\n",
       "      <td>...</td>\n",
       "      <td>...</td>\n",
       "      <td>...</td>\n",
       "      <td>...</td>\n",
       "      <td>...</td>\n",
       "      <td>...</td>\n",
       "      <td>...</td>\n",
       "    </tr>\n",
       "    <tr>\n",
       "      <th>1349</th>\n",
       "      <td>1897</td>\n",
       "      <td>United Arab Emirates</td>\n",
       "      <td>2006</td>\n",
       "      <td>NaN</td>\n",
       "      <td>-122.935508</td>\n",
       "      <td>NaN</td>\n",
       "      <td>NaN</td>\n",
       "      <td>NaN</td>\n",
       "      <td>-114.342</td>\n",
       "      <td>NaN</td>\n",
       "      <td>...</td>\n",
       "      <td>NaN</td>\n",
       "      <td>NaN</td>\n",
       "      <td>NaN</td>\n",
       "      <td>NaN</td>\n",
       "      <td>6072475.0</td>\n",
       "      <td>Asia</td>\n",
       "      <td>United Arab Emirates</td>\n",
       "      <td>ARE</td>\n",
       "      <td>667200.0</td>\n",
       "      <td>POLYGON ((51.57951867046327 24.245497137951105...</td>\n",
       "    </tr>\n",
       "    <tr>\n",
       "      <th>1350</th>\n",
       "      <td>1898</td>\n",
       "      <td>United Arab Emirates</td>\n",
       "      <td>2007</td>\n",
       "      <td>NaN</td>\n",
       "      <td>-115.587896</td>\n",
       "      <td>NaN</td>\n",
       "      <td>NaN</td>\n",
       "      <td>NaN</td>\n",
       "      <td>-113.174</td>\n",
       "      <td>NaN</td>\n",
       "      <td>...</td>\n",
       "      <td>NaN</td>\n",
       "      <td>NaN</td>\n",
       "      <td>NaN</td>\n",
       "      <td>NaN</td>\n",
       "      <td>6072475.0</td>\n",
       "      <td>Asia</td>\n",
       "      <td>United Arab Emirates</td>\n",
       "      <td>ARE</td>\n",
       "      <td>667200.0</td>\n",
       "      <td>POLYGON ((51.57951867046327 24.245497137951105...</td>\n",
       "    </tr>\n",
       "    <tr>\n",
       "      <th>1351</th>\n",
       "      <td>1899</td>\n",
       "      <td>United Arab Emirates</td>\n",
       "      <td>2008</td>\n",
       "      <td>NaN</td>\n",
       "      <td>-107.811116</td>\n",
       "      <td>NaN</td>\n",
       "      <td>NaN</td>\n",
       "      <td>NaN</td>\n",
       "      <td>-116.264</td>\n",
       "      <td>NaN</td>\n",
       "      <td>...</td>\n",
       "      <td>NaN</td>\n",
       "      <td>NaN</td>\n",
       "      <td>NaN</td>\n",
       "      <td>NaN</td>\n",
       "      <td>6072475.0</td>\n",
       "      <td>Asia</td>\n",
       "      <td>United Arab Emirates</td>\n",
       "      <td>ARE</td>\n",
       "      <td>667200.0</td>\n",
       "      <td>POLYGON ((51.57951867046327 24.245497137951105...</td>\n",
       "    </tr>\n",
       "    <tr>\n",
       "      <th>1352</th>\n",
       "      <td>1900</td>\n",
       "      <td>United Arab Emirates</td>\n",
       "      <td>2009</td>\n",
       "      <td>NaN</td>\n",
       "      <td>-92.207336</td>\n",
       "      <td>NaN</td>\n",
       "      <td>NaN</td>\n",
       "      <td>NaN</td>\n",
       "      <td>-100.238</td>\n",
       "      <td>NaN</td>\n",
       "      <td>...</td>\n",
       "      <td>NaN</td>\n",
       "      <td>NaN</td>\n",
       "      <td>NaN</td>\n",
       "      <td>NaN</td>\n",
       "      <td>6072475.0</td>\n",
       "      <td>Asia</td>\n",
       "      <td>United Arab Emirates</td>\n",
       "      <td>ARE</td>\n",
       "      <td>667200.0</td>\n",
       "      <td>POLYGON ((51.57951867046327 24.245497137951105...</td>\n",
       "    </tr>\n",
       "    <tr>\n",
       "      <th>1353</th>\n",
       "      <td>1901</td>\n",
       "      <td>United Arab Emirates</td>\n",
       "      <td>2010</td>\n",
       "      <td>NaN</td>\n",
       "      <td>-102.361749</td>\n",
       "      <td>NaN</td>\n",
       "      <td>NaN</td>\n",
       "      <td>NaN</td>\n",
       "      <td>-106.861</td>\n",
       "      <td>NaN</td>\n",
       "      <td>...</td>\n",
       "      <td>NaN</td>\n",
       "      <td>NaN</td>\n",
       "      <td>NaN</td>\n",
       "      <td>NaN</td>\n",
       "      <td>6072475.0</td>\n",
       "      <td>Asia</td>\n",
       "      <td>United Arab Emirates</td>\n",
       "      <td>ARE</td>\n",
       "      <td>667200.0</td>\n",
       "      <td>POLYGON ((51.57951867046327 24.245497137951105...</td>\n",
       "    </tr>\n",
       "  </tbody>\n",
       "</table>\n",
       "<p>484 rows × 34 columns</p>\n",
       "</div>"
      ],
      "text/plain": [
       "      Unnamed: 0               Country  Year  Total energy production (Mtoe)  \\\n",
       "430          576               Belgium  2000                       13.732887   \n",
       "431          577               Czechia  2000                       30.843210   \n",
       "432          578                France  2000                      130.659097   \n",
       "433          579               Germany  2000                      135.232056   \n",
       "434          580                 Italy  2000                       28.453927   \n",
       "...          ...                   ...   ...                             ...   \n",
       "1349        1897  United Arab Emirates  2006                             NaN   \n",
       "1350        1898  United Arab Emirates  2007                             NaN   \n",
       "1351        1899  United Arab Emirates  2008                             NaN   \n",
       "1352        1900  United Arab Emirates  2009                             NaN   \n",
       "1353        1901  United Arab Emirates  2010                             NaN   \n",
       "\n",
       "      Energy balance of trade (Mtoe)  Total energy consumption (Mtoe)  \\\n",
       "430                        50.633379                        58.047890   \n",
       "431                         9.394294                        41.173342   \n",
       "432                       135.719677                       255.014615   \n",
       "433                       205.657499                       336.585061   \n",
       "434                       152.441540                       171.817998   \n",
       "...                              ...                              ...   \n",
       "1349                     -122.935508                              NaN   \n",
       "1350                     -115.587896                              NaN   \n",
       "1351                     -107.811116                              NaN   \n",
       "1352                      -92.207336                              NaN   \n",
       "1353                     -102.361749                              NaN   \n",
       "\n",
       "      Energy intensity of GDP at constant purchasing power parities (koe/$15p)  \\\n",
       "430                                            0.140837                          \n",
       "431                                            0.172086                          \n",
       "432                                            0.111777                          \n",
       "433                                            0.102590                          \n",
       "434                                            0.076424                          \n",
       "...                                                 ...                          \n",
       "1349                                                NaN                          \n",
       "1350                                                NaN                          \n",
       "1351                                                NaN                          \n",
       "1352                                                NaN                          \n",
       "1353                                                NaN                          \n",
       "\n",
       "      Crude oil production (Mt)  Crude oil balance of trade (Mt)  \\\n",
       "430                       0.000                           33.986   \n",
       "431                       0.385                            5.614   \n",
       "432                       1.907                           83.914   \n",
       "433                       4.393                          100.467   \n",
       "434                       4.764                           89.882   \n",
       "...                         ...                              ...   \n",
       "1349                        NaN                         -114.342   \n",
       "1350                        NaN                         -113.174   \n",
       "1351                        NaN                         -116.264   \n",
       "1352                        NaN                         -100.238   \n",
       "1353                        NaN                         -106.861   \n",
       "\n",
       "      Refined oil products production (Mt)  ...  \\\n",
       "430                                 38.174  ...   \n",
       "431                                  6.131  ...   \n",
       "432                                 88.569  ...   \n",
       "433                                115.968  ...   \n",
       "434                                 94.771  ...   \n",
       "...                                    ...  ...   \n",
       "1349                                   NaN  ...   \n",
       "1350                                   NaN  ...   \n",
       "1351                                   NaN  ...   \n",
       "1352                                   NaN  ...   \n",
       "1353                                   NaN  ...   \n",
       "\n",
       "      Share of wind and solar in electricity production (%)  \\\n",
       "430                                   0.019044898347855       \n",
       "431                                   0.001361173876351       \n",
       "432                                     0.1037125384755       \n",
       "433                                      1.632488816966       \n",
       "434                                     2.1948944845685       \n",
       "...                                                 ...       \n",
       "1349                                                NaN       \n",
       "1350                                                NaN       \n",
       "1351                                                NaN       \n",
       "1352                                                NaN       \n",
       "1353                                                NaN       \n",
       "\n",
       "      CO2 emissions from fuel combustion (MtCO2)  \\\n",
       "430                                   116.365911   \n",
       "431                                   122.555814   \n",
       "432                                   386.201607   \n",
       "433                                   829.723584   \n",
       "434                                   430.665093   \n",
       "...                                          ...   \n",
       "1349                                         NaN   \n",
       "1350                                         NaN   \n",
       "1351                                         NaN   \n",
       "1352                                         NaN   \n",
       "1353                                         NaN   \n",
       "\n",
       "     CO2 intensity at constant purchasing power parities (kCO2/$15p)  \\\n",
       "430                                            0.282329                \n",
       "431                                            0.512228                \n",
       "432                                            0.169279                \n",
       "433                                            0.198456                \n",
       "434                                            0.191558                \n",
       "...                                                 ...                \n",
       "1349                                                NaN                \n",
       "1350                                                NaN                \n",
       "1351                                                NaN                \n",
       "1352                                                NaN                \n",
       "1353                                                NaN                \n",
       "\n",
       "     Average CO2 emission factor (tCO2/toe)     pop_est continent  \\\n",
       "430                                2.004654  11491346.0    Europe   \n",
       "431                                2.976582  10674723.0    Europe   \n",
       "432                                1.514429  67106161.0    Europe   \n",
       "433                                1.934451  80594017.0    Europe   \n",
       "434                                2.506519  62137802.0    Europe   \n",
       "...                                     ...         ...       ...   \n",
       "1349                                    NaN   6072475.0      Asia   \n",
       "1350                                    NaN   6072475.0      Asia   \n",
       "1351                                    NaN   6072475.0      Asia   \n",
       "1352                                    NaN   6072475.0      Asia   \n",
       "1353                                    NaN   6072475.0      Asia   \n",
       "\n",
       "                      name iso_a3 gdp_md_est  \\\n",
       "430                Belgium    BEL   508600.0   \n",
       "431                Czechia    CZE   350900.0   \n",
       "432                 France    FRA  2699000.0   \n",
       "433                Germany    DEU  3979000.0   \n",
       "434                  Italy    ITA  2221000.0   \n",
       "...                    ...    ...        ...   \n",
       "1349  United Arab Emirates    ARE   667200.0   \n",
       "1350  United Arab Emirates    ARE   667200.0   \n",
       "1351  United Arab Emirates    ARE   667200.0   \n",
       "1352  United Arab Emirates    ARE   667200.0   \n",
       "1353  United Arab Emirates    ARE   667200.0   \n",
       "\n",
       "                                               geometry  \n",
       "430   POLYGON ((6.15665815595878 50.80372101501058, ...  \n",
       "431   POLYGON ((15.01699588385867 51.10667409932158,...  \n",
       "432   MULTIPOLYGON (((-51.65779741067889 4.156232408...  \n",
       "433   POLYGON ((14.119686313542559 53.75702912049104...  \n",
       "434   MULTIPOLYGON (((10.44270145024663 46.893546250...  \n",
       "...                                                 ...  \n",
       "1349  POLYGON ((51.57951867046327 24.245497137951105...  \n",
       "1350  POLYGON ((51.57951867046327 24.245497137951105...  \n",
       "1351  POLYGON ((51.57951867046327 24.245497137951105...  \n",
       "1352  POLYGON ((51.57951867046327 24.245497137951105...  \n",
       "1353  POLYGON ((51.57951867046327 24.245497137951105...  \n",
       "\n",
       "[484 rows x 34 columns]"
      ]
     },
     "execution_count": 5,
     "metadata": {},
     "output_type": "execute_result"
    }
   ],
   "source": [
    "value=[2000, 2010]\n",
    "#file['Year'].loc[value[1]:value[0]]\n",
    "\n",
    "file[(file['Year'] >= value[0]) & (file['Year'] <= value[1])]"
   ]
  },
  {
   "cell_type": "code",
   "execution_count": 16,
   "metadata": {},
   "outputs": [
    {
     "data": {
      "text/html": [
       "<div>\n",
       "<style scoped>\n",
       "    .dataframe tbody tr th:only-of-type {\n",
       "        vertical-align: middle;\n",
       "    }\n",
       "\n",
       "    .dataframe tbody tr th {\n",
       "        vertical-align: top;\n",
       "    }\n",
       "\n",
       "    .dataframe thead th {\n",
       "        text-align: right;\n",
       "    }\n",
       "</style>\n",
       "<table border=\"1\" class=\"dataframe\">\n",
       "  <thead>\n",
       "    <tr style=\"text-align: right;\">\n",
       "      <th></th>\n",
       "      <th></th>\n",
       "      <th>Share of renewables in electricity production (%)</th>\n",
       "    </tr>\n",
       "    <tr>\n",
       "      <th>Year</th>\n",
       "      <th>continent</th>\n",
       "      <th></th>\n",
       "    </tr>\n",
       "  </thead>\n",
       "  <tbody>\n",
       "    <tr>\n",
       "      <th rowspan=\"5\" valign=\"top\">1990</th>\n",
       "      <th>Africa</th>\n",
       "      <td>14.644452</td>\n",
       "    </tr>\n",
       "    <tr>\n",
       "      <th>Asia</th>\n",
       "      <td>13.789243</td>\n",
       "    </tr>\n",
       "    <tr>\n",
       "      <th>Europe</th>\n",
       "      <td>19.070320</td>\n",
       "    </tr>\n",
       "    <tr>\n",
       "      <th>North America</th>\n",
       "      <td>33.014622</td>\n",
       "    </tr>\n",
       "    <tr>\n",
       "      <th>Oceania</th>\n",
       "      <td>45.045657</td>\n",
       "    </tr>\n",
       "    <tr>\n",
       "      <th>...</th>\n",
       "      <th>...</th>\n",
       "      <td>...</td>\n",
       "    </tr>\n",
       "    <tr>\n",
       "      <th rowspan=\"5\" valign=\"top\">2020</th>\n",
       "      <th>Asia</th>\n",
       "      <td>14.715176</td>\n",
       "    </tr>\n",
       "    <tr>\n",
       "      <th>Europe</th>\n",
       "      <td>38.714465</td>\n",
       "    </tr>\n",
       "    <tr>\n",
       "      <th>North America</th>\n",
       "      <td>35.999489</td>\n",
       "    </tr>\n",
       "    <tr>\n",
       "      <th>Oceania</th>\n",
       "      <td>51.502625</td>\n",
       "    </tr>\n",
       "    <tr>\n",
       "      <th>South America</th>\n",
       "      <td>56.155401</td>\n",
       "    </tr>\n",
       "  </tbody>\n",
       "</table>\n",
       "<p>186 rows × 1 columns</p>\n",
       "</div>"
      ],
      "text/plain": [
       "                    Share of renewables in electricity production (%)\n",
       "Year continent                                                       \n",
       "1990 Africa                                                 14.644452\n",
       "     Asia                                                   13.789243\n",
       "     Europe                                                 19.070320\n",
       "     North America                                          33.014622\n",
       "     Oceania                                                45.045657\n",
       "...                                                               ...\n",
       "2020 Asia                                                   14.715176\n",
       "     Europe                                                 38.714465\n",
       "     North America                                          35.999489\n",
       "     Oceania                                                51.502625\n",
       "     South America                                          56.155401\n",
       "\n",
       "[186 rows x 1 columns]"
      ]
     },
     "execution_count": 16,
     "metadata": {},
     "output_type": "execute_result"
    }
   ],
   "source": [
    "file[['Share of renewables in electricity production (%)', 'continent', 'Year']].groupby('continent').mean()"
   ]
  },
  {
   "cell_type": "code",
   "execution_count": 18,
   "metadata": {},
   "outputs": [],
   "source": [
    "import plotly.express as px"
   ]
  },
  {
   "cell_type": "code",
   "execution_count": 31,
   "metadata": {},
   "outputs": [
    {
     "ename": "ValueError",
     "evalue": "Value of 'x' is not the name of a column in 'data_frame'. Expected one of ['Share of renewables in electricity production (%)'] but received: Year",
     "output_type": "error",
     "traceback": [
      "\u001b[1;31m---------------------------------------------------------------------------\u001b[0m",
      "\u001b[1;31mValueError\u001b[0m                                Traceback (most recent call last)",
      "\u001b[1;32m<ipython-input-31-49f6fcc8051a>\u001b[0m in \u001b[0;36m<module>\u001b[1;34m\u001b[0m\n\u001b[1;32m----> 1\u001b[1;33m \u001b[0mfig\u001b[0m \u001b[1;33m=\u001b[0m \u001b[0mpx\u001b[0m\u001b[1;33m.\u001b[0m\u001b[0mbar\u001b[0m\u001b[1;33m(\u001b[0m\u001b[0mdf\u001b[0m\u001b[1;33m,\u001b[0m \u001b[0mx\u001b[0m\u001b[1;33m=\u001b[0m\u001b[1;34m'Year'\u001b[0m\u001b[1;33m,\u001b[0m \u001b[0my\u001b[0m\u001b[1;33m=\u001b[0m\u001b[1;34m\"Share of renewables in electricity production (%)\"\u001b[0m\u001b[1;33m)\u001b[0m\u001b[1;33m\u001b[0m\u001b[1;33m\u001b[0m\u001b[0m\n\u001b[0m",
      "\u001b[1;32mD:\\Anaconda\\lib\\site-packages\\plotly\\express\\_chart_types.py\u001b[0m in \u001b[0;36mbar\u001b[1;34m(data_frame, x, y, color, pattern_shape, facet_row, facet_col, facet_col_wrap, facet_row_spacing, facet_col_spacing, hover_name, hover_data, custom_data, text, base, error_x, error_x_minus, error_y, error_y_minus, animation_frame, animation_group, category_orders, labels, color_discrete_sequence, color_discrete_map, color_continuous_scale, pattern_shape_sequence, pattern_shape_map, range_color, color_continuous_midpoint, opacity, orientation, barmode, log_x, log_y, range_x, range_y, text_auto, title, template, width, height)\u001b[0m\n\u001b[0;32m    366\u001b[0m     \u001b[0mmark\u001b[0m\u001b[1;33m.\u001b[0m\u001b[1;33m\u001b[0m\u001b[1;33m\u001b[0m\u001b[0m\n\u001b[0;32m    367\u001b[0m     \"\"\"\n\u001b[1;32m--> 368\u001b[1;33m     return make_figure(\n\u001b[0m\u001b[0;32m    369\u001b[0m         \u001b[0margs\u001b[0m\u001b[1;33m=\u001b[0m\u001b[0mlocals\u001b[0m\u001b[1;33m(\u001b[0m\u001b[1;33m)\u001b[0m\u001b[1;33m,\u001b[0m\u001b[1;33m\u001b[0m\u001b[1;33m\u001b[0m\u001b[0m\n\u001b[0;32m    370\u001b[0m         \u001b[0mconstructor\u001b[0m\u001b[1;33m=\u001b[0m\u001b[0mgo\u001b[0m\u001b[1;33m.\u001b[0m\u001b[0mBar\u001b[0m\u001b[1;33m,\u001b[0m\u001b[1;33m\u001b[0m\u001b[1;33m\u001b[0m\u001b[0m\n",
      "\u001b[1;32mD:\\Anaconda\\lib\\site-packages\\plotly\\express\\_core.py\u001b[0m in \u001b[0;36mmake_figure\u001b[1;34m(args, constructor, trace_patch, layout_patch)\u001b[0m\n\u001b[0;32m   1943\u001b[0m     \u001b[0mapply_default_cascade\u001b[0m\u001b[1;33m(\u001b[0m\u001b[0margs\u001b[0m\u001b[1;33m)\u001b[0m\u001b[1;33m\u001b[0m\u001b[1;33m\u001b[0m\u001b[0m\n\u001b[0;32m   1944\u001b[0m \u001b[1;33m\u001b[0m\u001b[0m\n\u001b[1;32m-> 1945\u001b[1;33m     \u001b[0margs\u001b[0m \u001b[1;33m=\u001b[0m \u001b[0mbuild_dataframe\u001b[0m\u001b[1;33m(\u001b[0m\u001b[0margs\u001b[0m\u001b[1;33m,\u001b[0m \u001b[0mconstructor\u001b[0m\u001b[1;33m)\u001b[0m\u001b[1;33m\u001b[0m\u001b[1;33m\u001b[0m\u001b[0m\n\u001b[0m\u001b[0;32m   1946\u001b[0m     \u001b[1;32mif\u001b[0m \u001b[0mconstructor\u001b[0m \u001b[1;32min\u001b[0m \u001b[1;33m[\u001b[0m\u001b[0mgo\u001b[0m\u001b[1;33m.\u001b[0m\u001b[0mTreemap\u001b[0m\u001b[1;33m,\u001b[0m \u001b[0mgo\u001b[0m\u001b[1;33m.\u001b[0m\u001b[0mSunburst\u001b[0m\u001b[1;33m,\u001b[0m \u001b[0mgo\u001b[0m\u001b[1;33m.\u001b[0m\u001b[0mIcicle\u001b[0m\u001b[1;33m]\u001b[0m \u001b[1;32mand\u001b[0m \u001b[0margs\u001b[0m\u001b[1;33m[\u001b[0m\u001b[1;34m\"path\"\u001b[0m\u001b[1;33m]\u001b[0m \u001b[1;32mis\u001b[0m \u001b[1;32mnot\u001b[0m \u001b[1;32mNone\u001b[0m\u001b[1;33m:\u001b[0m\u001b[1;33m\u001b[0m\u001b[1;33m\u001b[0m\u001b[0m\n\u001b[0;32m   1947\u001b[0m         \u001b[0margs\u001b[0m \u001b[1;33m=\u001b[0m \u001b[0mprocess_dataframe_hierarchy\u001b[0m\u001b[1;33m(\u001b[0m\u001b[0margs\u001b[0m\u001b[1;33m)\u001b[0m\u001b[1;33m\u001b[0m\u001b[1;33m\u001b[0m\u001b[0m\n",
      "\u001b[1;32mD:\\Anaconda\\lib\\site-packages\\plotly\\express\\_core.py\u001b[0m in \u001b[0;36mbuild_dataframe\u001b[1;34m(args, constructor)\u001b[0m\n\u001b[0;32m   1403\u001b[0m     \u001b[1;31m# now that things have been prepped, we do the systematic rewriting of `args`\u001b[0m\u001b[1;33m\u001b[0m\u001b[1;33m\u001b[0m\u001b[1;33m\u001b[0m\u001b[0m\n\u001b[0;32m   1404\u001b[0m \u001b[1;33m\u001b[0m\u001b[0m\n\u001b[1;32m-> 1405\u001b[1;33m     df_output, wide_id_vars = process_args_into_dataframe(\n\u001b[0m\u001b[0;32m   1406\u001b[0m         \u001b[0margs\u001b[0m\u001b[1;33m,\u001b[0m \u001b[0mwide_mode\u001b[0m\u001b[1;33m,\u001b[0m \u001b[0mvar_name\u001b[0m\u001b[1;33m,\u001b[0m \u001b[0mvalue_name\u001b[0m\u001b[1;33m\u001b[0m\u001b[1;33m\u001b[0m\u001b[0m\n\u001b[0;32m   1407\u001b[0m     )\n",
      "\u001b[1;32mD:\\Anaconda\\lib\\site-packages\\plotly\\express\\_core.py\u001b[0m in \u001b[0;36mprocess_args_into_dataframe\u001b[1;34m(args, wide_mode, var_name, value_name)\u001b[0m\n\u001b[0;32m   1205\u001b[0m                         \u001b[1;32mif\u001b[0m \u001b[0margument\u001b[0m \u001b[1;33m==\u001b[0m \u001b[1;34m\"index\"\u001b[0m\u001b[1;33m:\u001b[0m\u001b[1;33m\u001b[0m\u001b[1;33m\u001b[0m\u001b[0m\n\u001b[0;32m   1206\u001b[0m                             \u001b[0merr_msg\u001b[0m \u001b[1;33m+=\u001b[0m \u001b[1;34m\"\\n To use the index, pass it in directly as `df.index`.\"\u001b[0m\u001b[1;33m\u001b[0m\u001b[1;33m\u001b[0m\u001b[0m\n\u001b[1;32m-> 1207\u001b[1;33m                         \u001b[1;32mraise\u001b[0m \u001b[0mValueError\u001b[0m\u001b[1;33m(\u001b[0m\u001b[0merr_msg\u001b[0m\u001b[1;33m)\u001b[0m\u001b[1;33m\u001b[0m\u001b[1;33m\u001b[0m\u001b[0m\n\u001b[0m\u001b[0;32m   1208\u001b[0m                 \u001b[1;32melif\u001b[0m \u001b[0mlength\u001b[0m \u001b[1;32mand\u001b[0m \u001b[0mlen\u001b[0m\u001b[1;33m(\u001b[0m\u001b[0mdf_input\u001b[0m\u001b[1;33m[\u001b[0m\u001b[0margument\u001b[0m\u001b[1;33m]\u001b[0m\u001b[1;33m)\u001b[0m \u001b[1;33m!=\u001b[0m \u001b[0mlength\u001b[0m\u001b[1;33m:\u001b[0m\u001b[1;33m\u001b[0m\u001b[1;33m\u001b[0m\u001b[0m\n\u001b[0;32m   1209\u001b[0m                     raise ValueError(\n",
      "\u001b[1;31mValueError\u001b[0m: Value of 'x' is not the name of a column in 'data_frame'. Expected one of ['Share of renewables in electricity production (%)'] but received: Year"
     ]
    }
   ],
   "source": [
    "fig = px.bar(df, x='Year', y=\"Share of renewables in electricity production (%)\")"
   ]
  },
  {
   "cell_type": "code",
   "execution_count": 50,
   "metadata": {},
   "outputs": [],
   "source": [
    "import plotly.express as px"
   ]
  },
  {
   "cell_type": "code",
   "execution_count": 54,
   "metadata": {},
   "outputs": [
    {
     "data": {
      "text/html": [
       "<div>\n",
       "<style scoped>\n",
       "    .dataframe tbody tr th:only-of-type {\n",
       "        vertical-align: middle;\n",
       "    }\n",
       "\n",
       "    .dataframe tbody tr th {\n",
       "        vertical-align: top;\n",
       "    }\n",
       "\n",
       "    .dataframe thead th {\n",
       "        text-align: right;\n",
       "    }\n",
       "</style>\n",
       "<table border=\"1\" class=\"dataframe\">\n",
       "  <thead>\n",
       "    <tr style=\"text-align: right;\">\n",
       "      <th></th>\n",
       "      <th></th>\n",
       "      <th>Share of renewables in electricity production (%)</th>\n",
       "    </tr>\n",
       "    <tr>\n",
       "      <th>Year</th>\n",
       "      <th>continent</th>\n",
       "      <th></th>\n",
       "    </tr>\n",
       "  </thead>\n",
       "  <tbody>\n",
       "    <tr>\n",
       "      <th rowspan=\"5\" valign=\"top\">1990</th>\n",
       "      <th>Africa</th>\n",
       "      <td>14.644452</td>\n",
       "    </tr>\n",
       "    <tr>\n",
       "      <th>Asia</th>\n",
       "      <td>13.789243</td>\n",
       "    </tr>\n",
       "    <tr>\n",
       "      <th>Europe</th>\n",
       "      <td>19.070320</td>\n",
       "    </tr>\n",
       "    <tr>\n",
       "      <th>North America</th>\n",
       "      <td>33.014622</td>\n",
       "    </tr>\n",
       "    <tr>\n",
       "      <th>Oceania</th>\n",
       "      <td>45.045657</td>\n",
       "    </tr>\n",
       "    <tr>\n",
       "      <th>...</th>\n",
       "      <th>...</th>\n",
       "      <td>...</td>\n",
       "    </tr>\n",
       "    <tr>\n",
       "      <th rowspan=\"5\" valign=\"top\">2020</th>\n",
       "      <th>Asia</th>\n",
       "      <td>14.715176</td>\n",
       "    </tr>\n",
       "    <tr>\n",
       "      <th>Europe</th>\n",
       "      <td>38.714465</td>\n",
       "    </tr>\n",
       "    <tr>\n",
       "      <th>North America</th>\n",
       "      <td>35.999489</td>\n",
       "    </tr>\n",
       "    <tr>\n",
       "      <th>Oceania</th>\n",
       "      <td>51.502625</td>\n",
       "    </tr>\n",
       "    <tr>\n",
       "      <th>South America</th>\n",
       "      <td>56.155401</td>\n",
       "    </tr>\n",
       "  </tbody>\n",
       "</table>\n",
       "<p>186 rows × 1 columns</p>\n",
       "</div>"
      ],
      "text/plain": [
       "                    Share of renewables in electricity production (%)\n",
       "Year continent                                                       \n",
       "1990 Africa                                                 14.644452\n",
       "     Asia                                                   13.789243\n",
       "     Europe                                                 19.070320\n",
       "     North America                                          33.014622\n",
       "     Oceania                                                45.045657\n",
       "...                                                               ...\n",
       "2020 Asia                                                   14.715176\n",
       "     Europe                                                 38.714465\n",
       "     North America                                          35.999489\n",
       "     Oceania                                                51.502625\n",
       "     South America                                          56.155401\n",
       "\n",
       "[186 rows x 1 columns]"
      ]
     },
     "execution_count": 54,
     "metadata": {},
     "output_type": "execute_result"
    }
   ],
   "source": [
    "df"
   ]
  },
  {
   "cell_type": "code",
   "execution_count": 59,
   "metadata": {},
   "outputs": [
    {
     "ename": "ValueError",
     "evalue": "No axis named 1990 for object type DataFrame",
     "output_type": "error",
     "traceback": [
      "\u001b[1;31m---------------------------------------------------------------------------\u001b[0m",
      "\u001b[1;31mKeyError\u001b[0m                                  Traceback (most recent call last)",
      "\u001b[1;32mD:\\Anaconda\\lib\\site-packages\\pandas\\core\\generic.py\u001b[0m in \u001b[0;36m_get_axis_number\u001b[1;34m(cls, axis)\u001b[0m\n\u001b[0;32m    367\u001b[0m         \u001b[1;32mtry\u001b[0m\u001b[1;33m:\u001b[0m\u001b[1;33m\u001b[0m\u001b[1;33m\u001b[0m\u001b[0m\n\u001b[1;32m--> 368\u001b[1;33m             \u001b[1;32mreturn\u001b[0m \u001b[0mcls\u001b[0m\u001b[1;33m.\u001b[0m\u001b[0m_AXIS_TO_AXIS_NUMBER\u001b[0m\u001b[1;33m[\u001b[0m\u001b[0maxis\u001b[0m\u001b[1;33m]\u001b[0m\u001b[1;33m\u001b[0m\u001b[1;33m\u001b[0m\u001b[0m\n\u001b[0m\u001b[0;32m    369\u001b[0m         \u001b[1;32mexcept\u001b[0m \u001b[0mKeyError\u001b[0m\u001b[1;33m:\u001b[0m\u001b[1;33m\u001b[0m\u001b[1;33m\u001b[0m\u001b[0m\n",
      "\u001b[1;31mKeyError\u001b[0m: '1990'",
      "\nDuring handling of the above exception, another exception occurred:\n",
      "\u001b[1;31mValueError\u001b[0m                                Traceback (most recent call last)",
      "\u001b[1;32m<ipython-input-59-ce0b97d6e3e2>\u001b[0m in \u001b[0;36m<module>\u001b[1;34m\u001b[0m\n\u001b[1;32m----> 1\u001b[1;33m \u001b[0mdf\u001b[0m\u001b[1;33m.\u001b[0m\u001b[0mloc\u001b[0m\u001b[1;33m(\u001b[0m\u001b[1;34m'1990'\u001b[0m\u001b[1;33m)\u001b[0m\u001b[1;33m\u001b[0m\u001b[1;33m\u001b[0m\u001b[0m\n\u001b[0m",
      "\u001b[1;32mD:\\Anaconda\\lib\\site-packages\\pandas\\core\\indexing.py\u001b[0m in \u001b[0;36m__call__\u001b[1;34m(self, axis)\u001b[0m\n\u001b[0;32m    582\u001b[0m \u001b[1;33m\u001b[0m\u001b[0m\n\u001b[0;32m    583\u001b[0m         \u001b[1;32mif\u001b[0m \u001b[0maxis\u001b[0m \u001b[1;32mis\u001b[0m \u001b[1;32mnot\u001b[0m \u001b[1;32mNone\u001b[0m\u001b[1;33m:\u001b[0m\u001b[1;33m\u001b[0m\u001b[1;33m\u001b[0m\u001b[0m\n\u001b[1;32m--> 584\u001b[1;33m             \u001b[0maxis\u001b[0m \u001b[1;33m=\u001b[0m \u001b[0mself\u001b[0m\u001b[1;33m.\u001b[0m\u001b[0mobj\u001b[0m\u001b[1;33m.\u001b[0m\u001b[0m_get_axis_number\u001b[0m\u001b[1;33m(\u001b[0m\u001b[0maxis\u001b[0m\u001b[1;33m)\u001b[0m\u001b[1;33m\u001b[0m\u001b[1;33m\u001b[0m\u001b[0m\n\u001b[0m\u001b[0;32m    585\u001b[0m         \u001b[0mnew_self\u001b[0m\u001b[1;33m.\u001b[0m\u001b[0maxis\u001b[0m \u001b[1;33m=\u001b[0m \u001b[0maxis\u001b[0m\u001b[1;33m\u001b[0m\u001b[1;33m\u001b[0m\u001b[0m\n\u001b[0;32m    586\u001b[0m         \u001b[1;32mreturn\u001b[0m \u001b[0mnew_self\u001b[0m\u001b[1;33m\u001b[0m\u001b[1;33m\u001b[0m\u001b[0m\n",
      "\u001b[1;32mD:\\Anaconda\\lib\\site-packages\\pandas\\core\\generic.py\u001b[0m in \u001b[0;36m_get_axis_number\u001b[1;34m(cls, axis)\u001b[0m\n\u001b[0;32m    368\u001b[0m             \u001b[1;32mreturn\u001b[0m \u001b[0mcls\u001b[0m\u001b[1;33m.\u001b[0m\u001b[0m_AXIS_TO_AXIS_NUMBER\u001b[0m\u001b[1;33m[\u001b[0m\u001b[0maxis\u001b[0m\u001b[1;33m]\u001b[0m\u001b[1;33m\u001b[0m\u001b[1;33m\u001b[0m\u001b[0m\n\u001b[0;32m    369\u001b[0m         \u001b[1;32mexcept\u001b[0m \u001b[0mKeyError\u001b[0m\u001b[1;33m:\u001b[0m\u001b[1;33m\u001b[0m\u001b[1;33m\u001b[0m\u001b[0m\n\u001b[1;32m--> 370\u001b[1;33m             \u001b[1;32mraise\u001b[0m \u001b[0mValueError\u001b[0m\u001b[1;33m(\u001b[0m\u001b[1;34mf\"No axis named {axis} for object type {cls.__name__}\"\u001b[0m\u001b[1;33m)\u001b[0m\u001b[1;33m\u001b[0m\u001b[1;33m\u001b[0m\u001b[0m\n\u001b[0m\u001b[0;32m    371\u001b[0m \u001b[1;33m\u001b[0m\u001b[0m\n\u001b[0;32m    372\u001b[0m     \u001b[1;33m@\u001b[0m\u001b[0mclassmethod\u001b[0m\u001b[1;33m\u001b[0m\u001b[1;33m\u001b[0m\u001b[0m\n",
      "\u001b[1;31mValueError\u001b[0m: No axis named 1990 for object type DataFrame"
     ]
    }
   ],
   "source": [
    "df.loc('1990')"
   ]
  },
  {
   "cell_type": "code",
   "execution_count": 60,
   "metadata": {},
   "outputs": [
    {
     "ename": "TypeError",
     "evalue": "Data frame index is a pandas MultiIndex. pandas MultiIndex is not supported by plotly express at the moment.",
     "output_type": "error",
     "traceback": [
      "\u001b[1;31m---------------------------------------------------------------------------\u001b[0m",
      "\u001b[1;31mTypeError\u001b[0m                                 Traceback (most recent call last)",
      "\u001b[1;32m<ipython-input-60-8325fb1fd924>\u001b[0m in \u001b[0;36m<module>\u001b[1;34m\u001b[0m\n\u001b[1;32m----> 1\u001b[1;33m \u001b[0mfig3\u001b[0m \u001b[1;33m=\u001b[0m \u001b[0mpx\u001b[0m\u001b[1;33m.\u001b[0m\u001b[0mbar\u001b[0m\u001b[1;33m(\u001b[0m\u001b[0mdf\u001b[0m\u001b[1;33m)\u001b[0m\u001b[1;33m\u001b[0m\u001b[1;33m\u001b[0m\u001b[0m\n\u001b[0m",
      "\u001b[1;32mD:\\Anaconda\\lib\\site-packages\\plotly\\express\\_chart_types.py\u001b[0m in \u001b[0;36mbar\u001b[1;34m(data_frame, x, y, color, pattern_shape, facet_row, facet_col, facet_col_wrap, facet_row_spacing, facet_col_spacing, hover_name, hover_data, custom_data, text, base, error_x, error_x_minus, error_y, error_y_minus, animation_frame, animation_group, category_orders, labels, color_discrete_sequence, color_discrete_map, color_continuous_scale, pattern_shape_sequence, pattern_shape_map, range_color, color_continuous_midpoint, opacity, orientation, barmode, log_x, log_y, range_x, range_y, text_auto, title, template, width, height)\u001b[0m\n\u001b[0;32m    366\u001b[0m     \u001b[0mmark\u001b[0m\u001b[1;33m.\u001b[0m\u001b[1;33m\u001b[0m\u001b[1;33m\u001b[0m\u001b[0m\n\u001b[0;32m    367\u001b[0m     \"\"\"\n\u001b[1;32m--> 368\u001b[1;33m     return make_figure(\n\u001b[0m\u001b[0;32m    369\u001b[0m         \u001b[0margs\u001b[0m\u001b[1;33m=\u001b[0m\u001b[0mlocals\u001b[0m\u001b[1;33m(\u001b[0m\u001b[1;33m)\u001b[0m\u001b[1;33m,\u001b[0m\u001b[1;33m\u001b[0m\u001b[1;33m\u001b[0m\u001b[0m\n\u001b[0;32m    370\u001b[0m         \u001b[0mconstructor\u001b[0m\u001b[1;33m=\u001b[0m\u001b[0mgo\u001b[0m\u001b[1;33m.\u001b[0m\u001b[0mBar\u001b[0m\u001b[1;33m,\u001b[0m\u001b[1;33m\u001b[0m\u001b[1;33m\u001b[0m\u001b[0m\n",
      "\u001b[1;32mD:\\Anaconda\\lib\\site-packages\\plotly\\express\\_core.py\u001b[0m in \u001b[0;36mmake_figure\u001b[1;34m(args, constructor, trace_patch, layout_patch)\u001b[0m\n\u001b[0;32m   1943\u001b[0m     \u001b[0mapply_default_cascade\u001b[0m\u001b[1;33m(\u001b[0m\u001b[0margs\u001b[0m\u001b[1;33m)\u001b[0m\u001b[1;33m\u001b[0m\u001b[1;33m\u001b[0m\u001b[0m\n\u001b[0;32m   1944\u001b[0m \u001b[1;33m\u001b[0m\u001b[0m\n\u001b[1;32m-> 1945\u001b[1;33m     \u001b[0margs\u001b[0m \u001b[1;33m=\u001b[0m \u001b[0mbuild_dataframe\u001b[0m\u001b[1;33m(\u001b[0m\u001b[0margs\u001b[0m\u001b[1;33m,\u001b[0m \u001b[0mconstructor\u001b[0m\u001b[1;33m)\u001b[0m\u001b[1;33m\u001b[0m\u001b[1;33m\u001b[0m\u001b[0m\n\u001b[0m\u001b[0;32m   1946\u001b[0m     \u001b[1;32mif\u001b[0m \u001b[0mconstructor\u001b[0m \u001b[1;32min\u001b[0m \u001b[1;33m[\u001b[0m\u001b[0mgo\u001b[0m\u001b[1;33m.\u001b[0m\u001b[0mTreemap\u001b[0m\u001b[1;33m,\u001b[0m \u001b[0mgo\u001b[0m\u001b[1;33m.\u001b[0m\u001b[0mSunburst\u001b[0m\u001b[1;33m,\u001b[0m \u001b[0mgo\u001b[0m\u001b[1;33m.\u001b[0m\u001b[0mIcicle\u001b[0m\u001b[1;33m]\u001b[0m \u001b[1;32mand\u001b[0m \u001b[0margs\u001b[0m\u001b[1;33m[\u001b[0m\u001b[1;34m\"path\"\u001b[0m\u001b[1;33m]\u001b[0m \u001b[1;32mis\u001b[0m \u001b[1;32mnot\u001b[0m \u001b[1;32mNone\u001b[0m\u001b[1;33m:\u001b[0m\u001b[1;33m\u001b[0m\u001b[1;33m\u001b[0m\u001b[0m\n\u001b[0;32m   1947\u001b[0m         \u001b[0margs\u001b[0m \u001b[1;33m=\u001b[0m \u001b[0mprocess_dataframe_hierarchy\u001b[0m\u001b[1;33m(\u001b[0m\u001b[0margs\u001b[0m\u001b[1;33m)\u001b[0m\u001b[1;33m\u001b[0m\u001b[1;33m\u001b[0m\u001b[0m\n",
      "\u001b[1;32mD:\\Anaconda\\lib\\site-packages\\plotly\\express\\_core.py\u001b[0m in \u001b[0;36mbuild_dataframe\u001b[1;34m(args, constructor)\u001b[0m\n\u001b[0;32m   1386\u001b[0m             \u001b[1;32mif\u001b[0m \u001b[0mdf_provided\u001b[0m\u001b[1;33m:\u001b[0m\u001b[1;33m\u001b[0m\u001b[1;33m\u001b[0m\u001b[0m\n\u001b[0;32m   1387\u001b[0m                 \u001b[1;32mif\u001b[0m \u001b[0misinstance\u001b[0m\u001b[1;33m(\u001b[0m\u001b[0mdf_input\u001b[0m\u001b[1;33m.\u001b[0m\u001b[0mindex\u001b[0m\u001b[1;33m,\u001b[0m \u001b[0mpd\u001b[0m\u001b[1;33m.\u001b[0m\u001b[0mMultiIndex\u001b[0m\u001b[1;33m)\u001b[0m\u001b[1;33m:\u001b[0m\u001b[1;33m\u001b[0m\u001b[1;33m\u001b[0m\u001b[0m\n\u001b[1;32m-> 1388\u001b[1;33m                     raise TypeError(\n\u001b[0m\u001b[0;32m   1389\u001b[0m                         \u001b[1;34m\"Data frame index is a pandas MultiIndex. \"\u001b[0m\u001b[1;33m\u001b[0m\u001b[1;33m\u001b[0m\u001b[0m\n\u001b[0;32m   1390\u001b[0m                         \u001b[1;34m\"pandas MultiIndex is not supported by plotly express \"\u001b[0m\u001b[1;33m\u001b[0m\u001b[1;33m\u001b[0m\u001b[0m\n",
      "\u001b[1;31mTypeError\u001b[0m: Data frame index is a pandas MultiIndex. pandas MultiIndex is not supported by plotly express at the moment."
     ]
    }
   ],
   "source": [
    "fig3 = px.bar(df)"
   ]
  },
  {
   "cell_type": "code",
   "execution_count": 28,
   "metadata": {},
   "outputs": [
    {
     "data": {
      "application/vnd.plotly.v1+json": {
       "config": {
        "plotlyServerURL": "https://plot.ly"
       },
       "data": [
        {
         "alignmentgroup": "True",
         "hovertemplate": "Year=%{x}<br>Share of renewables in electricity production (%)=%{y}<extra></extra>",
         "legendgroup": "",
         "marker": {
          "color": "#636efa",
          "pattern": {
           "shape": ""
          }
         },
         "name": "",
         "offsetgroup": "",
         "orientation": "v",
         "showlegend": false,
         "textposition": "auto",
         "type": "bar",
         "x": [
          1990,
          1990,
          1990,
          1990,
          1990,
          1990,
          1990,
          1990,
          1990,
          1990,
          1990,
          1990,
          1990,
          1990,
          1990,
          1990,
          1990,
          1990,
          1990,
          1990,
          1990,
          1990,
          1990,
          1990,
          1990,
          1990,
          1990,
          1990,
          1990,
          1990,
          1990,
          1990,
          1990,
          1990,
          1990,
          1990,
          1990,
          1990,
          1990,
          1990,
          1990,
          1990,
          1990,
          1991,
          1991,
          1991,
          1991,
          1991,
          1991,
          1991,
          1991,
          1991,
          1991,
          1991,
          1991,
          1991,
          1991,
          1991,
          1991,
          1991,
          1991,
          1991,
          1991,
          1991,
          1991,
          1991,
          1991,
          1991,
          1991,
          1991,
          1991,
          1991,
          1991,
          1991,
          1991,
          1991,
          1991,
          1991,
          1991,
          1991,
          1991,
          1991,
          1991,
          1991,
          1991,
          1991,
          1992,
          1992,
          1992,
          1992,
          1992,
          1992,
          1992,
          1992,
          1992,
          1992,
          1992,
          1992,
          1992,
          1992,
          1992,
          1992,
          1992,
          1992,
          1992,
          1992,
          1992,
          1992,
          1992,
          1992,
          1992,
          1992,
          1992,
          1992,
          1992,
          1992,
          1992,
          1992,
          1992,
          1992,
          1992,
          1992,
          1992,
          1992,
          1992,
          1992,
          1992,
          1992,
          1992,
          1993,
          1993,
          1993,
          1993,
          1993,
          1993,
          1993,
          1993,
          1993,
          1993,
          1993,
          1993,
          1993,
          1993,
          1993,
          1993,
          1993,
          1993,
          1993,
          1993,
          1993,
          1993,
          1993,
          1993,
          1993,
          1993,
          1993,
          1993,
          1993,
          1993,
          1993,
          1993,
          1993,
          1993,
          1993,
          1993,
          1993,
          1993,
          1993,
          1993,
          1993,
          1993,
          1993,
          1994,
          1994,
          1994,
          1994,
          1994,
          1994,
          1994,
          1994,
          1994,
          1994,
          1994,
          1994,
          1994,
          1994,
          1994,
          1994,
          1994,
          1994,
          1994,
          1994,
          1994,
          1994,
          1994,
          1994,
          1994,
          1994,
          1994,
          1994,
          1994,
          1994,
          1994,
          1994,
          1994,
          1994,
          1994,
          1994,
          1994,
          1994,
          1994,
          1994,
          1994,
          1994,
          1994,
          1995,
          1995,
          1995,
          1995,
          1995,
          1995,
          1995,
          1995,
          1995,
          1995,
          1995,
          1995,
          1995,
          1995,
          1995,
          1995,
          1995,
          1995,
          1995,
          1995,
          1995,
          1995,
          1995,
          1995,
          1995,
          1995,
          1995,
          1995,
          1995,
          1995,
          1995,
          1995,
          1995,
          1995,
          1995,
          1995,
          1995,
          1995,
          1995,
          1995,
          1995,
          1995,
          1995,
          1996,
          1996,
          1996,
          1996,
          1996,
          1996,
          1996,
          1996,
          1996,
          1996,
          1996,
          1996,
          1996,
          1996,
          1996,
          1996,
          1996,
          1996,
          1996,
          1996,
          1996,
          1996,
          1996,
          1996,
          1996,
          1996,
          1996,
          1996,
          1996,
          1996,
          1996,
          1996,
          1996,
          1996,
          1996,
          1996,
          1996,
          1996,
          1996,
          1996,
          1996,
          1996,
          1996,
          1997,
          1997,
          1997,
          1997,
          1997,
          1997,
          1997,
          1997,
          1997,
          1997,
          1997,
          1997,
          1997,
          1997,
          1997,
          1997,
          1997,
          1997,
          1997,
          1997,
          1997,
          1997,
          1997,
          1997,
          1997,
          1997,
          1997,
          1997,
          1997,
          1997,
          1997,
          1997,
          1997,
          1997,
          1997,
          1997,
          1997,
          1997,
          1997,
          1997,
          1997,
          1997,
          1997,
          1998,
          1998,
          1998,
          1998,
          1998,
          1998,
          1998,
          1998,
          1998,
          1998,
          1998,
          1998,
          1998,
          1998,
          1998,
          1998,
          1998,
          1998,
          1998,
          1998,
          1998,
          1998,
          1998,
          1998,
          1998,
          1998,
          1998,
          1998,
          1998,
          1998,
          1998,
          1998,
          1998,
          1998,
          1998,
          1998,
          1998,
          1998,
          1998,
          1998,
          1998,
          1998,
          1998,
          1999,
          1999,
          1999,
          1999,
          1999,
          1999,
          1999,
          1999,
          1999,
          1999,
          1999,
          1999,
          1999,
          1999,
          1999,
          1999,
          1999,
          1999,
          1999,
          1999,
          1999,
          1999,
          1999,
          1999,
          1999,
          1999,
          1999,
          1999,
          1999,
          1999,
          1999,
          1999,
          1999,
          1999,
          1999,
          1999,
          1999,
          1999,
          1999,
          1999,
          1999,
          1999,
          1999,
          2000,
          2000,
          2000,
          2000,
          2000,
          2000,
          2000,
          2000,
          2000,
          2000,
          2000,
          2000,
          2000,
          2000,
          2000,
          2000,
          2000,
          2000,
          2000,
          2000,
          2000,
          2000,
          2000,
          2000,
          2000,
          2000,
          2000,
          2000,
          2000,
          2000,
          2000,
          2000,
          2000,
          2000,
          2000,
          2000,
          2000,
          2000,
          2000,
          2000,
          2000,
          2000,
          2000,
          2001,
          2001,
          2001,
          2001,
          2001,
          2001,
          2001,
          2001,
          2001,
          2001,
          2001,
          2001,
          2001,
          2001,
          2001,
          2001,
          2001,
          2001,
          2001,
          2001,
          2001,
          2001,
          2001,
          2001,
          2001,
          2001,
          2001,
          2001,
          2001,
          2001,
          2001,
          2001,
          2001,
          2001,
          2001,
          2001,
          2001,
          2001,
          2001,
          2001,
          2001,
          2001,
          2001,
          2002,
          2002,
          2002,
          2002,
          2002,
          2002,
          2002,
          2002,
          2002,
          2002,
          2002,
          2002,
          2002,
          2002,
          2002,
          2002,
          2002,
          2002,
          2002,
          2002,
          2002,
          2002,
          2002,
          2002,
          2002,
          2002,
          2002,
          2002,
          2002,
          2002,
          2002,
          2002,
          2002,
          2002,
          2002,
          2002,
          2002,
          2002,
          2002,
          2002,
          2002,
          2002,
          2002,
          2003,
          2003,
          2003,
          2003,
          2003,
          2003,
          2003,
          2003,
          2003,
          2003,
          2003,
          2003,
          2003,
          2003,
          2003,
          2003,
          2003,
          2003,
          2003,
          2003,
          2003,
          2003,
          2003,
          2003,
          2003,
          2003,
          2003,
          2003,
          2003,
          2003,
          2003,
          2003,
          2003,
          2003,
          2003,
          2003,
          2003,
          2003,
          2003,
          2003,
          2003,
          2003,
          2003,
          2004,
          2004,
          2004,
          2004,
          2004,
          2004,
          2004,
          2004,
          2004,
          2004,
          2004,
          2004,
          2004,
          2004,
          2004,
          2004,
          2004,
          2004,
          2004,
          2004,
          2004,
          2004,
          2004,
          2004,
          2004,
          2004,
          2004,
          2004,
          2004,
          2004,
          2004,
          2004,
          2004,
          2004,
          2004,
          2004,
          2004,
          2004,
          2004,
          2004,
          2004,
          2004,
          2004,
          2005,
          2005,
          2005,
          2005,
          2005,
          2005,
          2005,
          2005,
          2005,
          2005,
          2005,
          2005,
          2005,
          2005,
          2005,
          2005,
          2005,
          2005,
          2005,
          2005,
          2005,
          2005,
          2005,
          2005,
          2005,
          2005,
          2005,
          2005,
          2005,
          2005,
          2005,
          2005,
          2005,
          2005,
          2005,
          2005,
          2005,
          2005,
          2005,
          2005,
          2005,
          2005,
          2005,
          2006,
          2006,
          2006,
          2006,
          2006,
          2006,
          2006,
          2006,
          2006,
          2006,
          2006,
          2006,
          2006,
          2006,
          2006,
          2006,
          2006,
          2006,
          2006,
          2006,
          2006,
          2006,
          2006,
          2006,
          2006,
          2006,
          2006,
          2006,
          2006,
          2006,
          2006,
          2006,
          2006,
          2006,
          2006,
          2006,
          2006,
          2006,
          2006,
          2006,
          2006,
          2006,
          2006,
          2007,
          2007,
          2007,
          2007,
          2007,
          2007,
          2007,
          2007,
          2007,
          2007,
          2007,
          2007,
          2007,
          2007,
          2007,
          2007,
          2007,
          2007,
          2007,
          2007,
          2007,
          2007,
          2007,
          2007,
          2007,
          2007,
          2007,
          2007,
          2007,
          2007,
          2007,
          2007,
          2007,
          2007,
          2007,
          2007,
          2007,
          2007,
          2007,
          2007,
          2007,
          2007,
          2007,
          2008,
          2008,
          2008,
          2008,
          2008,
          2008,
          2008,
          2008,
          2008,
          2008,
          2008,
          2008,
          2008,
          2008,
          2008,
          2008,
          2008,
          2008,
          2008,
          2008,
          2008,
          2008,
          2008,
          2008,
          2008,
          2008,
          2008,
          2008,
          2008,
          2008,
          2008,
          2008,
          2008,
          2008,
          2008,
          2008,
          2008,
          2008,
          2008,
          2008,
          2008,
          2008,
          2008,
          2009,
          2009,
          2009,
          2009,
          2009,
          2009,
          2009,
          2009,
          2009,
          2009,
          2009,
          2009,
          2009,
          2009,
          2009,
          2009,
          2009,
          2009,
          2009,
          2009,
          2009,
          2009,
          2009,
          2009,
          2009,
          2009,
          2009,
          2009,
          2009,
          2009,
          2009,
          2009,
          2009,
          2009,
          2009,
          2009,
          2009,
          2009,
          2009,
          2009,
          2009,
          2009,
          2009,
          2010,
          2010,
          2010,
          2010,
          2010,
          2010,
          2010,
          2010,
          2010,
          2010,
          2010,
          2010,
          2010,
          2010,
          2010,
          2010,
          2010,
          2010,
          2010,
          2010,
          2010,
          2010,
          2010,
          2010,
          2010,
          2010,
          2010,
          2010,
          2010,
          2010,
          2010,
          2010,
          2010,
          2010,
          2010,
          2010,
          2010,
          2010,
          2010,
          2010,
          2010,
          2010,
          2010,
          2011,
          2011,
          2011,
          2011,
          2011,
          2011,
          2011,
          2011,
          2011,
          2011,
          2011,
          2011,
          2011,
          2011,
          2011,
          2011,
          2011,
          2011,
          2011,
          2011,
          2011,
          2011,
          2011,
          2011,
          2011,
          2011,
          2011,
          2011,
          2011,
          2011,
          2011,
          2011,
          2011,
          2011,
          2011,
          2011,
          2011,
          2011,
          2011,
          2011,
          2011,
          2011,
          2011,
          2012,
          2012,
          2012,
          2012,
          2012,
          2012,
          2012,
          2012,
          2012,
          2012,
          2012,
          2012,
          2012,
          2012,
          2012,
          2012,
          2012,
          2012,
          2012,
          2012,
          2012,
          2012,
          2012,
          2012,
          2012,
          2012,
          2012,
          2012,
          2012,
          2012,
          2012,
          2012,
          2012,
          2012,
          2012,
          2012,
          2012,
          2012,
          2012,
          2012,
          2012,
          2012,
          2012,
          2013,
          2013,
          2013,
          2013,
          2013,
          2013,
          2013,
          2013,
          2013,
          2013,
          2013,
          2013,
          2013,
          2013,
          2013,
          2013,
          2013,
          2013,
          2013,
          2013,
          2013,
          2013,
          2013,
          2013,
          2013,
          2013,
          2013,
          2013,
          2013,
          2013,
          2013,
          2013,
          2013,
          2013,
          2013,
          2013,
          2013,
          2013,
          2013,
          2013,
          2013,
          2013,
          2013,
          2014,
          2014,
          2014,
          2014,
          2014,
          2014,
          2014,
          2014,
          2014,
          2014,
          2014,
          2014,
          2014,
          2014,
          2014,
          2014,
          2014,
          2014,
          2014,
          2014,
          2014,
          2014,
          2014,
          2014,
          2014,
          2014,
          2014,
          2014,
          2014,
          2014,
          2014,
          2014,
          2014,
          2014,
          2014,
          2014,
          2014,
          2014,
          2014,
          2014,
          2014,
          2014,
          2014,
          2015,
          2015,
          2015,
          2015,
          2015,
          2015,
          2015,
          2015,
          2015,
          2015,
          2015,
          2015,
          2015,
          2015,
          2015,
          2015,
          2015,
          2015,
          2015,
          2015,
          2015,
          2015,
          2015,
          2015,
          2015,
          2015,
          2015,
          2015,
          2015,
          2015,
          2015,
          2015,
          2015,
          2015,
          2015,
          2015,
          2015,
          2015,
          2015,
          2015,
          2015,
          2015,
          2015,
          2016,
          2016,
          2016,
          2016,
          2016,
          2016,
          2016,
          2016,
          2016,
          2016,
          2016,
          2016,
          2016,
          2016,
          2016,
          2016,
          2016,
          2016,
          2016,
          2016,
          2016,
          2016,
          2016,
          2016,
          2016,
          2016,
          2016,
          2016,
          2016,
          2016,
          2016,
          2016,
          2016,
          2016,
          2016,
          2016,
          2016,
          2016,
          2016,
          2016,
          2016,
          2016,
          2016,
          2017,
          2017,
          2017,
          2017,
          2017,
          2017,
          2017,
          2017,
          2017,
          2017,
          2017,
          2017,
          2017,
          2017,
          2017,
          2017,
          2017,
          2017,
          2017,
          2017,
          2017,
          2017,
          2017,
          2017,
          2017,
          2017,
          2017,
          2017,
          2017,
          2017,
          2017,
          2017,
          2017,
          2017,
          2017,
          2017,
          2017,
          2017,
          2017,
          2017,
          2017,
          2017,
          2017,
          2018,
          2018,
          2018,
          2018,
          2018,
          2018,
          2018,
          2018,
          2018,
          2018,
          2018,
          2018,
          2018,
          2018,
          2018,
          2018,
          2018,
          2018,
          2018,
          2018,
          2018,
          2018,
          2018,
          2018,
          2018,
          2018,
          2018,
          2018,
          2018,
          2018,
          2018,
          2018,
          2018,
          2018,
          2018,
          2018,
          2018,
          2018,
          2018,
          2018,
          2018,
          2018,
          2018,
          2019,
          2019,
          2019,
          2019,
          2019,
          2019,
          2019,
          2019,
          2019,
          2019,
          2019,
          2019,
          2019,
          2019,
          2019,
          2019,
          2019,
          2019,
          2019,
          2019,
          2019,
          2019,
          2019,
          2019,
          2019,
          2019,
          2019,
          2019,
          2019,
          2019,
          2019,
          2019,
          2019,
          2019,
          2019,
          2019,
          2019,
          2019,
          2019,
          2019,
          2019,
          2019,
          2019,
          2020,
          2020,
          2020,
          2020,
          2020,
          2020,
          2020,
          2020,
          2020,
          2020,
          2020,
          2020,
          2020,
          2020,
          2020,
          2020,
          2020,
          2020,
          2020,
          2020,
          2020,
          2020,
          2020,
          2020,
          2020,
          2020,
          2020,
          2020,
          2020,
          2020,
          2020,
          2020,
          2020,
          2020,
          2020,
          2020,
          2020,
          2020,
          2020,
          2020,
          2020,
          2020,
          2020,
          1990,
          1991,
          1992,
          1993,
          1994,
          1995,
          1996,
          1997,
          1998,
          1999,
          2000,
          2001,
          2002,
          2003,
          2004,
          2005,
          2006,
          2007,
          2008,
          2009,
          2010,
          2011,
          2012,
          2013,
          2014,
          2015,
          2016,
          2017,
          2018,
          2019,
          2020
         ],
         "xaxis": "x",
         "y": [
          1.672236087024,
          2.3162134944612003,
          14.101214257364,
          3.9013481450506,
          17.709141274238,
          1.1199421965318,
          2.4708204033423997,
          35.079470895758,
          17.744017167115,
          17.606945623770002,
          51.177361890331,
          2.4373156688153,
          99.792364257107,
          40.366334740976,
          8.4299431213449,
          15.338141037488,
          3.5882677731859,
          11.80292942743,
          62.387379913388,
          11.963166834491998,
          35.819578939115,
          94.50051835329701,
          53.837361201829005,
          76.384190114696,
          24.693319060404,
          62.343857992954,
          20.407939890675003,
          24.765260648772003,
          20.917133498638,
          12.353891759593001,
          17.331421619743,
          6.0377143616365005,
          9.0804279141954,
          11.264034770011001,
          10.082635031835,
          80.008678403174,
          0.78297181301473,
          23.504354411208,
          32.585604991458,
          1.7048784279956002,
          10.292375892525001,
          0,
          0,
          1.7877001779358999,
          2.179156753899,
          13.971309721109,
          3.8520552819132994,
          22.048003750857,
          1.2569907506991,
          2.5936428285107995,
          33.446036422066996,
          25.681742161506,
          18.524271346139997,
          44.461857852316,
          2.120325203252,
          99.801817870623,
          37.848155894167,
          8.3736509117975,
          15.694140313791001,
          4.279414244858899,
          11.134496446043999,
          61.418835484455,
          11.328147894891,
          30.797935541363,
          94.62575252691201,
          70.973398126346,
          75.682616923493,
          22.388930371477,
          70.325402213556,
          18.471130787678,
          23.066420418727002,
          20.557043385110003,
          13.109925778172,
          16.601385959626,
          4.3999303257272,
          5.555611570997901,
          9.1401813290824,
          10.758968995906,
          77.190137249602,
          1.5807930941461998,
          22.349647823730997,
          41.864897296534,
          2.2481522849877997,
          11.003337179927001,
          0,
          0,
          1.9826929733471998,
          2.7625520719141,
          16.115555421352,
          4.3784769382477,
          21.813095017105,
          1.2879091862226,
          2.7728813559322,
          19.828503057697002,
          21.592397822677,
          13.623820264362,
          52.505376711160004,
          2.5236494799762004,
          99.817876990375,
          39.626087731282,
          8.302197071377599,
          17.046556596757,
          3.2036558901332004,
          12.337215925831002,
          61.687388304925,
          10.477562426526001,
          35.176506228059004,
          94.41943971009199,
          82.694629521978,
          68.66500728509,
          25.65555756262,
          70.09341637010701,
          17.584683670371,
          21.025904524953,
          23.838315708332,
          11.273940688518,
          14.874313585047,
          3.8559086946183996,
          7.915284753150799,
          7.424077901152401,
          10.303049296437,
          72.572800778163,
          1.0229258764264002,
          21.235605762074,
          40.845355264931996,
          1.2404069248617,
          13.876754615877,
          0,
          0,
          1.7971595561454,
          2.9839846469999,
          14.792249744556,
          4.6190592008756,
          21.669464367465,
          1.4346997757876998,
          2.7168757049908,
          30.936358392617002,
          23.017160573942,
          16.892003928521,
          53.106740185993004,
          2.214470972015,
          99.80434112916001,
          46.180630825927,
          9.850989101802599,
          18.225629242295998,
          4.8876497351090995,
          14.970803068220999,
          61.730311069692,
          11.002849370323998,
          39.198448610213,
          95.25470679747299,
          81.664791901012,
          73.253974428797,
          25.396357418204,
          68.42985212302901,
          18.125260168487998,
          19.801194070051,
          19.775330396476,
          12.919675842642,
          14.027461930395,
          4.1494606875026,
          5.8330801614513,
          5.8400492059236,
          10.775435380385002,
          77.021152443472,
          1.7091947901031002,
          21.936982174241,
          38.414339882799,
          0.8534337687314699,
          12.890399454096999,
          0,
          0,
          1.9922692195791,
          3.5720977770207,
          17.453886610131,
          5.1757502456724005,
          22.135514401694003,
          1.5751186347302,
          2.8349353882982005,
          37.241093620547,
          23.661491584446,
          18.542133911636,
          43.169314869314,
          2.5783568717897003,
          99.64624722114401,
          39.218089656669,
          13.824419778002,
          20.101516815578,
          6.0747479327032,
          14.970711297070999,
          60.408360082334006,
          10.308613807369,
          42.305817106987,
          95.40533992716499,
          74.265142224156,
          78.492598227438,
          19.021824088737,
          72.00685191165499,
          18.088435703936,
          21.504514737077,
          15.656762334982,
          9.093208170798599,
          16.685421994885,
          2.5080114484208997,
          7.1303636188581,
          6.343341247875,
          10.352137487086999,
          82.055549179387,
          0.78386929215658,
          22.251744280383,
          35.812246474792,
          1.4260553690351998,
          9.092796599819199,
          0,
          0,
          2.096548758198,
          4.402846483803599,
          15.887341838737,
          5.6584599578620995,
          18.875808007818,
          1.7312336734191,
          2.8193027639095,
          28.561551179919,
          28.166233590928996,
          15.48267400802,
          47.599274693126,
          2.5215467562365,
          99.66477000625,
          41.565503727666,
          12.497562292795,
          20.519239512248,
          5.2314733684503,
          13.040271426463999,
          61.011826121732,
          11.3922393313,
          40.35962548935,
          94.157495800088,
          72.405180718593,
          76.404625901302,
          23.650228574431,
          70.051466383465,
          19.214139301567,
          17.489655832197002,
          16.463095298431,
          10.658555670545,
          13.686155470503,
          3.1165525381138997,
          6.670172407317,
          8.742179988262201,
          9.8089039553243,
          83.855134355675,
          0.92150496562261,
          21.948076923077,
          34.684997162137,
          0.96595322921968,
          8.5760346430379,
          0,
          0,
          2.0000262815543004,
          4.194095584916799,
          14.163085948913,
          5.6236180434015,
          20.970163603114,
          2.1258911534364,
          2.8238564533816004,
          46.024159207439006,
          25.680521597392,
          24.268739359964,
          38.416914305214,
          2.0637331881698997,
          99.500876324011,
          42.941325293584,
          12.417426064568998,
          18.225342104362,
          4.827145246084401,
          14.366234395297,
          63.113220717576,
          12.201313998121,
          33.278392478358,
          93.56113403689899,
          60.452933328995,
          82.99202066325401,
          24.664692341351,
          71.237498015558,
          17.552210619862002,
          15.994706135571,
          15.530683361881001,
          10.185678964464001,
          10.088299362066,
          2.7300347644876,
          6.3706740488719,
          9.129360432759698,
          9.394813004651,
          79.066706879061,
          0.6162413840325001,
          20.955749002539,
          33.860740011082,
          1.7841916357651002,
          8.134966489484599,
          0,
          0,
          1.9788667182525,
          3.9846434874145,
          13.916635299245,
          4.8236437411387,
          20.342144087039,
          2.33119900141,
          2.7922123397997005,
          41.808933582788,
          30.657240848323998,
          20.076469784981,
          48.292450870692996,
          2.4045673090633,
          99.581754838479,
          38.910509603470004,
          12.498076923076999,
          18.893772208715,
          5.6358917315536,
          12.543970122031,
          62.358225657169,
          11.591928881735,
          39.286650569162,
          92.97783636706,
          62.134726852269004,
          71.64443448043899,
          19.957251944857,
          73.359380003843,
          17.512466017776,
          16.251331020506,
          10.339421389041,
          11.085157972149998,
          6.691083737884999,
          2.4409890344631,
          6.6617049977739,
          8.0932357925901,
          9.7557109200335,
          70.093508313347,
          0.32701111837802,
          20.515848565756,
          34.702488056090004,
          2.3036479972619,
          7.087403467498599,
          0,
          0,
          2.2444489859707,
          3.7949993856738997,
          13.452029823422,
          5.197764889206,
          20.254426481909,
          2.555012895791,
          3.1872203040850002,
          36.486763800534,
          35.311051293555,
          19.82982952217,
          49.195685980696,
          2.8323449213268,
          99.61797483932699,
          38.334744465061,
          12.495676060636999,
          19.285795458667,
          9.2106329055329,
          12.611298574072,
          60.413877812589,
          10.221775862037,
          36.284593505251,
          92.923343734848,
          48.17088625418899,
          69.74630821658499,
          17.586558715113,
          71.59649946849301,
          18.061156316916,
          16.930522714695,
          15.765396345370002,
          11.252167234899002,
          7.996903361828999,
          2.8285044219763,
          6.85720588776,
          6.105361346777401,
          8.5980887448879,
          75.648081678232,
          0.85114806017419,
          19.410475494711,
          38.217192773476,
          2.0674476808165,
          6.804299079873201,
          0,
          0,
          2.3641053553257003,
          4.471821188982,
          15.209982388942,
          5.837138234765401,
          21.729081895756998,
          2.8909132841328002,
          3.1513846673421,
          20.779910827730998,
          36.067836718596,
          14.321454810874,
          48.281673769856994,
          3.4002259936113,
          99.56240781635799,
          29.9828237719,
          12.910017263884999,
          19.076582378703,
          8.4260980711132,
          15.558396332458999,
          61.191145588682005,
          9.626331424255099,
          27.208113027649997,
          90.036926827519,
          38.030737171138,
          79.860819205081,
          20.907524411258,
          75.164655247262,
          16.681465925010002,
          15.496787088058,
          14.123261362974999,
          10.455625196760002,
          11.535572486318,
          2.5953356378656,
          5.7023832704915,
          4.8889925476738,
          8.7054567202812,
          69.522449627162,
          0.7581699346405201,
          21.436601211767,
          38.212443284231,
          1.7304395799263002,
          4.4409135695074005,
          0,
          0,
          2.7174689330096,
          3.8643726349603997,
          13.736725721080001,
          6.886736982323999,
          20.813903890225998,
          3.3158540667186998,
          2.9906876790831,
          30.298875788319002,
          28.455347171409997,
          16.947181780922,
          57.25703192763601,
          3.358536501277,
          99.71604817389601,
          24.938761787355,
          14.673447120256,
          18.849784566729998,
          6.682026305812401,
          7.5284879006444,
          60.607521458395006,
          8.8126164819365,
          32.880868373149,
          89.49270585537799,
          48.54783172813,
          75.52804247524999,
          19.804059803087,
          73.748402153135,
          16.639498192129,
          13.773853765100998,
          15.956067506027,
          10.344666122252999,
          10.058479532164,
          1.968455085032,
          5.3540605851385,
          6.811006803713401,
          8.53851130223,
          71.501006446353,
          0.19575146813601002,
          17.703441127163998,
          38.215522509676,
          2.0131010585276004,
          3.0490266347017,
          0,
          0,
          2.8538855689604996,
          4.0055193108899,
          14.918566775244,
          7.2330433181107,
          22.029038489798,
          3.525404909089,
          3.212559059444,
          34.578253671332,
          27.703931979356,
          22.145350709214,
          51.56821373989101,
          3.1110475843967005,
          99.522520305193,
          19.837848849053,
          14.21284978103,
          19.743089744683,
          7.062992854334801,
          9.082758189286698,
          58.040553254754,
          7.422489339139201,
          41.552232846019,
          84.287445054611,
          54.261597423056,
          74.341741852329,
          17.105632091519002,
          67.067987882688,
          18.958519165751,
          13.37318201851,
          17.474865190511,
          10.234691001607,
          9.9290979686005,
          1.9549263887728,
          5.497252166561,
          6.6363991407928005,
          8.2498274979411,
          63.556645017816,
          0.23955837933548998,
          18.432554453543002,
          38.21627215108,
          2.0080913850547,
          3.9255293819461,
          0,
          0,
          2.7635282506184,
          4.3891130088542,
          12.456534493367,
          8.3888705185327,
          19.650794318485,
          4.1403596507679,
          3.0487212577883,
          22.100765610428,
          29.321275235224,
          15.601487644468,
          48.509217296486995,
          3.5581941241636,
          99.58456065185,
          26.248840803709,
          15.237736107778002,
          18.441800322007,
          5.647138729321799,
          12.195072575258,
          59.893824561053,
          9.2038251150299,
          43.140476331186,
          85.738173002653,
          55.450985780037,
          76.507281122358,
          15.055837889112,
          64.81513739494001,
          17.618627899047,
          12.343529980193999,
          14.953288300359,
          9.919246487807401,
          7.1448773720858005,
          1.660831259303,
          3.8234792809232,
          7.484428462660401,
          7.932587726044299,
          69.47917692232,
          0.19171908109381,
          14.646260791568999,
          38.217683917382004,
          2.1094865691942,
          5.752014800008499,
          0,
          0,
          2.671629445823,
          2.7515109279441,
          12.065507136947,
          8.411242564701901,
          18.535481565919,
          4.0922142576794,
          2.5535675422572,
          38.491419789977,
          24.05150525934,
          22.698365208319,
          43.40689767198,
          3.3531057413647996,
          99.40245914629,
          25.2943143099,
          13.504838255097,
          17.253892343657,
          5.2234420048791,
          16.759673382299,
          58.923298957183,
          9.4946204631135,
          37.811156001564,
          87.163603127856,
          50.156954024216006,
          78.79132919414799,
          12.125714914676001,
          65.83572609414401,
          15.037040332225,
          13.673721713891,
          13.638536300388,
          11.290072774595,
          6.4433088225924005,
          2.0637789983545,
          4.0226793424704,
          7.224981407554901,
          8.5302669359879,
          66.005839487695,
          0.8337003712326201,
          14.064486305328,
          36.900515259612,
          1.6851030401872,
          7.2297534410377,
          0,
          0,
          3.2542064150018,
          3.8940865378915,
          12.069247840794999,
          10.30160063035,
          20.254362166099998,
          5.243345782204,
          3.1240472499172998,
          27.917082363374,
          29.234145737093,
          19.106348781141,
          44.972913838326996,
          4.2611956022309,
          99.353625572923,
          30.730998420682003,
          12.035252819479,
          19.12669753666,
          6.5440671918316,
          12.273888810639999,
          58.45400482686,
          9.2161981155757,
          31.333579313715,
          86.032112282006,
          46.900874863303,
          81.653460966094,
          14.448424340125001,
          71.104594528777,
          16.223266418637,
          14.685456458461001,
          13.606517813304,
          10.988757582912,
          7.0864323562296,
          1.6788804928265,
          3.8439260222116,
          5.8237291910249995,
          8.2754756297224,
          72.267135325132,
          0.74976849777459,
          12.998153979802,
          33.40061791967,
          2.0065002759551,
          6.394756706886,
          0,
          0,
          3.9322033898304998,
          4.5762793964494,
          10.619863834101,
          11.262947069075999,
          18.20842937109,
          7.450737067542,
          3.4561859611561,
          18.565754159957,
          34.021173817178,
          15.948504508915999,
          51.315681509766996,
          4.9874986193254,
          99.474671941685,
          24.54246832473,
          11.578993912774001,
          18.367912234572998,
          6.7415549165569,
          18.728626875066,
          59.842778440027,
          9.120923032213401,
          33.290472633758,
          87.124627511891,
          53.883088179255,
          80.172413793103,
          15.197313851847,
          73.283420633113,
          16.175024975345,
          16.826368362259,
          13.605532859193001,
          9.6552980496771,
          6.280164019692,
          1.4299288630936,
          4.3355478800268,
          5.5447551759874,
          8.924557183468199,
          64.352834192179,
          1.5281678506526002,
          12.140951329468999,
          33.000552274948,
          1.8356864634455001,
          9.080342302681801,
          0,
          0,
          4.930095658572499,
          5.0106091677434,
          11.789969906239998,
          12.383887869973,
          18.16682690165,
          8.1461469969241,
          3.2576572566185997,
          33.007075712159,
          29.283697784583,
          18.70934348494,
          49.646482958666,
          5.527294145483201,
          99.31815564804,
          25.253688336292,
          10.840531978731999,
          17.653651257188002,
          6.7581613498741,
          9.5193729366253,
          59.542796995045,
          9.789480219055301,
          34.416099573358004,
          86.747651650105,
          55.254880694143,
          80.603287956557,
          15.334248764556,
          73.898317364293,
          15.592783415226,
          17.781735492991,
          12.258777203319,
          10.663186805286,
          7.1724368251141,
          1.427896074709,
          4.3195095441886,
          6.917155583745401,
          9.3394322037538,
          64.721454880295,
          0.57720821859775,
          11.733257081460001,
          27.100822154910997,
          2.4263390570454,
          9.5447421139494,
          0,
          0,
          5.381549616086099,
          4.3583754733667,
          12.560024430996,
          15.012504833539,
          17.006120036829,
          7.2106424251645,
          3.7760122499184,
          35.077137959495,
          25.949767321194,
          20.161018032577,
          52.058795879722005,
          5.934027165284901,
          99.141349349816,
          19.031833700497998,
          10.667380349356,
          17.677747103660003,
          5.3936030899206,
          9.520311766746199,
          60.279920705056,
          8.9139120257499,
          28.714606543661,
          88.21467964515101,
          44.155599993163,
          81.536066048667,
          14.090496134142,
          72.722258217031,
          15.263347136776,
          18.119267462569002,
          12.903883898108,
          9.349433296026,
          6.656343574387799,
          1.3966245120707,
          4.413976153106599,
          6.913891949950499,
          8.7149454878947,
          65.505982281487,
          0.56580627394036,
          13.059322778892,
          27.099834624423,
          1.5849460488312,
          8.887864853470301,
          0,
          0,
          6.787943011892099,
          4.8812270613411,
          13.687529082078,
          15.64343650629,
          19.981449624136,
          8.861759892889,
          4.6379704452529005,
          32.933832166007,
          26.516411109057998,
          20.692062035072,
          54.352897266026,
          6.668740791784401,
          99.40689771624001,
          17.347720468909,
          9.287039227159,
          16.071547003543998,
          6.1380370328061,
          8.9370345294516,
          61.369300110231,
          9.5301768827458,
          26.720906772084998,
          84.266423649278,
          45.749028540801,
          84.012869782822,
          17.543025824778,
          72.793951230961,
          17.737444064854,
          16.827521424955002,
          13.315832473915998,
          9.539913558970301,
          7.628756352184499,
          1.5386545228917,
          4.2875088982872995,
          6.597886397243401,
          8.1711694302712,
          64.274958934112,
          0.6643816320781301,
          13.273131165260999,
          27.100900047371002,
          1.6736936246327,
          2.4234372814991,
          0,
          0,
          7.5278127911437,
          6.3357060290807,
          13.925455987312,
          17.031731741298,
          25.136686714051,
          9.5321447105701,
          6.1145531241760995,
          37.875196685721,
          27.279622160168,
          26.077998778087,
          58.459794492997,
          7.678709828111599,
          96.591107434755,
          19.578362729195,
          8.7396772964045,
          17.804693643017,
          6.9796508446656,
          12.939344949404,
          63.005422280644,
          10.780630889293,
          29.602445483375,
          88.99577577496001,
          48.827443101347,
          72.88123731541701,
          12.947380608247002,
          71.886603110888,
          17.863798198738,
          15.824244251160001,
          13.233061604603,
          9.7421700049336,
          7.0058532968975,
          1.6534507947125,
          4.164132946470501,
          6.897179131231701,
          7.5229084227239005,
          71.711010863561,
          0.7530639366048101,
          11.145796833689001,
          22.900338777368002,
          1.8007910016549,
          3.3699236572255,
          0,
          0,
          8.2467512002437,
          7.5585253134349,
          14.581020502804,
          17.623831185241002,
          26.569203877324,
          9.3880220342252,
          7.266407454156799,
          53.155851358846,
          33.880516243297,
          33.490533186083,
          55.328244069257,
          7.677107134537799,
          95.749757360078,
          26.377788720124002,
          9.706458872782699,
          16.275252160342,
          7.0916389518504,
          15.761423761424,
          61.280544427052,
          10.614398311724,
          27.84906558743,
          84.724233875268,
          40.202534996855995,
          70.700489864586,
          16.602791629467,
          67.490572837466,
          18.831471440185002,
          16.335880525113,
          15.854024918264999,
          10.151174439469,
          5.9926594329492,
          1.7969682167253,
          4.0909827432553,
          5.6098845300335,
          8.615496653618901,
          73.181767524797,
          0.36070399469309,
          10.047957710019,
          24.401822288579996,
          2.0928270692332,
          4.1633935585232,
          0,
          0.0016661737569300002,
          10.642612559701,
          9.0869600009145,
          12.41026606754,
          21.18302526573,
          28.057518292561998,
          10.812470933038002,
          8.2954239733901,
          47.061738749214,
          26.573123101403,
          30.572713010512,
          55.988830158572,
          10.358874298883,
          96.578301539137,
          25.326840836468,
          9.104243180190801,
          15.94383583073,
          5.7451217760634,
          10.800318157715001,
          62.483975876985,
          12.686393699636,
          25.582598489645,
          87.158608161247,
          39.596426886613,
          81.891713702221,
          14.888571060515002,
          70.930715563355,
          16.954167100495997,
          17.516136337901003,
          11.992890517237,
          10.942944035206,
          6.720141085835,
          2.0470641293671,
          4.0936554093457005,
          8.047900199370499,
          10.39555590576,
          76.09601224921799,
          0.90019007997705,
          10.19278965309,
          21.761485536732,
          2.0564642070862,
          5.1226400946462,
          0,
          0.0019993442150970002,
          14.181831337506,
          10.062000960901,
          15.739990500405,
          23.736221061444002,
          31.476525092139,
          12.087954666538,
          10.674174627943,
          43.782044406307,
          25.737996443390998,
          30.440685712749,
          59.098468428984006,
          12.151292050379,
          97.98256841591999,
          27.230517419915,
          8.2312507407048,
          15.675788757992,
          5.9076418708957,
          12.55330389826,
          63.64487785121899,
          12.412962108394,
          23.462787928677002,
          82.522112684212,
          36.445355622142,
          78.059144777223,
          13.788131290116999,
          67.420513284081,
          20.115497557591,
          16.049068197618002,
          11.236814477828,
          10.530616702005,
          7.3834842723302,
          2.0156448155505,
          4.812825683311,
          8.2776250885131,
          10.529587814976999,
          71.80976050609999,
          1.0008045052293002,
          9.6569614681836,
          19.772339610819,
          1.7831179556371999,
          4.985527537007,
          0,
          0.008312782288232,
          15.569902261403,
          11.751981866924,
          17.938808041665002,
          24.756967657793002,
          39.305468812002,
          11.911837055987,
          10.709077652206,
          59.237899870338,
          34.812437380067,
          40.468996712542,
          54.074011203531,
          15.663010410560998,
          97.690793006743,
          28.823171798096,
          7.504486588737401,
          17.292171029523,
          8.1192733708206,
          10.443634765732,
          64.066474581683,
          13.028580212899001,
          25.578810758099998,
          76.753551929791,
          35.666871963320006,
          69.42338617045701,
          13.299543262277998,
          67.854099890453,
          20.452496462892,
          17.59162993474,
          12.270160170355,
          11.314306206577001,
          8.5776447798306,
          2.377877327508,
          4.9334690756975,
          8.1329195758986,
          13.176404539439002,
          74.21219337387,
          0.5095502061362199,
          9.634553658044302,
          18.501989275212,
          1.7135738637028999,
          5.7077207983722005,
          0.006559312584041,
          0.012907154535045,
          18.497921427195,
          11.867948182197999,
          17.425128991578,
          26.820865044296998,
          43.737737959525006,
          11.2706444653,
          12.821657372421999,
          61.367725318637,
          42.027529082161,
          40.921973094170006,
          55.869012058856,
          19.936705116829,
          97.668521518631,
          20.887590638308,
          8.7859743366453,
          16.715169135328,
          6.022382916343,
          10.894320606854,
          63.151942583209,
          13.37929407417,
          25.086595081399,
          73.199571320458,
          42.894294234873,
          69.360648356596,
          17.543516331892,
          62.30000096793199,
          22.789039161323,
          16.35142863359,
          11.475100493250999,
          12.829219741893,
          9.7078029958839,
          2.4723469598899,
          4.3987401405228,
          8.3589246425441,
          14.627138302129,
          79.137764711287,
          0.35880267265613,
          9.663250366032198,
          16.643413015843,
          2.5544584247242,
          5.1953868955497,
          0.010746085354621,
          0.012482984503266,
          22.360186179735,
          12.752109855529001,
          16.701205613427,
          30.033055225208997,
          38.989303622350995,
          12.398079362203,
          14.117518673004,
          48.666539488745,
          40.086883069868,
          35.710954715194,
          63.303765298066,
          25.561664570885,
          97.69969421499,
          31.957002555552002,
          10.381482975545,
          16.007209070539,
          5.301132684107,
          12.260649368669,
          64.032349257688,
          13.632808057336,
          23.817610538547,
          74.077627172261,
          43.604334964913996,
          63.636826301593,
          15.278135379386999,
          61.056686129366,
          24.126194744787,
          15.337735115260001,
          10.651155634573,
          14.734020497815001,
          9.9571684552001,
          2.5858653113731,
          4.5957555592568,
          7.8792892434613,
          13.34208380566,
          80.080951519537,
          0.29449219993633,
          9.1253102813796,
          17.708525984834,
          3.4996294886944,
          5.104887878474701,
          0.013179475164011002,
          0.03593034526555,
          18.029902229266,
          12.706910417842,
          18.408533386271,
          30.019263616363002,
          37.908947847934,
          12.825920911015999,
          13.976055450536,
          55.52387740556,
          42.205428321276,
          39.342436638377,
          57.205307352093,
          25.503677552221,
          97.80196186309901,
          32.887160724177,
          12.710414598602,
          17.207391933623,
          6.6140861502191,
          12.380035144633998,
          64.801117190513,
          15.259444734173998,
          21.747045238419,
          80.398832936884,
          43.273061986180004,
          65.908854166667,
          15.3317278297,
          58.377862772153996,
          25.259477896875,
          17.079362144163,
          12.56695708293,
          14.783339972558,
          13.46163666539,
          3.4964264321378,
          5.435815504832701,
          13.491581091312002,
          14.596025147818999,
          84.235697940503,
          0.42841384264128995,
          8.8182028468747,
          24.349431310665,
          4.3743348091174,
          5.7763218883823,
          0.075622458443319,
          0.035088387375797,
          19.585597317215,
          12.396635580565,
          17.395432604489997,
          34.009511673905,
          35.737962366501996,
          14.869535126048,
          14.429002557658,
          40.90052179374,
          38.32397305967,
          32.884820437681,
          57.889193302892,
          30.252904256167998,
          97.822451164035,
          29.344779526622,
          11.349018511974,
          17.211907560657,
          7.9797174490949,
          13.743840833306,
          66.54368510284,
          17.285418486326,
          23.478517390253,
          79.17373983893,
          43.915750664376,
          79.31299836409,
          15.990574520361,
          58.379585915626,
          25.555850468986,
          17.482345989962003,
          12.541978474251001,
          16.498198143243002,
          16.865382590863,
          4.0233007373213,
          5.201509732647099,
          14.192308114145998,
          15.678935272209001,
          81.118622997342,
          0.7605610185528999,
          8.4318590959957,
          22.572096050627998,
          5.7092529144461,
          5.0222274344471,
          0.091792603176348,
          0.041051406199471,
          24.190953810261,
          11.90010948516,
          20.397715033161,
          35.906517672924,
          40.085474833244,
          16.497422250882998,
          12.958519081638,
          51.373214816044,
          41.043670320873,
          38.751402795389,
          55.80966952264399,
          33.983864018729996,
          97.753679206565,
          32.07589097448,
          10.447242712674,
          17.440514920049,
          9.135342014653501,
          9.376209872266699,
          66.260950887761,
          17.16288285911,
          24.147252565126,
          82.281622159206,
          46.256910719395,
          76.85381128139599,
          16.298800841165,
          58.380531804743,
          25.979568494534,
          18.935330319957,
          17.316188602377,
          17.422956472495,
          16.571801259993,
          4.5647314449143,
          5.161167135145099,
          16.495852181354998,
          17.100514180185,
          83.375657913979,
          0.92810999822201,
          8.1424497651063,
          17.879148466879002,
          6.5783979791195,
          5.271645136757201,
          0.11292525268883001,
          0.041066640938853,
          21.135083455014,
          12.890390664628999,
          20.563532663229,
          40.488167766315996,
          39.931160461903,
          18.022514331725,
          14.478154486797,
          54.122772517167995,
          41.827141576196,
          37.6336344753,
          58.511528995841,
          37.823471476071,
          97.671282034128,
          43.48071513638,
          10.963060369491998,
          17.940452287526,
          7.1233086993454,
          10.266729037298,
          65.98415062438,
          17.852746533709,
          24.015061282231002,
          82.22933148197,
          46.004865389561004,
          72.584326810271,
          17.022347258573998,
          58.377039864925,
          27.024647673079,
          21.11007278832,
          16.520368083452002,
          18.323905323459,
          16.044310047733,
          5.3431683894618,
          6.0703394556256995,
          16.437318679985,
          19.703368558052002,
          81.681178925273,
          0.92756329557624,
          8.960107048345801,
          20.396016346981,
          6.8480624623236,
          9.8771044199222,
          0.21320384144870003,
          0.19861322497786998,
          27.194533271056,
          14.263439047704999,
          24.302698762079,
          44.53262232197601,
          42.014583739871,
          24.781192221033002,
          16.670806746775,
          59.700641340066994,
          44.169258722753,
          43.915442608487,
          68.402780714788,
          43.737474667145996,
          98.370864234144,
          41.598508945881,
          11.650856803843,
          20.301107014232,
          8.3595361574107,
          10.266729037298,
          67.723029739149,
          19.795980084966,
          22.791098056453,
          84.100644601309,
          48.17795827209601,
          64.763118470805,
          20.479458208703,
          60.94418356626701,
          28.395620928827,
          22.519753594426998,
          18.313618562045,
          20.226474713559,
          17.150131502301,
          7.0737981632902,
          5.9582897107611,
          15.449487789863,
          22.975369031038,
          80.029880218348,
          0.97402448367458,
          10.152480865198,
          19.211438443633998,
          7.560695953696199,
          6.936673600425401,
          0.27176739196532,
          0.20075892181662,
          null,
          null,
          null,
          null,
          null,
          null,
          null,
          null,
          null,
          null,
          null,
          null,
          null,
          null,
          null,
          null,
          null,
          null,
          null,
          null,
          null,
          null,
          null,
          null,
          null,
          null,
          null,
          null,
          null,
          null,
          null
         ],
         "yaxis": "y"
        }
       ],
       "layout": {
        "barmode": "relative",
        "legend": {
         "tracegroupgap": 0
        },
        "margin": {
         "t": 60
        },
        "template": {
         "data": {
          "bar": [
           {
            "error_x": {
             "color": "#2a3f5f"
            },
            "error_y": {
             "color": "#2a3f5f"
            },
            "marker": {
             "line": {
              "color": "#E5ECF6",
              "width": 0.5
             },
             "pattern": {
              "fillmode": "overlay",
              "size": 10,
              "solidity": 0.2
             }
            },
            "type": "bar"
           }
          ],
          "barpolar": [
           {
            "marker": {
             "line": {
              "color": "#E5ECF6",
              "width": 0.5
             },
             "pattern": {
              "fillmode": "overlay",
              "size": 10,
              "solidity": 0.2
             }
            },
            "type": "barpolar"
           }
          ],
          "carpet": [
           {
            "aaxis": {
             "endlinecolor": "#2a3f5f",
             "gridcolor": "white",
             "linecolor": "white",
             "minorgridcolor": "white",
             "startlinecolor": "#2a3f5f"
            },
            "baxis": {
             "endlinecolor": "#2a3f5f",
             "gridcolor": "white",
             "linecolor": "white",
             "minorgridcolor": "white",
             "startlinecolor": "#2a3f5f"
            },
            "type": "carpet"
           }
          ],
          "choropleth": [
           {
            "colorbar": {
             "outlinewidth": 0,
             "ticks": ""
            },
            "type": "choropleth"
           }
          ],
          "contour": [
           {
            "colorbar": {
             "outlinewidth": 0,
             "ticks": ""
            },
            "colorscale": [
             [
              0,
              "#0d0887"
             ],
             [
              0.1111111111111111,
              "#46039f"
             ],
             [
              0.2222222222222222,
              "#7201a8"
             ],
             [
              0.3333333333333333,
              "#9c179e"
             ],
             [
              0.4444444444444444,
              "#bd3786"
             ],
             [
              0.5555555555555556,
              "#d8576b"
             ],
             [
              0.6666666666666666,
              "#ed7953"
             ],
             [
              0.7777777777777778,
              "#fb9f3a"
             ],
             [
              0.8888888888888888,
              "#fdca26"
             ],
             [
              1,
              "#f0f921"
             ]
            ],
            "type": "contour"
           }
          ],
          "contourcarpet": [
           {
            "colorbar": {
             "outlinewidth": 0,
             "ticks": ""
            },
            "type": "contourcarpet"
           }
          ],
          "heatmap": [
           {
            "colorbar": {
             "outlinewidth": 0,
             "ticks": ""
            },
            "colorscale": [
             [
              0,
              "#0d0887"
             ],
             [
              0.1111111111111111,
              "#46039f"
             ],
             [
              0.2222222222222222,
              "#7201a8"
             ],
             [
              0.3333333333333333,
              "#9c179e"
             ],
             [
              0.4444444444444444,
              "#bd3786"
             ],
             [
              0.5555555555555556,
              "#d8576b"
             ],
             [
              0.6666666666666666,
              "#ed7953"
             ],
             [
              0.7777777777777778,
              "#fb9f3a"
             ],
             [
              0.8888888888888888,
              "#fdca26"
             ],
             [
              1,
              "#f0f921"
             ]
            ],
            "type": "heatmap"
           }
          ],
          "heatmapgl": [
           {
            "colorbar": {
             "outlinewidth": 0,
             "ticks": ""
            },
            "colorscale": [
             [
              0,
              "#0d0887"
             ],
             [
              0.1111111111111111,
              "#46039f"
             ],
             [
              0.2222222222222222,
              "#7201a8"
             ],
             [
              0.3333333333333333,
              "#9c179e"
             ],
             [
              0.4444444444444444,
              "#bd3786"
             ],
             [
              0.5555555555555556,
              "#d8576b"
             ],
             [
              0.6666666666666666,
              "#ed7953"
             ],
             [
              0.7777777777777778,
              "#fb9f3a"
             ],
             [
              0.8888888888888888,
              "#fdca26"
             ],
             [
              1,
              "#f0f921"
             ]
            ],
            "type": "heatmapgl"
           }
          ],
          "histogram": [
           {
            "marker": {
             "pattern": {
              "fillmode": "overlay",
              "size": 10,
              "solidity": 0.2
             }
            },
            "type": "histogram"
           }
          ],
          "histogram2d": [
           {
            "colorbar": {
             "outlinewidth": 0,
             "ticks": ""
            },
            "colorscale": [
             [
              0,
              "#0d0887"
             ],
             [
              0.1111111111111111,
              "#46039f"
             ],
             [
              0.2222222222222222,
              "#7201a8"
             ],
             [
              0.3333333333333333,
              "#9c179e"
             ],
             [
              0.4444444444444444,
              "#bd3786"
             ],
             [
              0.5555555555555556,
              "#d8576b"
             ],
             [
              0.6666666666666666,
              "#ed7953"
             ],
             [
              0.7777777777777778,
              "#fb9f3a"
             ],
             [
              0.8888888888888888,
              "#fdca26"
             ],
             [
              1,
              "#f0f921"
             ]
            ],
            "type": "histogram2d"
           }
          ],
          "histogram2dcontour": [
           {
            "colorbar": {
             "outlinewidth": 0,
             "ticks": ""
            },
            "colorscale": [
             [
              0,
              "#0d0887"
             ],
             [
              0.1111111111111111,
              "#46039f"
             ],
             [
              0.2222222222222222,
              "#7201a8"
             ],
             [
              0.3333333333333333,
              "#9c179e"
             ],
             [
              0.4444444444444444,
              "#bd3786"
             ],
             [
              0.5555555555555556,
              "#d8576b"
             ],
             [
              0.6666666666666666,
              "#ed7953"
             ],
             [
              0.7777777777777778,
              "#fb9f3a"
             ],
             [
              0.8888888888888888,
              "#fdca26"
             ],
             [
              1,
              "#f0f921"
             ]
            ],
            "type": "histogram2dcontour"
           }
          ],
          "mesh3d": [
           {
            "colorbar": {
             "outlinewidth": 0,
             "ticks": ""
            },
            "type": "mesh3d"
           }
          ],
          "parcoords": [
           {
            "line": {
             "colorbar": {
              "outlinewidth": 0,
              "ticks": ""
             }
            },
            "type": "parcoords"
           }
          ],
          "pie": [
           {
            "automargin": true,
            "type": "pie"
           }
          ],
          "scatter": [
           {
            "marker": {
             "colorbar": {
              "outlinewidth": 0,
              "ticks": ""
             }
            },
            "type": "scatter"
           }
          ],
          "scatter3d": [
           {
            "line": {
             "colorbar": {
              "outlinewidth": 0,
              "ticks": ""
             }
            },
            "marker": {
             "colorbar": {
              "outlinewidth": 0,
              "ticks": ""
             }
            },
            "type": "scatter3d"
           }
          ],
          "scattercarpet": [
           {
            "marker": {
             "colorbar": {
              "outlinewidth": 0,
              "ticks": ""
             }
            },
            "type": "scattercarpet"
           }
          ],
          "scattergeo": [
           {
            "marker": {
             "colorbar": {
              "outlinewidth": 0,
              "ticks": ""
             }
            },
            "type": "scattergeo"
           }
          ],
          "scattergl": [
           {
            "marker": {
             "colorbar": {
              "outlinewidth": 0,
              "ticks": ""
             }
            },
            "type": "scattergl"
           }
          ],
          "scattermapbox": [
           {
            "marker": {
             "colorbar": {
              "outlinewidth": 0,
              "ticks": ""
             }
            },
            "type": "scattermapbox"
           }
          ],
          "scatterpolar": [
           {
            "marker": {
             "colorbar": {
              "outlinewidth": 0,
              "ticks": ""
             }
            },
            "type": "scatterpolar"
           }
          ],
          "scatterpolargl": [
           {
            "marker": {
             "colorbar": {
              "outlinewidth": 0,
              "ticks": ""
             }
            },
            "type": "scatterpolargl"
           }
          ],
          "scatterternary": [
           {
            "marker": {
             "colorbar": {
              "outlinewidth": 0,
              "ticks": ""
             }
            },
            "type": "scatterternary"
           }
          ],
          "surface": [
           {
            "colorbar": {
             "outlinewidth": 0,
             "ticks": ""
            },
            "colorscale": [
             [
              0,
              "#0d0887"
             ],
             [
              0.1111111111111111,
              "#46039f"
             ],
             [
              0.2222222222222222,
              "#7201a8"
             ],
             [
              0.3333333333333333,
              "#9c179e"
             ],
             [
              0.4444444444444444,
              "#bd3786"
             ],
             [
              0.5555555555555556,
              "#d8576b"
             ],
             [
              0.6666666666666666,
              "#ed7953"
             ],
             [
              0.7777777777777778,
              "#fb9f3a"
             ],
             [
              0.8888888888888888,
              "#fdca26"
             ],
             [
              1,
              "#f0f921"
             ]
            ],
            "type": "surface"
           }
          ],
          "table": [
           {
            "cells": {
             "fill": {
              "color": "#EBF0F8"
             },
             "line": {
              "color": "white"
             }
            },
            "header": {
             "fill": {
              "color": "#C8D4E3"
             },
             "line": {
              "color": "white"
             }
            },
            "type": "table"
           }
          ]
         },
         "layout": {
          "annotationdefaults": {
           "arrowcolor": "#2a3f5f",
           "arrowhead": 0,
           "arrowwidth": 1
          },
          "autotypenumbers": "strict",
          "coloraxis": {
           "colorbar": {
            "outlinewidth": 0,
            "ticks": ""
           }
          },
          "colorscale": {
           "diverging": [
            [
             0,
             "#8e0152"
            ],
            [
             0.1,
             "#c51b7d"
            ],
            [
             0.2,
             "#de77ae"
            ],
            [
             0.3,
             "#f1b6da"
            ],
            [
             0.4,
             "#fde0ef"
            ],
            [
             0.5,
             "#f7f7f7"
            ],
            [
             0.6,
             "#e6f5d0"
            ],
            [
             0.7,
             "#b8e186"
            ],
            [
             0.8,
             "#7fbc41"
            ],
            [
             0.9,
             "#4d9221"
            ],
            [
             1,
             "#276419"
            ]
           ],
           "sequential": [
            [
             0,
             "#0d0887"
            ],
            [
             0.1111111111111111,
             "#46039f"
            ],
            [
             0.2222222222222222,
             "#7201a8"
            ],
            [
             0.3333333333333333,
             "#9c179e"
            ],
            [
             0.4444444444444444,
             "#bd3786"
            ],
            [
             0.5555555555555556,
             "#d8576b"
            ],
            [
             0.6666666666666666,
             "#ed7953"
            ],
            [
             0.7777777777777778,
             "#fb9f3a"
            ],
            [
             0.8888888888888888,
             "#fdca26"
            ],
            [
             1,
             "#f0f921"
            ]
           ],
           "sequentialminus": [
            [
             0,
             "#0d0887"
            ],
            [
             0.1111111111111111,
             "#46039f"
            ],
            [
             0.2222222222222222,
             "#7201a8"
            ],
            [
             0.3333333333333333,
             "#9c179e"
            ],
            [
             0.4444444444444444,
             "#bd3786"
            ],
            [
             0.5555555555555556,
             "#d8576b"
            ],
            [
             0.6666666666666666,
             "#ed7953"
            ],
            [
             0.7777777777777778,
             "#fb9f3a"
            ],
            [
             0.8888888888888888,
             "#fdca26"
            ],
            [
             1,
             "#f0f921"
            ]
           ]
          },
          "colorway": [
           "#636efa",
           "#EF553B",
           "#00cc96",
           "#ab63fa",
           "#FFA15A",
           "#19d3f3",
           "#FF6692",
           "#B6E880",
           "#FF97FF",
           "#FECB52"
          ],
          "font": {
           "color": "#2a3f5f"
          },
          "geo": {
           "bgcolor": "white",
           "lakecolor": "white",
           "landcolor": "#E5ECF6",
           "showlakes": true,
           "showland": true,
           "subunitcolor": "white"
          },
          "hoverlabel": {
           "align": "left"
          },
          "hovermode": "closest",
          "mapbox": {
           "style": "light"
          },
          "paper_bgcolor": "white",
          "plot_bgcolor": "#E5ECF6",
          "polar": {
           "angularaxis": {
            "gridcolor": "white",
            "linecolor": "white",
            "ticks": ""
           },
           "bgcolor": "#E5ECF6",
           "radialaxis": {
            "gridcolor": "white",
            "linecolor": "white",
            "ticks": ""
           }
          },
          "scene": {
           "xaxis": {
            "backgroundcolor": "#E5ECF6",
            "gridcolor": "white",
            "gridwidth": 2,
            "linecolor": "white",
            "showbackground": true,
            "ticks": "",
            "zerolinecolor": "white"
           },
           "yaxis": {
            "backgroundcolor": "#E5ECF6",
            "gridcolor": "white",
            "gridwidth": 2,
            "linecolor": "white",
            "showbackground": true,
            "ticks": "",
            "zerolinecolor": "white"
           },
           "zaxis": {
            "backgroundcolor": "#E5ECF6",
            "gridcolor": "white",
            "gridwidth": 2,
            "linecolor": "white",
            "showbackground": true,
            "ticks": "",
            "zerolinecolor": "white"
           }
          },
          "shapedefaults": {
           "line": {
            "color": "#2a3f5f"
           }
          },
          "ternary": {
           "aaxis": {
            "gridcolor": "white",
            "linecolor": "white",
            "ticks": ""
           },
           "baxis": {
            "gridcolor": "white",
            "linecolor": "white",
            "ticks": ""
           },
           "bgcolor": "#E5ECF6",
           "caxis": {
            "gridcolor": "white",
            "linecolor": "white",
            "ticks": ""
           }
          },
          "title": {
           "x": 0.05
          },
          "xaxis": {
           "automargin": true,
           "gridcolor": "white",
           "linecolor": "white",
           "ticks": "",
           "title": {
            "standoff": 15
           },
           "zerolinecolor": "white",
           "zerolinewidth": 2
          },
          "yaxis": {
           "automargin": true,
           "gridcolor": "white",
           "linecolor": "white",
           "ticks": "",
           "title": {
            "standoff": 15
           },
           "zerolinecolor": "white",
           "zerolinewidth": 2
          }
         }
        },
        "xaxis": {
         "anchor": "y",
         "domain": [
          0,
          1
         ],
         "title": {
          "text": "Year"
         }
        },
        "yaxis": {
         "anchor": "x",
         "domain": [
          0,
          1
         ],
         "title": {
          "text": "Share of renewables in electricity production (%)"
         }
        }
       }
      }
     },
     "metadata": {},
     "output_type": "display_data"
    }
   ],
   "source": [
    "fig"
   ]
  },
  {
   "cell_type": "code",
   "execution_count": 46,
   "metadata": {},
   "outputs": [
    {
     "data": {
      "text/plain": [
       "Year\n",
       "1990    19.070320\n",
       "1991    19.446564\n",
       "1992    18.750333\n",
       "1993    19.939856\n",
       "1994    20.383632\n",
       "1995    19.947887\n",
       "1996    20.727211\n",
       "1997    21.168028\n",
       "1998    21.497065\n",
       "1999    20.371374\n",
       "2000    21.059372\n",
       "2001    21.547561\n",
       "2002    19.840157\n",
       "2003    20.330816\n",
       "2004    20.577132\n",
       "2005    20.595293\n",
       "2006    21.572604\n",
       "2007    21.779912\n",
       "2008    22.484116\n",
       "2009    24.290058\n",
       "2010    26.258844\n",
       "2011    25.954054\n",
       "2012    27.249012\n",
       "2013    30.620176\n",
       "2014    32.198061\n",
       "2015    31.979287\n",
       "2016    32.351980\n",
       "2017    31.445944\n",
       "2018    33.815205\n",
       "2019    34.677506\n",
       "2020    38.714465\n",
       "Name: Share of renewables in electricity production (%), dtype: float64"
      ]
     },
     "execution_count": 46,
     "metadata": {},
     "output_type": "execute_result"
    }
   ],
   "source": [
    "file.loc[file['continent'] == 'Europe'].groupby('Year')['Share of renewables in electricity production (%)'].mean()"
   ]
  },
  {
   "cell_type": "code",
   "execution_count": 67,
   "metadata": {},
   "outputs": [
    {
     "data": {
      "text/html": [
       "<div>\n",
       "<style scoped>\n",
       "    .dataframe tbody tr th:only-of-type {\n",
       "        vertical-align: middle;\n",
       "    }\n",
       "\n",
       "    .dataframe tbody tr th {\n",
       "        vertical-align: top;\n",
       "    }\n",
       "\n",
       "    .dataframe thead th {\n",
       "        text-align: right;\n",
       "    }\n",
       "</style>\n",
       "<table border=\"1\" class=\"dataframe\">\n",
       "  <thead>\n",
       "    <tr style=\"text-align: right;\">\n",
       "      <th></th>\n",
       "      <th>Share of renewables in electricity production (%)</th>\n",
       "      <th>continent</th>\n",
       "      <th>Year</th>\n",
       "    </tr>\n",
       "  </thead>\n",
       "  <tbody>\n",
       "    <tr>\n",
       "      <th>645</th>\n",
       "      <td>3.932203</td>\n",
       "      <td>Europe</td>\n",
       "      <td>2005</td>\n",
       "    </tr>\n",
       "    <tr>\n",
       "      <th>646</th>\n",
       "      <td>4.576279</td>\n",
       "      <td>Europe</td>\n",
       "      <td>2005</td>\n",
       "    </tr>\n",
       "    <tr>\n",
       "      <th>647</th>\n",
       "      <td>10.619864</td>\n",
       "      <td>Europe</td>\n",
       "      <td>2005</td>\n",
       "    </tr>\n",
       "    <tr>\n",
       "      <th>648</th>\n",
       "      <td>11.262947</td>\n",
       "      <td>Europe</td>\n",
       "      <td>2005</td>\n",
       "    </tr>\n",
       "    <tr>\n",
       "      <th>649</th>\n",
       "      <td>18.208429</td>\n",
       "      <td>Europe</td>\n",
       "      <td>2005</td>\n",
       "    </tr>\n",
       "    <tr>\n",
       "      <th>...</th>\n",
       "      <td>...</td>\n",
       "      <td>...</td>\n",
       "      <td>...</td>\n",
       "    </tr>\n",
       "    <tr>\n",
       "      <th>728</th>\n",
       "      <td>9.544742</td>\n",
       "      <td>Asia</td>\n",
       "      <td>2006</td>\n",
       "    </tr>\n",
       "    <tr>\n",
       "      <th>729</th>\n",
       "      <td>0.000000</td>\n",
       "      <td>Asia</td>\n",
       "      <td>2006</td>\n",
       "    </tr>\n",
       "    <tr>\n",
       "      <th>730</th>\n",
       "      <td>0.000000</td>\n",
       "      <td>Asia</td>\n",
       "      <td>2006</td>\n",
       "    </tr>\n",
       "    <tr>\n",
       "      <th>1348</th>\n",
       "      <td>NaN</td>\n",
       "      <td>Asia</td>\n",
       "      <td>2005</td>\n",
       "    </tr>\n",
       "    <tr>\n",
       "      <th>1349</th>\n",
       "      <td>NaN</td>\n",
       "      <td>Asia</td>\n",
       "      <td>2006</td>\n",
       "    </tr>\n",
       "  </tbody>\n",
       "</table>\n",
       "<p>88 rows × 3 columns</p>\n",
       "</div>"
      ],
      "text/plain": [
       "      Share of renewables in electricity production (%) continent  Year\n",
       "645                                            3.932203    Europe  2005\n",
       "646                                            4.576279    Europe  2005\n",
       "647                                           10.619864    Europe  2005\n",
       "648                                           11.262947    Europe  2005\n",
       "649                                           18.208429    Europe  2005\n",
       "...                                                 ...       ...   ...\n",
       "728                                            9.544742      Asia  2006\n",
       "729                                            0.000000      Asia  2006\n",
       "730                                            0.000000      Asia  2006\n",
       "1348                                                NaN      Asia  2005\n",
       "1349                                                NaN      Asia  2006\n",
       "\n",
       "[88 rows x 3 columns]"
      ]
     },
     "execution_count": 67,
     "metadata": {},
     "output_type": "execute_result"
    }
   ],
   "source": [
    "value=[2005, 2006]\n",
    "dff = file.copy()\n",
    "dff = dff[(dff['Year'] >= value[0]) & (dff['Year'] <= value[1])]\n",
    "dff = dff[['Share of renewables in electricity production (%)', 'continent', 'Year']]\n",
    "dff"
   ]
  },
  {
   "cell_type": "code",
   "execution_count": 70,
   "metadata": {},
   "outputs": [
    {
     "data": {
      "text/plain": [
       "array([2005, 2006], dtype=int64)"
      ]
     },
     "execution_count": 70,
     "metadata": {},
     "output_type": "execute_result"
    }
   ],
   "source": []
  },
  {
   "cell_type": "code",
   "execution_count": 77,
   "metadata": {},
   "outputs": [],
   "source": [
    "value=[2005, 2006]\n",
    "dff = file.copy()\n",
    "dff = dff[(dff['Year'] >= value[0]) & (dff['Year'] <= value[1])]\n",
    "dff = dff[['Share of renewables in electricity production (%)', 'continent', 'Year']]\n",
    "\n",
    "\n",
    "fig1 = go.Figure(\n",
    "        data=[\n",
    "            go.Bar(\n",
    "                name=\"Europe\",\n",
    "                x= dff.Year.unique(),\n",
    "                y= dff.loc[file['continent'] == 'Europe'].groupby('Year')['Share of renewables in electricity production (%)'].mean(),\n",
    "                marker_color=\"#004687\",\n",
    "                opacity=0.8,\n",
    "            ),\n",
    "            go.Bar(\n",
    "                name=\"Asia\",\n",
    "                x= dff.Year.unique(),\n",
    "                y=dff.loc[file['continent'] == 'Asia'].groupby('Year')['Share of renewables in electricity production (%)'].mean(),\n",
    "                marker_color=\"#AE8F6F\",\n",
    "                opacity=0.8,\n",
    "            ),\n",
    "        ]\n",
    " )"
   ]
  },
  {
   "cell_type": "code",
   "execution_count": 78,
   "metadata": {},
   "outputs": [
    {
     "data": {
      "application/vnd.plotly.v1+json": {
       "config": {
        "plotlyServerURL": "https://plot.ly"
       },
       "data": [
        {
         "marker": {
          "color": "#004687"
         },
         "name": "Europe",
         "opacity": 0.8,
         "type": "bar",
         "x": [
          2005,
          2006
         ],
         "y": [
          20.595293186480216,
          21.572603739910328
         ]
        },
        {
         "marker": {
          "color": "#AE8F6F"
         },
         "name": "Asia",
         "opacity": 0.8,
         "type": "bar",
         "x": [
          2005,
          2006
         ],
         "y": [
          9.841646542894692,
          9.377986879298415
         ]
        }
       ],
       "layout": {
        "template": {
         "data": {
          "bar": [
           {
            "error_x": {
             "color": "#2a3f5f"
            },
            "error_y": {
             "color": "#2a3f5f"
            },
            "marker": {
             "line": {
              "color": "#E5ECF6",
              "width": 0.5
             },
             "pattern": {
              "fillmode": "overlay",
              "size": 10,
              "solidity": 0.2
             }
            },
            "type": "bar"
           }
          ],
          "barpolar": [
           {
            "marker": {
             "line": {
              "color": "#E5ECF6",
              "width": 0.5
             },
             "pattern": {
              "fillmode": "overlay",
              "size": 10,
              "solidity": 0.2
             }
            },
            "type": "barpolar"
           }
          ],
          "carpet": [
           {
            "aaxis": {
             "endlinecolor": "#2a3f5f",
             "gridcolor": "white",
             "linecolor": "white",
             "minorgridcolor": "white",
             "startlinecolor": "#2a3f5f"
            },
            "baxis": {
             "endlinecolor": "#2a3f5f",
             "gridcolor": "white",
             "linecolor": "white",
             "minorgridcolor": "white",
             "startlinecolor": "#2a3f5f"
            },
            "type": "carpet"
           }
          ],
          "choropleth": [
           {
            "colorbar": {
             "outlinewidth": 0,
             "ticks": ""
            },
            "type": "choropleth"
           }
          ],
          "contour": [
           {
            "colorbar": {
             "outlinewidth": 0,
             "ticks": ""
            },
            "colorscale": [
             [
              0,
              "#0d0887"
             ],
             [
              0.1111111111111111,
              "#46039f"
             ],
             [
              0.2222222222222222,
              "#7201a8"
             ],
             [
              0.3333333333333333,
              "#9c179e"
             ],
             [
              0.4444444444444444,
              "#bd3786"
             ],
             [
              0.5555555555555556,
              "#d8576b"
             ],
             [
              0.6666666666666666,
              "#ed7953"
             ],
             [
              0.7777777777777778,
              "#fb9f3a"
             ],
             [
              0.8888888888888888,
              "#fdca26"
             ],
             [
              1,
              "#f0f921"
             ]
            ],
            "type": "contour"
           }
          ],
          "contourcarpet": [
           {
            "colorbar": {
             "outlinewidth": 0,
             "ticks": ""
            },
            "type": "contourcarpet"
           }
          ],
          "heatmap": [
           {
            "colorbar": {
             "outlinewidth": 0,
             "ticks": ""
            },
            "colorscale": [
             [
              0,
              "#0d0887"
             ],
             [
              0.1111111111111111,
              "#46039f"
             ],
             [
              0.2222222222222222,
              "#7201a8"
             ],
             [
              0.3333333333333333,
              "#9c179e"
             ],
             [
              0.4444444444444444,
              "#bd3786"
             ],
             [
              0.5555555555555556,
              "#d8576b"
             ],
             [
              0.6666666666666666,
              "#ed7953"
             ],
             [
              0.7777777777777778,
              "#fb9f3a"
             ],
             [
              0.8888888888888888,
              "#fdca26"
             ],
             [
              1,
              "#f0f921"
             ]
            ],
            "type": "heatmap"
           }
          ],
          "heatmapgl": [
           {
            "colorbar": {
             "outlinewidth": 0,
             "ticks": ""
            },
            "colorscale": [
             [
              0,
              "#0d0887"
             ],
             [
              0.1111111111111111,
              "#46039f"
             ],
             [
              0.2222222222222222,
              "#7201a8"
             ],
             [
              0.3333333333333333,
              "#9c179e"
             ],
             [
              0.4444444444444444,
              "#bd3786"
             ],
             [
              0.5555555555555556,
              "#d8576b"
             ],
             [
              0.6666666666666666,
              "#ed7953"
             ],
             [
              0.7777777777777778,
              "#fb9f3a"
             ],
             [
              0.8888888888888888,
              "#fdca26"
             ],
             [
              1,
              "#f0f921"
             ]
            ],
            "type": "heatmapgl"
           }
          ],
          "histogram": [
           {
            "marker": {
             "pattern": {
              "fillmode": "overlay",
              "size": 10,
              "solidity": 0.2
             }
            },
            "type": "histogram"
           }
          ],
          "histogram2d": [
           {
            "colorbar": {
             "outlinewidth": 0,
             "ticks": ""
            },
            "colorscale": [
             [
              0,
              "#0d0887"
             ],
             [
              0.1111111111111111,
              "#46039f"
             ],
             [
              0.2222222222222222,
              "#7201a8"
             ],
             [
              0.3333333333333333,
              "#9c179e"
             ],
             [
              0.4444444444444444,
              "#bd3786"
             ],
             [
              0.5555555555555556,
              "#d8576b"
             ],
             [
              0.6666666666666666,
              "#ed7953"
             ],
             [
              0.7777777777777778,
              "#fb9f3a"
             ],
             [
              0.8888888888888888,
              "#fdca26"
             ],
             [
              1,
              "#f0f921"
             ]
            ],
            "type": "histogram2d"
           }
          ],
          "histogram2dcontour": [
           {
            "colorbar": {
             "outlinewidth": 0,
             "ticks": ""
            },
            "colorscale": [
             [
              0,
              "#0d0887"
             ],
             [
              0.1111111111111111,
              "#46039f"
             ],
             [
              0.2222222222222222,
              "#7201a8"
             ],
             [
              0.3333333333333333,
              "#9c179e"
             ],
             [
              0.4444444444444444,
              "#bd3786"
             ],
             [
              0.5555555555555556,
              "#d8576b"
             ],
             [
              0.6666666666666666,
              "#ed7953"
             ],
             [
              0.7777777777777778,
              "#fb9f3a"
             ],
             [
              0.8888888888888888,
              "#fdca26"
             ],
             [
              1,
              "#f0f921"
             ]
            ],
            "type": "histogram2dcontour"
           }
          ],
          "mesh3d": [
           {
            "colorbar": {
             "outlinewidth": 0,
             "ticks": ""
            },
            "type": "mesh3d"
           }
          ],
          "parcoords": [
           {
            "line": {
             "colorbar": {
              "outlinewidth": 0,
              "ticks": ""
             }
            },
            "type": "parcoords"
           }
          ],
          "pie": [
           {
            "automargin": true,
            "type": "pie"
           }
          ],
          "scatter": [
           {
            "marker": {
             "colorbar": {
              "outlinewidth": 0,
              "ticks": ""
             }
            },
            "type": "scatter"
           }
          ],
          "scatter3d": [
           {
            "line": {
             "colorbar": {
              "outlinewidth": 0,
              "ticks": ""
             }
            },
            "marker": {
             "colorbar": {
              "outlinewidth": 0,
              "ticks": ""
             }
            },
            "type": "scatter3d"
           }
          ],
          "scattercarpet": [
           {
            "marker": {
             "colorbar": {
              "outlinewidth": 0,
              "ticks": ""
             }
            },
            "type": "scattercarpet"
           }
          ],
          "scattergeo": [
           {
            "marker": {
             "colorbar": {
              "outlinewidth": 0,
              "ticks": ""
             }
            },
            "type": "scattergeo"
           }
          ],
          "scattergl": [
           {
            "marker": {
             "colorbar": {
              "outlinewidth": 0,
              "ticks": ""
             }
            },
            "type": "scattergl"
           }
          ],
          "scattermapbox": [
           {
            "marker": {
             "colorbar": {
              "outlinewidth": 0,
              "ticks": ""
             }
            },
            "type": "scattermapbox"
           }
          ],
          "scatterpolar": [
           {
            "marker": {
             "colorbar": {
              "outlinewidth": 0,
              "ticks": ""
             }
            },
            "type": "scatterpolar"
           }
          ],
          "scatterpolargl": [
           {
            "marker": {
             "colorbar": {
              "outlinewidth": 0,
              "ticks": ""
             }
            },
            "type": "scatterpolargl"
           }
          ],
          "scatterternary": [
           {
            "marker": {
             "colorbar": {
              "outlinewidth": 0,
              "ticks": ""
             }
            },
            "type": "scatterternary"
           }
          ],
          "surface": [
           {
            "colorbar": {
             "outlinewidth": 0,
             "ticks": ""
            },
            "colorscale": [
             [
              0,
              "#0d0887"
             ],
             [
              0.1111111111111111,
              "#46039f"
             ],
             [
              0.2222222222222222,
              "#7201a8"
             ],
             [
              0.3333333333333333,
              "#9c179e"
             ],
             [
              0.4444444444444444,
              "#bd3786"
             ],
             [
              0.5555555555555556,
              "#d8576b"
             ],
             [
              0.6666666666666666,
              "#ed7953"
             ],
             [
              0.7777777777777778,
              "#fb9f3a"
             ],
             [
              0.8888888888888888,
              "#fdca26"
             ],
             [
              1,
              "#f0f921"
             ]
            ],
            "type": "surface"
           }
          ],
          "table": [
           {
            "cells": {
             "fill": {
              "color": "#EBF0F8"
             },
             "line": {
              "color": "white"
             }
            },
            "header": {
             "fill": {
              "color": "#C8D4E3"
             },
             "line": {
              "color": "white"
             }
            },
            "type": "table"
           }
          ]
         },
         "layout": {
          "annotationdefaults": {
           "arrowcolor": "#2a3f5f",
           "arrowhead": 0,
           "arrowwidth": 1
          },
          "autotypenumbers": "strict",
          "coloraxis": {
           "colorbar": {
            "outlinewidth": 0,
            "ticks": ""
           }
          },
          "colorscale": {
           "diverging": [
            [
             0,
             "#8e0152"
            ],
            [
             0.1,
             "#c51b7d"
            ],
            [
             0.2,
             "#de77ae"
            ],
            [
             0.3,
             "#f1b6da"
            ],
            [
             0.4,
             "#fde0ef"
            ],
            [
             0.5,
             "#f7f7f7"
            ],
            [
             0.6,
             "#e6f5d0"
            ],
            [
             0.7,
             "#b8e186"
            ],
            [
             0.8,
             "#7fbc41"
            ],
            [
             0.9,
             "#4d9221"
            ],
            [
             1,
             "#276419"
            ]
           ],
           "sequential": [
            [
             0,
             "#0d0887"
            ],
            [
             0.1111111111111111,
             "#46039f"
            ],
            [
             0.2222222222222222,
             "#7201a8"
            ],
            [
             0.3333333333333333,
             "#9c179e"
            ],
            [
             0.4444444444444444,
             "#bd3786"
            ],
            [
             0.5555555555555556,
             "#d8576b"
            ],
            [
             0.6666666666666666,
             "#ed7953"
            ],
            [
             0.7777777777777778,
             "#fb9f3a"
            ],
            [
             0.8888888888888888,
             "#fdca26"
            ],
            [
             1,
             "#f0f921"
            ]
           ],
           "sequentialminus": [
            [
             0,
             "#0d0887"
            ],
            [
             0.1111111111111111,
             "#46039f"
            ],
            [
             0.2222222222222222,
             "#7201a8"
            ],
            [
             0.3333333333333333,
             "#9c179e"
            ],
            [
             0.4444444444444444,
             "#bd3786"
            ],
            [
             0.5555555555555556,
             "#d8576b"
            ],
            [
             0.6666666666666666,
             "#ed7953"
            ],
            [
             0.7777777777777778,
             "#fb9f3a"
            ],
            [
             0.8888888888888888,
             "#fdca26"
            ],
            [
             1,
             "#f0f921"
            ]
           ]
          },
          "colorway": [
           "#636efa",
           "#EF553B",
           "#00cc96",
           "#ab63fa",
           "#FFA15A",
           "#19d3f3",
           "#FF6692",
           "#B6E880",
           "#FF97FF",
           "#FECB52"
          ],
          "font": {
           "color": "#2a3f5f"
          },
          "geo": {
           "bgcolor": "white",
           "lakecolor": "white",
           "landcolor": "#E5ECF6",
           "showlakes": true,
           "showland": true,
           "subunitcolor": "white"
          },
          "hoverlabel": {
           "align": "left"
          },
          "hovermode": "closest",
          "mapbox": {
           "style": "light"
          },
          "paper_bgcolor": "white",
          "plot_bgcolor": "#E5ECF6",
          "polar": {
           "angularaxis": {
            "gridcolor": "white",
            "linecolor": "white",
            "ticks": ""
           },
           "bgcolor": "#E5ECF6",
           "radialaxis": {
            "gridcolor": "white",
            "linecolor": "white",
            "ticks": ""
           }
          },
          "scene": {
           "xaxis": {
            "backgroundcolor": "#E5ECF6",
            "gridcolor": "white",
            "gridwidth": 2,
            "linecolor": "white",
            "showbackground": true,
            "ticks": "",
            "zerolinecolor": "white"
           },
           "yaxis": {
            "backgroundcolor": "#E5ECF6",
            "gridcolor": "white",
            "gridwidth": 2,
            "linecolor": "white",
            "showbackground": true,
            "ticks": "",
            "zerolinecolor": "white"
           },
           "zaxis": {
            "backgroundcolor": "#E5ECF6",
            "gridcolor": "white",
            "gridwidth": 2,
            "linecolor": "white",
            "showbackground": true,
            "ticks": "",
            "zerolinecolor": "white"
           }
          },
          "shapedefaults": {
           "line": {
            "color": "#2a3f5f"
           }
          },
          "ternary": {
           "aaxis": {
            "gridcolor": "white",
            "linecolor": "white",
            "ticks": ""
           },
           "baxis": {
            "gridcolor": "white",
            "linecolor": "white",
            "ticks": ""
           },
           "bgcolor": "#E5ECF6",
           "caxis": {
            "gridcolor": "white",
            "linecolor": "white",
            "ticks": ""
           }
          },
          "title": {
           "x": 0.05
          },
          "xaxis": {
           "automargin": true,
           "gridcolor": "white",
           "linecolor": "white",
           "ticks": "",
           "title": {
            "standoff": 15
           },
           "zerolinecolor": "white",
           "zerolinewidth": 2
          },
          "yaxis": {
           "automargin": true,
           "gridcolor": "white",
           "linecolor": "white",
           "ticks": "",
           "title": {
            "standoff": 15
           },
           "zerolinecolor": "white",
           "zerolinewidth": 2
          }
         }
        }
       }
      }
     },
     "metadata": {},
     "output_type": "display_data"
    }
   ],
   "source": [
    "fig1"
   ]
  },
  {
   "cell_type": "code",
   "execution_count": 5,
   "metadata": {},
   "outputs": [
    {
     "data": {
      "application/vnd.plotly.v1+json": {
       "config": {
        "plotlyServerURL": "https://plot.ly"
       },
       "data": [
        {
         "marker": {
          "color": "#004687"
         },
         "name": "Europe",
         "opacity": 0.8,
         "type": "bar",
         "x": [
          2005,
          2006
         ],
         "y": [
          158.3306396423607,
          159.50396260621312
         ]
        },
        {
         "marker": {
          "color": "#AE8F6F"
         },
         "name": "Asia",
         "opacity": 0.8,
         "type": "bar",
         "x": [
          2005,
          2006
         ],
         "y": [
          284.38955718050374,
          301.0644412514452
         ]
        }
       ],
       "layout": {
        "barmode": "stack",
        "template": {
         "data": {
          "bar": [
           {
            "error_x": {
             "color": "#2a3f5f"
            },
            "error_y": {
             "color": "#2a3f5f"
            },
            "marker": {
             "line": {
              "color": "#E5ECF6",
              "width": 0.5
             },
             "pattern": {
              "fillmode": "overlay",
              "size": 10,
              "solidity": 0.2
             }
            },
            "type": "bar"
           }
          ],
          "barpolar": [
           {
            "marker": {
             "line": {
              "color": "#E5ECF6",
              "width": 0.5
             },
             "pattern": {
              "fillmode": "overlay",
              "size": 10,
              "solidity": 0.2
             }
            },
            "type": "barpolar"
           }
          ],
          "carpet": [
           {
            "aaxis": {
             "endlinecolor": "#2a3f5f",
             "gridcolor": "white",
             "linecolor": "white",
             "minorgridcolor": "white",
             "startlinecolor": "#2a3f5f"
            },
            "baxis": {
             "endlinecolor": "#2a3f5f",
             "gridcolor": "white",
             "linecolor": "white",
             "minorgridcolor": "white",
             "startlinecolor": "#2a3f5f"
            },
            "type": "carpet"
           }
          ],
          "choropleth": [
           {
            "colorbar": {
             "outlinewidth": 0,
             "ticks": ""
            },
            "type": "choropleth"
           }
          ],
          "contour": [
           {
            "colorbar": {
             "outlinewidth": 0,
             "ticks": ""
            },
            "colorscale": [
             [
              0,
              "#0d0887"
             ],
             [
              0.1111111111111111,
              "#46039f"
             ],
             [
              0.2222222222222222,
              "#7201a8"
             ],
             [
              0.3333333333333333,
              "#9c179e"
             ],
             [
              0.4444444444444444,
              "#bd3786"
             ],
             [
              0.5555555555555556,
              "#d8576b"
             ],
             [
              0.6666666666666666,
              "#ed7953"
             ],
             [
              0.7777777777777778,
              "#fb9f3a"
             ],
             [
              0.8888888888888888,
              "#fdca26"
             ],
             [
              1,
              "#f0f921"
             ]
            ],
            "type": "contour"
           }
          ],
          "contourcarpet": [
           {
            "colorbar": {
             "outlinewidth": 0,
             "ticks": ""
            },
            "type": "contourcarpet"
           }
          ],
          "heatmap": [
           {
            "colorbar": {
             "outlinewidth": 0,
             "ticks": ""
            },
            "colorscale": [
             [
              0,
              "#0d0887"
             ],
             [
              0.1111111111111111,
              "#46039f"
             ],
             [
              0.2222222222222222,
              "#7201a8"
             ],
             [
              0.3333333333333333,
              "#9c179e"
             ],
             [
              0.4444444444444444,
              "#bd3786"
             ],
             [
              0.5555555555555556,
              "#d8576b"
             ],
             [
              0.6666666666666666,
              "#ed7953"
             ],
             [
              0.7777777777777778,
              "#fb9f3a"
             ],
             [
              0.8888888888888888,
              "#fdca26"
             ],
             [
              1,
              "#f0f921"
             ]
            ],
            "type": "heatmap"
           }
          ],
          "heatmapgl": [
           {
            "colorbar": {
             "outlinewidth": 0,
             "ticks": ""
            },
            "colorscale": [
             [
              0,
              "#0d0887"
             ],
             [
              0.1111111111111111,
              "#46039f"
             ],
             [
              0.2222222222222222,
              "#7201a8"
             ],
             [
              0.3333333333333333,
              "#9c179e"
             ],
             [
              0.4444444444444444,
              "#bd3786"
             ],
             [
              0.5555555555555556,
              "#d8576b"
             ],
             [
              0.6666666666666666,
              "#ed7953"
             ],
             [
              0.7777777777777778,
              "#fb9f3a"
             ],
             [
              0.8888888888888888,
              "#fdca26"
             ],
             [
              1,
              "#f0f921"
             ]
            ],
            "type": "heatmapgl"
           }
          ],
          "histogram": [
           {
            "marker": {
             "pattern": {
              "fillmode": "overlay",
              "size": 10,
              "solidity": 0.2
             }
            },
            "type": "histogram"
           }
          ],
          "histogram2d": [
           {
            "colorbar": {
             "outlinewidth": 0,
             "ticks": ""
            },
            "colorscale": [
             [
              0,
              "#0d0887"
             ],
             [
              0.1111111111111111,
              "#46039f"
             ],
             [
              0.2222222222222222,
              "#7201a8"
             ],
             [
              0.3333333333333333,
              "#9c179e"
             ],
             [
              0.4444444444444444,
              "#bd3786"
             ],
             [
              0.5555555555555556,
              "#d8576b"
             ],
             [
              0.6666666666666666,
              "#ed7953"
             ],
             [
              0.7777777777777778,
              "#fb9f3a"
             ],
             [
              0.8888888888888888,
              "#fdca26"
             ],
             [
              1,
              "#f0f921"
             ]
            ],
            "type": "histogram2d"
           }
          ],
          "histogram2dcontour": [
           {
            "colorbar": {
             "outlinewidth": 0,
             "ticks": ""
            },
            "colorscale": [
             [
              0,
              "#0d0887"
             ],
             [
              0.1111111111111111,
              "#46039f"
             ],
             [
              0.2222222222222222,
              "#7201a8"
             ],
             [
              0.3333333333333333,
              "#9c179e"
             ],
             [
              0.4444444444444444,
              "#bd3786"
             ],
             [
              0.5555555555555556,
              "#d8576b"
             ],
             [
              0.6666666666666666,
              "#ed7953"
             ],
             [
              0.7777777777777778,
              "#fb9f3a"
             ],
             [
              0.8888888888888888,
              "#fdca26"
             ],
             [
              1,
              "#f0f921"
             ]
            ],
            "type": "histogram2dcontour"
           }
          ],
          "mesh3d": [
           {
            "colorbar": {
             "outlinewidth": 0,
             "ticks": ""
            },
            "type": "mesh3d"
           }
          ],
          "parcoords": [
           {
            "line": {
             "colorbar": {
              "outlinewidth": 0,
              "ticks": ""
             }
            },
            "type": "parcoords"
           }
          ],
          "pie": [
           {
            "automargin": true,
            "type": "pie"
           }
          ],
          "scatter": [
           {
            "marker": {
             "colorbar": {
              "outlinewidth": 0,
              "ticks": ""
             }
            },
            "type": "scatter"
           }
          ],
          "scatter3d": [
           {
            "line": {
             "colorbar": {
              "outlinewidth": 0,
              "ticks": ""
             }
            },
            "marker": {
             "colorbar": {
              "outlinewidth": 0,
              "ticks": ""
             }
            },
            "type": "scatter3d"
           }
          ],
          "scattercarpet": [
           {
            "marker": {
             "colorbar": {
              "outlinewidth": 0,
              "ticks": ""
             }
            },
            "type": "scattercarpet"
           }
          ],
          "scattergeo": [
           {
            "marker": {
             "colorbar": {
              "outlinewidth": 0,
              "ticks": ""
             }
            },
            "type": "scattergeo"
           }
          ],
          "scattergl": [
           {
            "marker": {
             "colorbar": {
              "outlinewidth": 0,
              "ticks": ""
             }
            },
            "type": "scattergl"
           }
          ],
          "scattermapbox": [
           {
            "marker": {
             "colorbar": {
              "outlinewidth": 0,
              "ticks": ""
             }
            },
            "type": "scattermapbox"
           }
          ],
          "scatterpolar": [
           {
            "marker": {
             "colorbar": {
              "outlinewidth": 0,
              "ticks": ""
             }
            },
            "type": "scatterpolar"
           }
          ],
          "scatterpolargl": [
           {
            "marker": {
             "colorbar": {
              "outlinewidth": 0,
              "ticks": ""
             }
            },
            "type": "scatterpolargl"
           }
          ],
          "scatterternary": [
           {
            "marker": {
             "colorbar": {
              "outlinewidth": 0,
              "ticks": ""
             }
            },
            "type": "scatterternary"
           }
          ],
          "surface": [
           {
            "colorbar": {
             "outlinewidth": 0,
             "ticks": ""
            },
            "colorscale": [
             [
              0,
              "#0d0887"
             ],
             [
              0.1111111111111111,
              "#46039f"
             ],
             [
              0.2222222222222222,
              "#7201a8"
             ],
             [
              0.3333333333333333,
              "#9c179e"
             ],
             [
              0.4444444444444444,
              "#bd3786"
             ],
             [
              0.5555555555555556,
              "#d8576b"
             ],
             [
              0.6666666666666666,
              "#ed7953"
             ],
             [
              0.7777777777777778,
              "#fb9f3a"
             ],
             [
              0.8888888888888888,
              "#fdca26"
             ],
             [
              1,
              "#f0f921"
             ]
            ],
            "type": "surface"
           }
          ],
          "table": [
           {
            "cells": {
             "fill": {
              "color": "#EBF0F8"
             },
             "line": {
              "color": "white"
             }
            },
            "header": {
             "fill": {
              "color": "#C8D4E3"
             },
             "line": {
              "color": "white"
             }
            },
            "type": "table"
           }
          ]
         },
         "layout": {
          "annotationdefaults": {
           "arrowcolor": "#2a3f5f",
           "arrowhead": 0,
           "arrowwidth": 1
          },
          "autotypenumbers": "strict",
          "coloraxis": {
           "colorbar": {
            "outlinewidth": 0,
            "ticks": ""
           }
          },
          "colorscale": {
           "diverging": [
            [
             0,
             "#8e0152"
            ],
            [
             0.1,
             "#c51b7d"
            ],
            [
             0.2,
             "#de77ae"
            ],
            [
             0.3,
             "#f1b6da"
            ],
            [
             0.4,
             "#fde0ef"
            ],
            [
             0.5,
             "#f7f7f7"
            ],
            [
             0.6,
             "#e6f5d0"
            ],
            [
             0.7,
             "#b8e186"
            ],
            [
             0.8,
             "#7fbc41"
            ],
            [
             0.9,
             "#4d9221"
            ],
            [
             1,
             "#276419"
            ]
           ],
           "sequential": [
            [
             0,
             "#0d0887"
            ],
            [
             0.1111111111111111,
             "#46039f"
            ],
            [
             0.2222222222222222,
             "#7201a8"
            ],
            [
             0.3333333333333333,
             "#9c179e"
            ],
            [
             0.4444444444444444,
             "#bd3786"
            ],
            [
             0.5555555555555556,
             "#d8576b"
            ],
            [
             0.6666666666666666,
             "#ed7953"
            ],
            [
             0.7777777777777778,
             "#fb9f3a"
            ],
            [
             0.8888888888888888,
             "#fdca26"
            ],
            [
             1,
             "#f0f921"
            ]
           ],
           "sequentialminus": [
            [
             0,
             "#0d0887"
            ],
            [
             0.1111111111111111,
             "#46039f"
            ],
            [
             0.2222222222222222,
             "#7201a8"
            ],
            [
             0.3333333333333333,
             "#9c179e"
            ],
            [
             0.4444444444444444,
             "#bd3786"
            ],
            [
             0.5555555555555556,
             "#d8576b"
            ],
            [
             0.6666666666666666,
             "#ed7953"
            ],
            [
             0.7777777777777778,
             "#fb9f3a"
            ],
            [
             0.8888888888888888,
             "#fdca26"
            ],
            [
             1,
             "#f0f921"
            ]
           ]
          },
          "colorway": [
           "#636efa",
           "#EF553B",
           "#00cc96",
           "#ab63fa",
           "#FFA15A",
           "#19d3f3",
           "#FF6692",
           "#B6E880",
           "#FF97FF",
           "#FECB52"
          ],
          "font": {
           "color": "#2a3f5f"
          },
          "geo": {
           "bgcolor": "white",
           "lakecolor": "white",
           "landcolor": "#E5ECF6",
           "showlakes": true,
           "showland": true,
           "subunitcolor": "white"
          },
          "hoverlabel": {
           "align": "left"
          },
          "hovermode": "closest",
          "mapbox": {
           "style": "light"
          },
          "paper_bgcolor": "white",
          "plot_bgcolor": "#E5ECF6",
          "polar": {
           "angularaxis": {
            "gridcolor": "white",
            "linecolor": "white",
            "ticks": ""
           },
           "bgcolor": "#E5ECF6",
           "radialaxis": {
            "gridcolor": "white",
            "linecolor": "white",
            "ticks": ""
           }
          },
          "scene": {
           "xaxis": {
            "backgroundcolor": "#E5ECF6",
            "gridcolor": "white",
            "gridwidth": 2,
            "linecolor": "white",
            "showbackground": true,
            "ticks": "",
            "zerolinecolor": "white"
           },
           "yaxis": {
            "backgroundcolor": "#E5ECF6",
            "gridcolor": "white",
            "gridwidth": 2,
            "linecolor": "white",
            "showbackground": true,
            "ticks": "",
            "zerolinecolor": "white"
           },
           "zaxis": {
            "backgroundcolor": "#E5ECF6",
            "gridcolor": "white",
            "gridwidth": 2,
            "linecolor": "white",
            "showbackground": true,
            "ticks": "",
            "zerolinecolor": "white"
           }
          },
          "shapedefaults": {
           "line": {
            "color": "#2a3f5f"
           }
          },
          "ternary": {
           "aaxis": {
            "gridcolor": "white",
            "linecolor": "white",
            "ticks": ""
           },
           "baxis": {
            "gridcolor": "white",
            "linecolor": "white",
            "ticks": ""
           },
           "bgcolor": "#E5ECF6",
           "caxis": {
            "gridcolor": "white",
            "linecolor": "white",
            "ticks": ""
           }
          },
          "title": {
           "x": 0.05
          },
          "xaxis": {
           "automargin": true,
           "gridcolor": "white",
           "linecolor": "white",
           "ticks": "",
           "title": {
            "standoff": 15
           },
           "zerolinecolor": "white",
           "zerolinewidth": 2
          },
          "yaxis": {
           "automargin": true,
           "gridcolor": "white",
           "linecolor": "white",
           "ticks": "",
           "title": {
            "standoff": 15
           },
           "zerolinecolor": "white",
           "zerolinewidth": 2
          }
         }
        }
       }
      }
     },
     "metadata": {},
     "output_type": "display_data"
    }
   ],
   "source": [
    "value=[2005, 2006]\n",
    "dff = file.copy()\n",
    "dff = dff[(dff['Year'] >= value[0]) & (dff['Year'] <= value[1])]\n",
    "dff = dff[['Total energy consumption (Mtoe)', 'continent', 'Year']]\n",
    "\n",
    "\n",
    "fig2 = go.Figure(\n",
    "        data=[\n",
    "            go.Bar(\n",
    "                name=\"Europe\",\n",
    "                x= dff.Year.unique(),\n",
    "                y= dff.loc[file['continent'] == 'Europe'].groupby('Year')['Total energy consumption (Mtoe)'].mean(),\n",
    "                marker_color=\"#004687\",\n",
    "                opacity=0.8,\n",
    "            ),\n",
    "            go.Bar(\n",
    "                name=\"Asia\",\n",
    "                x= dff.Year.unique(),\n",
    "                y=dff.loc[file['continent'] == 'Asia'].groupby('Year')['Total energy consumption (Mtoe)'].mean(),\n",
    "                marker_color=\"#AE8F6F\",\n",
    "                opacity=0.8,\n",
    "            ),\n",
    "        ]\n",
    " )\n",
    "fig2.update_layout(\n",
    "        barmode=\"stack\"\n",
    ")"
   ]
  },
  {
   "cell_type": "code",
   "execution_count": 3,
   "metadata": {},
   "outputs": [
    {
     "ename": "NameError",
     "evalue": "name 'dff' is not defined",
     "output_type": "error",
     "traceback": [
      "\u001b[1;31m---------------------------------------------------------------------------\u001b[0m",
      "\u001b[1;31mNameError\u001b[0m                                 Traceback (most recent call last)",
      "\u001b[1;32m<ipython-input-3-eef74c635d9a>\u001b[0m in \u001b[0;36m<module>\u001b[1;34m\u001b[0m\n\u001b[1;32m----> 1\u001b[1;33m \u001b[0mdff\u001b[0m\u001b[1;33m\u001b[0m\u001b[1;33m\u001b[0m\u001b[0m\n\u001b[0m",
      "\u001b[1;31mNameError\u001b[0m: name 'dff' is not defined"
     ]
    }
   ],
   "source": []
  },
  {
   "cell_type": "code",
   "execution_count": 8,
   "metadata": {},
   "outputs": [
    {
     "data": {
      "text/plain": [
       "{'Algeria',\n",
       " 'Argentina',\n",
       " 'Australia',\n",
       " 'Belgium',\n",
       " 'Brazil',\n",
       " 'Canada',\n",
       " 'Chile',\n",
       " 'China',\n",
       " 'Colombia',\n",
       " 'Czechia',\n",
       " 'Egypt',\n",
       " 'France',\n",
       " 'Germany',\n",
       " 'India',\n",
       " 'Indonesia',\n",
       " 'Iran',\n",
       " 'Italy',\n",
       " 'Japan',\n",
       " 'Kazakhstan',\n",
       " 'Kuwait',\n",
       " 'Malaysia',\n",
       " 'Mexico',\n",
       " 'Netherlands',\n",
       " 'New Zealand',\n",
       " 'Nigeria',\n",
       " 'Norway',\n",
       " 'Poland',\n",
       " 'Portugal',\n",
       " 'Romania',\n",
       " 'Russia',\n",
       " 'Saudi Arabia',\n",
       " 'South Africa',\n",
       " 'South Korea',\n",
       " 'Spain',\n",
       " 'Sweden',\n",
       " 'Taiwan',\n",
       " 'Thailand',\n",
       " 'Turkey',\n",
       " 'Ukraine',\n",
       " 'United Arab Emirates',\n",
       " 'United Kingdom',\n",
       " 'United States of America',\n",
       " 'Uzbekistan',\n",
       " 'Venezuela'}"
      ]
     },
     "execution_count": 8,
     "metadata": {},
     "output_type": "execute_result"
    }
   ],
   "source": [
    "set(file.Country)"
   ]
  },
  {
   "cell_type": "code",
   "execution_count": 5,
   "metadata": {},
   "outputs": [
    {
     "data": {
      "application/vnd.plotly.v1+json": {
       "config": {
        "plotlyServerURL": "https://plot.ly"
       },
       "data": [
        {
         "hole": 0.8,
         "labels": [
          "Oxygen",
          "Hydrogen",
          "Carbon_Dioxide",
          "Nitrogen"
         ],
         "type": "pie",
         "values": [
          4500,
          2500,
          1053,
          500
         ]
        }
       ],
       "layout": {
        "template": {
         "data": {
          "bar": [
           {
            "error_x": {
             "color": "#2a3f5f"
            },
            "error_y": {
             "color": "#2a3f5f"
            },
            "marker": {
             "line": {
              "color": "#E5ECF6",
              "width": 0.5
             },
             "pattern": {
              "fillmode": "overlay",
              "size": 10,
              "solidity": 0.2
             }
            },
            "type": "bar"
           }
          ],
          "barpolar": [
           {
            "marker": {
             "line": {
              "color": "#E5ECF6",
              "width": 0.5
             },
             "pattern": {
              "fillmode": "overlay",
              "size": 10,
              "solidity": 0.2
             }
            },
            "type": "barpolar"
           }
          ],
          "carpet": [
           {
            "aaxis": {
             "endlinecolor": "#2a3f5f",
             "gridcolor": "white",
             "linecolor": "white",
             "minorgridcolor": "white",
             "startlinecolor": "#2a3f5f"
            },
            "baxis": {
             "endlinecolor": "#2a3f5f",
             "gridcolor": "white",
             "linecolor": "white",
             "minorgridcolor": "white",
             "startlinecolor": "#2a3f5f"
            },
            "type": "carpet"
           }
          ],
          "choropleth": [
           {
            "colorbar": {
             "outlinewidth": 0,
             "ticks": ""
            },
            "type": "choropleth"
           }
          ],
          "contour": [
           {
            "colorbar": {
             "outlinewidth": 0,
             "ticks": ""
            },
            "colorscale": [
             [
              0,
              "#0d0887"
             ],
             [
              0.1111111111111111,
              "#46039f"
             ],
             [
              0.2222222222222222,
              "#7201a8"
             ],
             [
              0.3333333333333333,
              "#9c179e"
             ],
             [
              0.4444444444444444,
              "#bd3786"
             ],
             [
              0.5555555555555556,
              "#d8576b"
             ],
             [
              0.6666666666666666,
              "#ed7953"
             ],
             [
              0.7777777777777778,
              "#fb9f3a"
             ],
             [
              0.8888888888888888,
              "#fdca26"
             ],
             [
              1,
              "#f0f921"
             ]
            ],
            "type": "contour"
           }
          ],
          "contourcarpet": [
           {
            "colorbar": {
             "outlinewidth": 0,
             "ticks": ""
            },
            "type": "contourcarpet"
           }
          ],
          "heatmap": [
           {
            "colorbar": {
             "outlinewidth": 0,
             "ticks": ""
            },
            "colorscale": [
             [
              0,
              "#0d0887"
             ],
             [
              0.1111111111111111,
              "#46039f"
             ],
             [
              0.2222222222222222,
              "#7201a8"
             ],
             [
              0.3333333333333333,
              "#9c179e"
             ],
             [
              0.4444444444444444,
              "#bd3786"
             ],
             [
              0.5555555555555556,
              "#d8576b"
             ],
             [
              0.6666666666666666,
              "#ed7953"
             ],
             [
              0.7777777777777778,
              "#fb9f3a"
             ],
             [
              0.8888888888888888,
              "#fdca26"
             ],
             [
              1,
              "#f0f921"
             ]
            ],
            "type": "heatmap"
           }
          ],
          "heatmapgl": [
           {
            "colorbar": {
             "outlinewidth": 0,
             "ticks": ""
            },
            "colorscale": [
             [
              0,
              "#0d0887"
             ],
             [
              0.1111111111111111,
              "#46039f"
             ],
             [
              0.2222222222222222,
              "#7201a8"
             ],
             [
              0.3333333333333333,
              "#9c179e"
             ],
             [
              0.4444444444444444,
              "#bd3786"
             ],
             [
              0.5555555555555556,
              "#d8576b"
             ],
             [
              0.6666666666666666,
              "#ed7953"
             ],
             [
              0.7777777777777778,
              "#fb9f3a"
             ],
             [
              0.8888888888888888,
              "#fdca26"
             ],
             [
              1,
              "#f0f921"
             ]
            ],
            "type": "heatmapgl"
           }
          ],
          "histogram": [
           {
            "marker": {
             "pattern": {
              "fillmode": "overlay",
              "size": 10,
              "solidity": 0.2
             }
            },
            "type": "histogram"
           }
          ],
          "histogram2d": [
           {
            "colorbar": {
             "outlinewidth": 0,
             "ticks": ""
            },
            "colorscale": [
             [
              0,
              "#0d0887"
             ],
             [
              0.1111111111111111,
              "#46039f"
             ],
             [
              0.2222222222222222,
              "#7201a8"
             ],
             [
              0.3333333333333333,
              "#9c179e"
             ],
             [
              0.4444444444444444,
              "#bd3786"
             ],
             [
              0.5555555555555556,
              "#d8576b"
             ],
             [
              0.6666666666666666,
              "#ed7953"
             ],
             [
              0.7777777777777778,
              "#fb9f3a"
             ],
             [
              0.8888888888888888,
              "#fdca26"
             ],
             [
              1,
              "#f0f921"
             ]
            ],
            "type": "histogram2d"
           }
          ],
          "histogram2dcontour": [
           {
            "colorbar": {
             "outlinewidth": 0,
             "ticks": ""
            },
            "colorscale": [
             [
              0,
              "#0d0887"
             ],
             [
              0.1111111111111111,
              "#46039f"
             ],
             [
              0.2222222222222222,
              "#7201a8"
             ],
             [
              0.3333333333333333,
              "#9c179e"
             ],
             [
              0.4444444444444444,
              "#bd3786"
             ],
             [
              0.5555555555555556,
              "#d8576b"
             ],
             [
              0.6666666666666666,
              "#ed7953"
             ],
             [
              0.7777777777777778,
              "#fb9f3a"
             ],
             [
              0.8888888888888888,
              "#fdca26"
             ],
             [
              1,
              "#f0f921"
             ]
            ],
            "type": "histogram2dcontour"
           }
          ],
          "mesh3d": [
           {
            "colorbar": {
             "outlinewidth": 0,
             "ticks": ""
            },
            "type": "mesh3d"
           }
          ],
          "parcoords": [
           {
            "line": {
             "colorbar": {
              "outlinewidth": 0,
              "ticks": ""
             }
            },
            "type": "parcoords"
           }
          ],
          "pie": [
           {
            "automargin": true,
            "type": "pie"
           }
          ],
          "scatter": [
           {
            "marker": {
             "colorbar": {
              "outlinewidth": 0,
              "ticks": ""
             }
            },
            "type": "scatter"
           }
          ],
          "scatter3d": [
           {
            "line": {
             "colorbar": {
              "outlinewidth": 0,
              "ticks": ""
             }
            },
            "marker": {
             "colorbar": {
              "outlinewidth": 0,
              "ticks": ""
             }
            },
            "type": "scatter3d"
           }
          ],
          "scattercarpet": [
           {
            "marker": {
             "colorbar": {
              "outlinewidth": 0,
              "ticks": ""
             }
            },
            "type": "scattercarpet"
           }
          ],
          "scattergeo": [
           {
            "marker": {
             "colorbar": {
              "outlinewidth": 0,
              "ticks": ""
             }
            },
            "type": "scattergeo"
           }
          ],
          "scattergl": [
           {
            "marker": {
             "colorbar": {
              "outlinewidth": 0,
              "ticks": ""
             }
            },
            "type": "scattergl"
           }
          ],
          "scattermapbox": [
           {
            "marker": {
             "colorbar": {
              "outlinewidth": 0,
              "ticks": ""
             }
            },
            "type": "scattermapbox"
           }
          ],
          "scatterpolar": [
           {
            "marker": {
             "colorbar": {
              "outlinewidth": 0,
              "ticks": ""
             }
            },
            "type": "scatterpolar"
           }
          ],
          "scatterpolargl": [
           {
            "marker": {
             "colorbar": {
              "outlinewidth": 0,
              "ticks": ""
             }
            },
            "type": "scatterpolargl"
           }
          ],
          "scatterternary": [
           {
            "marker": {
             "colorbar": {
              "outlinewidth": 0,
              "ticks": ""
             }
            },
            "type": "scatterternary"
           }
          ],
          "surface": [
           {
            "colorbar": {
             "outlinewidth": 0,
             "ticks": ""
            },
            "colorscale": [
             [
              0,
              "#0d0887"
             ],
             [
              0.1111111111111111,
              "#46039f"
             ],
             [
              0.2222222222222222,
              "#7201a8"
             ],
             [
              0.3333333333333333,
              "#9c179e"
             ],
             [
              0.4444444444444444,
              "#bd3786"
             ],
             [
              0.5555555555555556,
              "#d8576b"
             ],
             [
              0.6666666666666666,
              "#ed7953"
             ],
             [
              0.7777777777777778,
              "#fb9f3a"
             ],
             [
              0.8888888888888888,
              "#fdca26"
             ],
             [
              1,
              "#f0f921"
             ]
            ],
            "type": "surface"
           }
          ],
          "table": [
           {
            "cells": {
             "fill": {
              "color": "#EBF0F8"
             },
             "line": {
              "color": "white"
             }
            },
            "header": {
             "fill": {
              "color": "#C8D4E3"
             },
             "line": {
              "color": "white"
             }
            },
            "type": "table"
           }
          ]
         },
         "layout": {
          "annotationdefaults": {
           "arrowcolor": "#2a3f5f",
           "arrowhead": 0,
           "arrowwidth": 1
          },
          "autotypenumbers": "strict",
          "coloraxis": {
           "colorbar": {
            "outlinewidth": 0,
            "ticks": ""
           }
          },
          "colorscale": {
           "diverging": [
            [
             0,
             "#8e0152"
            ],
            [
             0.1,
             "#c51b7d"
            ],
            [
             0.2,
             "#de77ae"
            ],
            [
             0.3,
             "#f1b6da"
            ],
            [
             0.4,
             "#fde0ef"
            ],
            [
             0.5,
             "#f7f7f7"
            ],
            [
             0.6,
             "#e6f5d0"
            ],
            [
             0.7,
             "#b8e186"
            ],
            [
             0.8,
             "#7fbc41"
            ],
            [
             0.9,
             "#4d9221"
            ],
            [
             1,
             "#276419"
            ]
           ],
           "sequential": [
            [
             0,
             "#0d0887"
            ],
            [
             0.1111111111111111,
             "#46039f"
            ],
            [
             0.2222222222222222,
             "#7201a8"
            ],
            [
             0.3333333333333333,
             "#9c179e"
            ],
            [
             0.4444444444444444,
             "#bd3786"
            ],
            [
             0.5555555555555556,
             "#d8576b"
            ],
            [
             0.6666666666666666,
             "#ed7953"
            ],
            [
             0.7777777777777778,
             "#fb9f3a"
            ],
            [
             0.8888888888888888,
             "#fdca26"
            ],
            [
             1,
             "#f0f921"
            ]
           ],
           "sequentialminus": [
            [
             0,
             "#0d0887"
            ],
            [
             0.1111111111111111,
             "#46039f"
            ],
            [
             0.2222222222222222,
             "#7201a8"
            ],
            [
             0.3333333333333333,
             "#9c179e"
            ],
            [
             0.4444444444444444,
             "#bd3786"
            ],
            [
             0.5555555555555556,
             "#d8576b"
            ],
            [
             0.6666666666666666,
             "#ed7953"
            ],
            [
             0.7777777777777778,
             "#fb9f3a"
            ],
            [
             0.8888888888888888,
             "#fdca26"
            ],
            [
             1,
             "#f0f921"
            ]
           ]
          },
          "colorway": [
           "#636efa",
           "#EF553B",
           "#00cc96",
           "#ab63fa",
           "#FFA15A",
           "#19d3f3",
           "#FF6692",
           "#B6E880",
           "#FF97FF",
           "#FECB52"
          ],
          "font": {
           "color": "#2a3f5f"
          },
          "geo": {
           "bgcolor": "white",
           "lakecolor": "white",
           "landcolor": "#E5ECF6",
           "showlakes": true,
           "showland": true,
           "subunitcolor": "white"
          },
          "hoverlabel": {
           "align": "left"
          },
          "hovermode": "closest",
          "mapbox": {
           "style": "light"
          },
          "paper_bgcolor": "white",
          "plot_bgcolor": "#E5ECF6",
          "polar": {
           "angularaxis": {
            "gridcolor": "white",
            "linecolor": "white",
            "ticks": ""
           },
           "bgcolor": "#E5ECF6",
           "radialaxis": {
            "gridcolor": "white",
            "linecolor": "white",
            "ticks": ""
           }
          },
          "scene": {
           "xaxis": {
            "backgroundcolor": "#E5ECF6",
            "gridcolor": "white",
            "gridwidth": 2,
            "linecolor": "white",
            "showbackground": true,
            "ticks": "",
            "zerolinecolor": "white"
           },
           "yaxis": {
            "backgroundcolor": "#E5ECF6",
            "gridcolor": "white",
            "gridwidth": 2,
            "linecolor": "white",
            "showbackground": true,
            "ticks": "",
            "zerolinecolor": "white"
           },
           "zaxis": {
            "backgroundcolor": "#E5ECF6",
            "gridcolor": "white",
            "gridwidth": 2,
            "linecolor": "white",
            "showbackground": true,
            "ticks": "",
            "zerolinecolor": "white"
           }
          },
          "shapedefaults": {
           "line": {
            "color": "#2a3f5f"
           }
          },
          "ternary": {
           "aaxis": {
            "gridcolor": "white",
            "linecolor": "white",
            "ticks": ""
           },
           "baxis": {
            "gridcolor": "white",
            "linecolor": "white",
            "ticks": ""
           },
           "bgcolor": "#E5ECF6",
           "caxis": {
            "gridcolor": "white",
            "linecolor": "white",
            "ticks": ""
           }
          },
          "title": {
           "x": 0.05
          },
          "xaxis": {
           "automargin": true,
           "gridcolor": "white",
           "linecolor": "white",
           "ticks": "",
           "title": {
            "standoff": 15
           },
           "zerolinecolor": "white",
           "zerolinewidth": 2
          },
          "yaxis": {
           "automargin": true,
           "gridcolor": "white",
           "linecolor": "white",
           "ticks": "",
           "title": {
            "standoff": 15
           },
           "zerolinecolor": "white",
           "zerolinewidth": 2
          }
         }
        }
       }
      }
     },
     "metadata": {},
     "output_type": "display_data"
    }
   ],
   "source": [
    "labels = ['Oxygen','Hydrogen','Carbon_Dioxide','Nitrogen']\n",
    "values = [4500, 2500, 1053, 500]\n",
    "\n",
    "# Use `hole` to create a donut-like pie chart\n",
    "fig = go.Figure(data=[go.Pie(labels=labels, values=values, hole=.8)])\n",
    "fig.show()"
   ]
  },
  {
   "cell_type": "code",
   "execution_count": 7,
   "metadata": {},
   "outputs": [
    {
     "data": {
      "text/plain": [
       "Index(['Unnamed: 0', 'Country', 'Year', 'Total energy production (Mtoe)',\n",
       "       'Energy balance of trade (Mtoe)', 'Total energy consumption (Mtoe)',\n",
       "       'Energy intensity of GDP at constant purchasing power parities (koe/$15p)',\n",
       "       'Crude oil production (Mt)', 'Crude oil balance of trade (Mt)',\n",
       "       'Refined oil products production (Mt)',\n",
       "       'Oil products balance of trade (Mt)',\n",
       "       'Oil products domestic consumption (Mt)',\n",
       "       'Natural gas production (bcm)', 'Natural gas balance of trade (bcm)',\n",
       "       'Natural gas domestic consumption (bcm)', 'LNG balance of trade (bcm)',\n",
       "       'Coal and lignite production (Mt)',\n",
       "       'Coal and lignite balance of trade (Mt)',\n",
       "       'Coal and lignite domestic consumption (Mt)',\n",
       "       'Electricity production (TWh)', 'Electricity balance of trade (TWh)',\n",
       "       'Electricity domestic consumption (TWh)',\n",
       "       'Share of electricity in total final energy consumption (%)',\n",
       "       'Share of renewables in electricity production (%)',\n",
       "       'Share of wind and solar in electricity production (%)',\n",
       "       'CO2 emissions from fuel combustion (MtCO2)',\n",
       "       'CO2 intensity at constant purchasing power parities (kCO2/$15p)',\n",
       "       'Average CO2 emission factor (tCO2/toe)', 'pop_est', 'continent',\n",
       "       'name', 'iso_a3', 'gdp_md_est', 'geometry'],\n",
       "      dtype='object')"
      ]
     },
     "execution_count": 7,
     "metadata": {},
     "output_type": "execute_result"
    }
   ],
   "source": [
    "file.columns"
   ]
  },
  {
   "cell_type": "code",
   "execution_count": 58,
   "metadata": {},
   "outputs": [
    {
     "data": {
      "application/vnd.plotly.v1+json": {
       "config": {
        "plotlyServerURL": "https://plot.ly"
       },
       "data": [
        {
         "domain": {
          "x": [
           0,
           1
          ],
          "y": [
           0,
           1
          ]
         },
         "hole": 0.8,
         "hovertemplate": "label=%{label}<br>value=%{value}<extra></extra>",
         "labels": [
          "Oil",
          "Gas",
          "Coal",
          "Electricity"
         ],
         "legendgroup": "",
         "name": "",
         "showlegend": true,
         "type": "pie",
         "values": [
          13.089,
          4.139000900201,
          "5.46",
          48.545
         ]
        }
       ],
       "layout": {
        "legend": {
         "tracegroupgap": 0
        },
        "margin": {
         "t": 60
        },
        "template": {
         "data": {
          "bar": [
           {
            "error_x": {
             "color": "#2a3f5f"
            },
            "error_y": {
             "color": "#2a3f5f"
            },
            "marker": {
             "line": {
              "color": "#E5ECF6",
              "width": 0.5
             },
             "pattern": {
              "fillmode": "overlay",
              "size": 10,
              "solidity": 0.2
             }
            },
            "type": "bar"
           }
          ],
          "barpolar": [
           {
            "marker": {
             "line": {
              "color": "#E5ECF6",
              "width": 0.5
             },
             "pattern": {
              "fillmode": "overlay",
              "size": 10,
              "solidity": 0.2
             }
            },
            "type": "barpolar"
           }
          ],
          "carpet": [
           {
            "aaxis": {
             "endlinecolor": "#2a3f5f",
             "gridcolor": "white",
             "linecolor": "white",
             "minorgridcolor": "white",
             "startlinecolor": "#2a3f5f"
            },
            "baxis": {
             "endlinecolor": "#2a3f5f",
             "gridcolor": "white",
             "linecolor": "white",
             "minorgridcolor": "white",
             "startlinecolor": "#2a3f5f"
            },
            "type": "carpet"
           }
          ],
          "choropleth": [
           {
            "colorbar": {
             "outlinewidth": 0,
             "ticks": ""
            },
            "type": "choropleth"
           }
          ],
          "contour": [
           {
            "colorbar": {
             "outlinewidth": 0,
             "ticks": ""
            },
            "colorscale": [
             [
              0,
              "#0d0887"
             ],
             [
              0.1111111111111111,
              "#46039f"
             ],
             [
              0.2222222222222222,
              "#7201a8"
             ],
             [
              0.3333333333333333,
              "#9c179e"
             ],
             [
              0.4444444444444444,
              "#bd3786"
             ],
             [
              0.5555555555555556,
              "#d8576b"
             ],
             [
              0.6666666666666666,
              "#ed7953"
             ],
             [
              0.7777777777777778,
              "#fb9f3a"
             ],
             [
              0.8888888888888888,
              "#fdca26"
             ],
             [
              1,
              "#f0f921"
             ]
            ],
            "type": "contour"
           }
          ],
          "contourcarpet": [
           {
            "colorbar": {
             "outlinewidth": 0,
             "ticks": ""
            },
            "type": "contourcarpet"
           }
          ],
          "heatmap": [
           {
            "colorbar": {
             "outlinewidth": 0,
             "ticks": ""
            },
            "colorscale": [
             [
              0,
              "#0d0887"
             ],
             [
              0.1111111111111111,
              "#46039f"
             ],
             [
              0.2222222222222222,
              "#7201a8"
             ],
             [
              0.3333333333333333,
              "#9c179e"
             ],
             [
              0.4444444444444444,
              "#bd3786"
             ],
             [
              0.5555555555555556,
              "#d8576b"
             ],
             [
              0.6666666666666666,
              "#ed7953"
             ],
             [
              0.7777777777777778,
              "#fb9f3a"
             ],
             [
              0.8888888888888888,
              "#fdca26"
             ],
             [
              1,
              "#f0f921"
             ]
            ],
            "type": "heatmap"
           }
          ],
          "heatmapgl": [
           {
            "colorbar": {
             "outlinewidth": 0,
             "ticks": ""
            },
            "colorscale": [
             [
              0,
              "#0d0887"
             ],
             [
              0.1111111111111111,
              "#46039f"
             ],
             [
              0.2222222222222222,
              "#7201a8"
             ],
             [
              0.3333333333333333,
              "#9c179e"
             ],
             [
              0.4444444444444444,
              "#bd3786"
             ],
             [
              0.5555555555555556,
              "#d8576b"
             ],
             [
              0.6666666666666666,
              "#ed7953"
             ],
             [
              0.7777777777777778,
              "#fb9f3a"
             ],
             [
              0.8888888888888888,
              "#fdca26"
             ],
             [
              1,
              "#f0f921"
             ]
            ],
            "type": "heatmapgl"
           }
          ],
          "histogram": [
           {
            "marker": {
             "pattern": {
              "fillmode": "overlay",
              "size": 10,
              "solidity": 0.2
             }
            },
            "type": "histogram"
           }
          ],
          "histogram2d": [
           {
            "colorbar": {
             "outlinewidth": 0,
             "ticks": ""
            },
            "colorscale": [
             [
              0,
              "#0d0887"
             ],
             [
              0.1111111111111111,
              "#46039f"
             ],
             [
              0.2222222222222222,
              "#7201a8"
             ],
             [
              0.3333333333333333,
              "#9c179e"
             ],
             [
              0.4444444444444444,
              "#bd3786"
             ],
             [
              0.5555555555555556,
              "#d8576b"
             ],
             [
              0.6666666666666666,
              "#ed7953"
             ],
             [
              0.7777777777777778,
              "#fb9f3a"
             ],
             [
              0.8888888888888888,
              "#fdca26"
             ],
             [
              1,
              "#f0f921"
             ]
            ],
            "type": "histogram2d"
           }
          ],
          "histogram2dcontour": [
           {
            "colorbar": {
             "outlinewidth": 0,
             "ticks": ""
            },
            "colorscale": [
             [
              0,
              "#0d0887"
             ],
             [
              0.1111111111111111,
              "#46039f"
             ],
             [
              0.2222222222222222,
              "#7201a8"
             ],
             [
              0.3333333333333333,
              "#9c179e"
             ],
             [
              0.4444444444444444,
              "#bd3786"
             ],
             [
              0.5555555555555556,
              "#d8576b"
             ],
             [
              0.6666666666666666,
              "#ed7953"
             ],
             [
              0.7777777777777778,
              "#fb9f3a"
             ],
             [
              0.8888888888888888,
              "#fdca26"
             ],
             [
              1,
              "#f0f921"
             ]
            ],
            "type": "histogram2dcontour"
           }
          ],
          "mesh3d": [
           {
            "colorbar": {
             "outlinewidth": 0,
             "ticks": ""
            },
            "type": "mesh3d"
           }
          ],
          "parcoords": [
           {
            "line": {
             "colorbar": {
              "outlinewidth": 0,
              "ticks": ""
             }
            },
            "type": "parcoords"
           }
          ],
          "pie": [
           {
            "automargin": true,
            "type": "pie"
           }
          ],
          "scatter": [
           {
            "marker": {
             "colorbar": {
              "outlinewidth": 0,
              "ticks": ""
             }
            },
            "type": "scatter"
           }
          ],
          "scatter3d": [
           {
            "line": {
             "colorbar": {
              "outlinewidth": 0,
              "ticks": ""
             }
            },
            "marker": {
             "colorbar": {
              "outlinewidth": 0,
              "ticks": ""
             }
            },
            "type": "scatter3d"
           }
          ],
          "scattercarpet": [
           {
            "marker": {
             "colorbar": {
              "outlinewidth": 0,
              "ticks": ""
             }
            },
            "type": "scattercarpet"
           }
          ],
          "scattergeo": [
           {
            "marker": {
             "colorbar": {
              "outlinewidth": 0,
              "ticks": ""
             }
            },
            "type": "scattergeo"
           }
          ],
          "scattergl": [
           {
            "marker": {
             "colorbar": {
              "outlinewidth": 0,
              "ticks": ""
             }
            },
            "type": "scattergl"
           }
          ],
          "scattermapbox": [
           {
            "marker": {
             "colorbar": {
              "outlinewidth": 0,
              "ticks": ""
             }
            },
            "type": "scattermapbox"
           }
          ],
          "scatterpolar": [
           {
            "marker": {
             "colorbar": {
              "outlinewidth": 0,
              "ticks": ""
             }
            },
            "type": "scatterpolar"
           }
          ],
          "scatterpolargl": [
           {
            "marker": {
             "colorbar": {
              "outlinewidth": 0,
              "ticks": ""
             }
            },
            "type": "scatterpolargl"
           }
          ],
          "scatterternary": [
           {
            "marker": {
             "colorbar": {
              "outlinewidth": 0,
              "ticks": ""
             }
            },
            "type": "scatterternary"
           }
          ],
          "surface": [
           {
            "colorbar": {
             "outlinewidth": 0,
             "ticks": ""
            },
            "colorscale": [
             [
              0,
              "#0d0887"
             ],
             [
              0.1111111111111111,
              "#46039f"
             ],
             [
              0.2222222222222222,
              "#7201a8"
             ],
             [
              0.3333333333333333,
              "#9c179e"
             ],
             [
              0.4444444444444444,
              "#bd3786"
             ],
             [
              0.5555555555555556,
              "#d8576b"
             ],
             [
              0.6666666666666666,
              "#ed7953"
             ],
             [
              0.7777777777777778,
              "#fb9f3a"
             ],
             [
              0.8888888888888888,
              "#fdca26"
             ],
             [
              1,
              "#f0f921"
             ]
            ],
            "type": "surface"
           }
          ],
          "table": [
           {
            "cells": {
             "fill": {
              "color": "#EBF0F8"
             },
             "line": {
              "color": "white"
             }
            },
            "header": {
             "fill": {
              "color": "#C8D4E3"
             },
             "line": {
              "color": "white"
             }
            },
            "type": "table"
           }
          ]
         },
         "layout": {
          "annotationdefaults": {
           "arrowcolor": "#2a3f5f",
           "arrowhead": 0,
           "arrowwidth": 1
          },
          "autotypenumbers": "strict",
          "coloraxis": {
           "colorbar": {
            "outlinewidth": 0,
            "ticks": ""
           }
          },
          "colorscale": {
           "diverging": [
            [
             0,
             "#8e0152"
            ],
            [
             0.1,
             "#c51b7d"
            ],
            [
             0.2,
             "#de77ae"
            ],
            [
             0.3,
             "#f1b6da"
            ],
            [
             0.4,
             "#fde0ef"
            ],
            [
             0.5,
             "#f7f7f7"
            ],
            [
             0.6,
             "#e6f5d0"
            ],
            [
             0.7,
             "#b8e186"
            ],
            [
             0.8,
             "#7fbc41"
            ],
            [
             0.9,
             "#4d9221"
            ],
            [
             1,
             "#276419"
            ]
           ],
           "sequential": [
            [
             0,
             "#0d0887"
            ],
            [
             0.1111111111111111,
             "#46039f"
            ],
            [
             0.2222222222222222,
             "#7201a8"
            ],
            [
             0.3333333333333333,
             "#9c179e"
            ],
            [
             0.4444444444444444,
             "#bd3786"
            ],
            [
             0.5555555555555556,
             "#d8576b"
            ],
            [
             0.6666666666666666,
             "#ed7953"
            ],
            [
             0.7777777777777778,
             "#fb9f3a"
            ],
            [
             0.8888888888888888,
             "#fdca26"
            ],
            [
             1,
             "#f0f921"
            ]
           ],
           "sequentialminus": [
            [
             0,
             "#0d0887"
            ],
            [
             0.1111111111111111,
             "#46039f"
            ],
            [
             0.2222222222222222,
             "#7201a8"
            ],
            [
             0.3333333333333333,
             "#9c179e"
            ],
            [
             0.4444444444444444,
             "#bd3786"
            ],
            [
             0.5555555555555556,
             "#d8576b"
            ],
            [
             0.6666666666666666,
             "#ed7953"
            ],
            [
             0.7777777777777778,
             "#fb9f3a"
            ],
            [
             0.8888888888888888,
             "#fdca26"
            ],
            [
             1,
             "#f0f921"
            ]
           ]
          },
          "colorway": [
           "#636efa",
           "#EF553B",
           "#00cc96",
           "#ab63fa",
           "#FFA15A",
           "#19d3f3",
           "#FF6692",
           "#B6E880",
           "#FF97FF",
           "#FECB52"
          ],
          "font": {
           "color": "#2a3f5f"
          },
          "geo": {
           "bgcolor": "white",
           "lakecolor": "white",
           "landcolor": "#E5ECF6",
           "showlakes": true,
           "showland": true,
           "subunitcolor": "white"
          },
          "hoverlabel": {
           "align": "left"
          },
          "hovermode": "closest",
          "mapbox": {
           "style": "light"
          },
          "paper_bgcolor": "white",
          "plot_bgcolor": "#E5ECF6",
          "polar": {
           "angularaxis": {
            "gridcolor": "white",
            "linecolor": "white",
            "ticks": ""
           },
           "bgcolor": "#E5ECF6",
           "radialaxis": {
            "gridcolor": "white",
            "linecolor": "white",
            "ticks": ""
           }
          },
          "scene": {
           "xaxis": {
            "backgroundcolor": "#E5ECF6",
            "gridcolor": "white",
            "gridwidth": 2,
            "linecolor": "white",
            "showbackground": true,
            "ticks": "",
            "zerolinecolor": "white"
           },
           "yaxis": {
            "backgroundcolor": "#E5ECF6",
            "gridcolor": "white",
            "gridwidth": 2,
            "linecolor": "white",
            "showbackground": true,
            "ticks": "",
            "zerolinecolor": "white"
           },
           "zaxis": {
            "backgroundcolor": "#E5ECF6",
            "gridcolor": "white",
            "gridwidth": 2,
            "linecolor": "white",
            "showbackground": true,
            "ticks": "",
            "zerolinecolor": "white"
           }
          },
          "shapedefaults": {
           "line": {
            "color": "#2a3f5f"
           }
          },
          "ternary": {
           "aaxis": {
            "gridcolor": "white",
            "linecolor": "white",
            "ticks": ""
           },
           "baxis": {
            "gridcolor": "white",
            "linecolor": "white",
            "ticks": ""
           },
           "bgcolor": "#E5ECF6",
           "caxis": {
            "gridcolor": "white",
            "linecolor": "white",
            "ticks": ""
           }
          },
          "title": {
           "x": 0.05
          },
          "xaxis": {
           "automargin": true,
           "gridcolor": "white",
           "linecolor": "white",
           "ticks": "",
           "title": {
            "standoff": 15
           },
           "zerolinecolor": "white",
           "zerolinewidth": 2
          },
          "yaxis": {
           "automargin": true,
           "gridcolor": "white",
           "linecolor": "white",
           "ticks": "",
           "title": {
            "standoff": 15
           },
           "zerolinecolor": "white",
           "zerolinewidth": 2
          }
         }
        }
       }
      }
     },
     "metadata": {},
     "output_type": "display_data"
    }
   ],
   "source": [
    "\n",
    "value = 2006\n",
    "country_dropdown = 'Portugal'\n",
    "labels_dict ={'Oil products domestic consumption (Mt)': 'Oil',\n",
    "           'Natural gas domestic consumption (bcm)': 'Gas',\n",
    "           'Coal and lignite domestic consumption (Mt)': 'Coal', \n",
    "           'Electricity domestic consumption (TWh)': 'Electricity'}\n",
    "\n",
    "\n",
    "dff2 = file.copy()\n",
    "dff2 = dff2[dff2['Year'] == value]\n",
    "dff2 = dff2[dff2['Country'] == country_dropdown]\n",
    "dff2 = dff2[['Oil products domestic consumption (Mt)','Natural gas domestic consumption (bcm)',\n",
    "            'Coal and lignite domestic consumption (Mt)','Electricity domestic consumption (TWh)']]\n",
    "\n",
    "#fig = go.Figure(data=[go.Pie(labels= list(labels_dict.values()), values= list(dff2.values), hole=.8)])\n",
    "#fig\n",
    "\n",
    "\n",
    "piechart=px.pie(\n",
    "            data_frame=dff2,\n",
    "            values = dff2.values.tolist()[0],\n",
    "            names= list(labels_dict.values()),\n",
    "            hole=.8)\n",
    "\n",
    "piechart          \n"
   ]
  },
  {
   "cell_type": "code",
   "execution_count": 2,
   "metadata": {},
   "outputs": [
    {
     "data": {
      "text/plain": [
       "'vscode'"
      ]
     },
     "execution_count": 2,
     "metadata": {},
     "output_type": "execute_result"
    }
   ],
   "source": [
    "import plotly.io as pio\n",
    "pio.renderers.default"
   ]
  },
  {
   "cell_type": "code",
   "execution_count": 8,
   "metadata": {},
   "outputs": [
    {
     "data": {
      "text/plain": [
       "'Germany'"
      ]
     },
     "execution_count": 8,
     "metadata": {},
     "output_type": "execute_result"
    }
   ],
   "source": [
    "import pandas as pd\n",
    "df = pd.read_csv('ActualDataset.csv')\n"
   ]
  },
  {
   "cell_type": "code",
   "execution_count": 6,
   "metadata": {},
   "outputs": [
    {
     "data": {
      "text/plain": [
       "Index(['Unnamed: 0', 'Country', 'Year', 'Total energy production (Mtoe)',\n",
       "       'Energy balance of trade (Mtoe)', 'Total energy consumption (Mtoe)',\n",
       "       'Energy intensity of GDP at constant purchasing power parities (koe/$15p)',\n",
       "       'Crude oil production (Mt)', 'Crude oil balance of trade (Mt)',\n",
       "       'Refined oil products production (Mt)',\n",
       "       'Oil products balance of trade (Mt)',\n",
       "       'Oil products domestic consumption (Mt)',\n",
       "       'Natural gas production (bcm)', 'Natural gas balance of trade (bcm)',\n",
       "       'Natural gas domestic consumption (bcm)', 'LNG balance of trade (bcm)',\n",
       "       'Coal and lignite production (Mt)',\n",
       "       'Coal and lignite balance of trade (Mt)',\n",
       "       'Coal and lignite domestic consumption (Mt)',\n",
       "       'Electricity production (TWh)', 'Electricity balance of trade (TWh)',\n",
       "       'Electricity domestic consumption (TWh)',\n",
       "       'Share of electricity in total final energy consumption (%)',\n",
       "       'Share of renewables in electricity production (%)',\n",
       "       'Share of wind and solar in electricity production (%)',\n",
       "       'CO2 emissions from fuel combustion (MtCO2)',\n",
       "       'CO2 intensity at constant purchasing power parities (kCO2/$15p)',\n",
       "       'Average CO2 emission factor (tCO2/toe)', 'pop_est', 'continent',\n",
       "       'name', 'iso_a3', 'gdp_md_est', 'geometry'],\n",
       "      dtype='object')"
      ]
     },
     "execution_count": 6,
     "metadata": {},
     "output_type": "execute_result"
    }
   ],
   "source": [
    "df.columns\n"
   ]
  },
  {
   "cell_type": "code",
   "execution_count": null,
   "metadata": {},
   "outputs": [],
   "source": []
  }
 ],
 "metadata": {
  "interpreter": {
   "hash": "714340d0a253b5b8eccbbe1a50241ce94ec688c52e45e5cc3109e13393bc02a4"
  },
  "kernelspec": {
   "display_name": "Python 3.9.12 ('mlp')",
   "language": "python",
   "name": "python3"
  },
  "language_info": {
   "codemirror_mode": {
    "name": "ipython",
    "version": 3
   },
   "file_extension": ".py",
   "mimetype": "text/x-python",
   "name": "python",
   "nbconvert_exporter": "python",
   "pygments_lexer": "ipython3",
   "version": "3.9.12"
  },
  "orig_nbformat": 4
 },
 "nbformat": 4,
 "nbformat_minor": 2
}
